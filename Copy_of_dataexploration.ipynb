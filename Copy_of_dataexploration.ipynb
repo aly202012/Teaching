{
  "nbformat": 4,
  "nbformat_minor": 0,
  "metadata": {
    "colab": {
      "name": "Copy of dataexploration.ipynb",
      "provenance": [],
      "collapsed_sections": [],
      "authorship_tag": "ABX9TyO7zF116l+NGnxB69c+Ger9",
      "include_colab_link": true
    },
    "kernelspec": {
      "display_name": "Python 3",
      "name": "python3"
    }
  },
  "cells": [
    {
      "cell_type": "markdown",
      "metadata": {
        "id": "view-in-github",
        "colab_type": "text"
      },
      "source": [
        "<a href=\"https://colab.research.google.com/github/aly202012/Teaching/blob/master/Copy_of_dataexploration.ipynb\" target=\"_parent\"><img src=\"https://colab.research.google.com/assets/colab-badge.svg\" alt=\"Open In Colab\"/></a>"
      ]
    },
    {
      "cell_type": "code",
      "metadata": {
        "colab": {
          "base_uri": "https://localhost:8080/"
        },
        "id": "AEHFsvvFEwCe",
        "outputId": "00e4d123-472d-457f-9f13-545cdd73e29f"
      },
      "source": [
        "data = [50,50,47,97,49,3,53,42,26,74,82,62,37,15,70,27,36,35,48,52,63,64]\r\n",
        "print(data)"
      ],
      "execution_count": null,
      "outputs": [
        {
          "output_type": "stream",
          "text": [
            "[50, 50, 47, 97, 49, 3, 53, 42, 26, 74, 82, 62, 37, 15, 70, 27, 36, 35, 48, 52, 63, 64]\n"
          ],
          "name": "stdout"
        }
      ]
    },
    {
      "cell_type": "code",
      "metadata": {
        "id": "4XH8ITcrAjor",
        "colab": {
          "base_uri": "https://localhost:8080/"
        },
        "outputId": "eb305e8f-5e0e-4414-a121-dd7a8ab3e0ed"
      },
      "source": [
        "import numpy as np\r\n",
        "\r\n",
        "grades = np.array(data)\r\n",
        "print(grades)"
      ],
      "execution_count": null,
      "outputs": [
        {
          "output_type": "stream",
          "text": [
            "[50 50 47 97 49  3 53 42 26 74 82 62 37 15 70 27 36 35 48 52 63 64]\n"
          ],
          "name": "stdout"
        }
      ]
    },
    {
      "cell_type": "code",
      "metadata": {
        "colab": {
          "base_uri": "https://localhost:8080/"
        },
        "id": "8ldjgnwFe9BL",
        "outputId": "45960a1b-5198-4fe9-d581-cb4ebbdf4dba"
      },
      "source": [
        "# حدثت مضاعفه للبيانات الاصليه من حيث العدد\r\n",
        "print (type(data),'x 2:', data * 2)\r\n",
        "print('---')\r\n",
        "# تم تطبيق عمليه حسابيه علي القيم الموجوده وبالتالي تضاعفت الارقام من حيث القيمه \r\n",
        "print (type(grades),'x 2:', grades * 2)"
      ],
      "execution_count": null,
      "outputs": [
        {
          "output_type": "stream",
          "text": [
            "<class 'list'> x 2: [50, 50, 47, 97, 49, 3, 53, 42, 26, 74, 82, 62, 37, 15, 70, 27, 36, 35, 48, 52, 63, 64, 50, 50, 47, 97, 49, 3, 53, 42, 26, 74, 82, 62, 37, 15, 70, 27, 36, 35, 48, 52, 63, 64]\n",
            "---\n",
            "<class 'numpy.ndarray'> x 2: [100 100  94 194  98   6 106  84  52 148 164 124  74  30 140  54  72  70\n",
            "  96 104 126 128]\n"
          ],
          "name": "stdout"
        }
      ]
    },
    {
      "cell_type": "code",
      "metadata": {
        "colab": {
          "base_uri": "https://localhost:8080/"
        },
        "id": "bMJUKuNRgDOm",
        "outputId": "b6caf9b8-6a12-4087-f606-ef4b68a7606f"
      },
      "source": [
        "grades.shape\r\n",
        "# تلك البيانات مكونه من بعد واحد "
      ],
      "execution_count": null,
      "outputs": [
        {
          "output_type": "execute_result",
          "data": {
            "text/plain": [
              "(22,)"
            ]
          },
          "metadata": {
            "tags": []
          },
          "execution_count": 17
        }
      ]
    },
    {
      "cell_type": "code",
      "metadata": {
        "colab": {
          "base_uri": "https://localhost:8080/"
        },
        "id": "1XpiXYaBg0F5",
        "outputId": "1a27c12c-83d4-4aa9-c807-a609857d869f"
      },
      "source": [
        "grades[0]"
      ],
      "execution_count": null,
      "outputs": [
        {
          "output_type": "execute_result",
          "data": {
            "text/plain": [
              "50"
            ]
          },
          "metadata": {
            "tags": []
          },
          "execution_count": 18
        }
      ]
    },
    {
      "cell_type": "code",
      "metadata": {
        "colab": {
          "base_uri": "https://localhost:8080/"
        },
        "id": "tPoJlQoChAWJ",
        "outputId": "e7c7c6ac-351e-4474-844c-b4d002452a68"
      },
      "source": [
        "grades.mean()\r\n",
        "# تم اجراء عمليه احصائيه علي تلك البيانات "
      ],
      "execution_count": null,
      "outputs": [
        {
          "output_type": "execute_result",
          "data": {
            "text/plain": [
              "49.18181818181818"
            ]
          },
          "metadata": {
            "tags": []
          },
          "execution_count": 19
        }
      ]
    },
    {
      "cell_type": "code",
      "metadata": {
        "colab": {
          "base_uri": "https://localhost:8080/"
        },
        "id": "YoN9mFL0hEL-",
        "outputId": "d76895be-0b4d-4074-9e73-b2194feb7f3d"
      },
      "source": [
        "\r\n",
        "# Define an array of study hours\r\n",
        "study_hours = [10.0,11.5,9.0,16.0,9.25,1.0,11.5,9.0,8.5,14.5,15.5,\r\n",
        "               13.75,9.0,8.0,15.5,8.0,9.0,6.0,10.0,12.0,12.5,12.0]\r\n",
        "\r\n",
        "# Create a 2D array (an array of arrays)\r\n",
        "student_data = np.array([study_hours, grades])\r\n",
        "\r\n",
        "# display the array\r\n",
        "print(student_data)\r\n",
        "#في الناتج نلاح انه تم دمج المصفوفتان معا علي شكل مصفوفه ثنائيه الابعاد "
      ],
      "execution_count": null,
      "outputs": [
        {
          "output_type": "stream",
          "text": [
            "[[10.   11.5   9.   16.    9.25  1.   11.5   9.    8.5  14.5  15.5  13.75\n",
            "   9.    8.   15.5   8.    9.    6.   10.   12.   12.5  12.  ]\n",
            " [50.   50.   47.   97.   49.    3.   53.   42.   26.   74.   82.   62.\n",
            "  37.   15.   70.   27.   36.   35.   48.   52.   63.   64.  ]]\n"
          ],
          "name": "stdout"
        }
      ]
    },
    {
      "cell_type": "code",
      "metadata": {
        "colab": {
          "base_uri": "https://localhost:8080/"
        },
        "id": "JRtMMrWFhUjy",
        "outputId": "648dd987-f4b0-4466-8cce-a21c7dc3bcc1"
      },
      "source": [
        "\r\n",
        "# Show shape of 2D array\r\n",
        "student_data.shape"
      ],
      "execution_count": null,
      "outputs": [
        {
          "output_type": "execute_result",
          "data": {
            "text/plain": [
              "(2, 22)"
            ]
          },
          "metadata": {
            "tags": []
          },
          "execution_count": 22
        }
      ]
    },
    {
      "cell_type": "code",
      "metadata": {
        "colab": {
          "base_uri": "https://localhost:8080/"
        },
        "id": "09D0_bwrhoTR",
        "outputId": "aee74e8c-e8eb-48eb-8c70-59c5dd3c58ac"
      },
      "source": [
        "# يمكننا اضافه العديد / المزيد من الابعاد \r\n",
        "student_names=[\"ali\",\"b\",\"d\",\"e\",\"f\",\"g\",\"h\",\"i\",\"j\",\"k\",\"l\",\"m\",\"n\",\"o\",\"p\",\"q\",\"r\",\"s\",\"t\",\"u\",\"v\",\"w\"]\r\n",
        "print(student_names)\r\n",
        "newst_name=np.array(student_names)\r\n",
        "print(newst_name)\r\n",
        "mostudent_data=np.array([newst_name,study_hours, grades])\r\n",
        "print(mostudent_data)\r\n",
        "print(mostudent_data.shape)\r\n",
        "# Show the first element of the first element\r\n",
        "mostudent_data[0][0][0]"
      ],
      "execution_count": null,
      "outputs": [
        {
          "output_type": "stream",
          "text": [
            "['ali', 'b', 'd', 'e', 'f', 'g', 'h', 'i', 'j', 'k', 'l', 'm', 'n', 'o', 'p', 'q', 'r', 's', 't', 'u', 'v', 'w']\n",
            "['ali' 'b' 'd' 'e' 'f' 'g' 'h' 'i' 'j' 'k' 'l' 'm' 'n' 'o' 'p' 'q' 'r' 's'\n",
            " 't' 'u' 'v' 'w']\n",
            "[['ali' 'b' 'd' 'e' 'f' 'g' 'h' 'i' 'j' 'k' 'l' 'm' 'n' 'o' 'p' 'q' 'r'\n",
            "  's' 't' 'u' 'v' 'w']\n",
            " ['10.0' '11.5' '9.0' '16.0' '9.25' '1.0' '11.5' '9.0' '8.5' '14.5'\n",
            "  '15.5' '13.75' '9.0' '8.0' '15.5' '8.0' '9.0' '6.0' '10.0' '12.0'\n",
            "  '12.5' '12.0']\n",
            " ['50' '50' '47' '97' '49' '3' '53' '42' '26' '74' '82' '62' '37' '15'\n",
            "  '70' '27' '36' '35' '48' '52' '63' '64']]\n",
            "(3, 22)\n"
          ],
          "name": "stdout"
        },
        {
          "output_type": "execute_result",
          "data": {
            "text/plain": [
              "array(['ali', 'b', 'd', 'e', 'f', 'g', 'h', 'i', 'j', 'k', 'l', 'm', 'n',\n",
              "       'o', 'p', 'q', 'r', 's', 't', 'u', 'v', 'w'], dtype='<U21')"
            ]
          },
          "metadata": {
            "tags": []
          },
          "execution_count": 35
        }
      ]
    },
    {
      "cell_type": "code",
      "metadata": {
        "colab": {
          "base_uri": "https://localhost:8080/"
        },
        "id": "rJn7NXNNiiXX",
        "outputId": "83136651-10e6-484a-fc86-05e55ad5ca0e"
      },
      "source": [
        "# نعود لي موضوعنا الاساسي \r\n",
        "# Show the first element of the first element\r\n",
        "student_data[0][0]"
      ],
      "execution_count": null,
      "outputs": [
        {
          "output_type": "execute_result",
          "data": {
            "text/plain": [
              "10.0"
            ]
          },
          "metadata": {
            "tags": []
          },
          "execution_count": 34
        }
      ]
    },
    {
      "cell_type": "code",
      "metadata": {
        "colab": {
          "base_uri": "https://localhost:8080/"
        },
        "id": "8rdd_ingjfJG",
        "outputId": "36827c93-619f-4d2e-ec3f-707341dc2f3a"
      },
      "source": [
        "# Get the mean value of each sub-array\r\n",
        "avg_study = student_data[0].mean()\r\n",
        "avg_grade = student_data[1].mean()\r\n",
        "# هذا الكود يشبه كود اخر بالاسفل والغرض منه ايضا ايجاد فورم معين لمجموعه من العمليات الاحصائيه \r\n",
        "#print('Minimum:{:.2f}\\nMean:{:.2f}\\nMedian:{:.2f}\\nMode:{:.2f}\\nMaximum:{:.2f}\\n'.format(min_val,\r\n",
        " #                                                                                       mean_val,\r\n",
        "  #                                                                                      med_val,\r\n",
        "   #                                                                                     mod_val,\r\n",
        "    #                                                                                    max_val))\r\n",
        "\r\n",
        "print('Average study hours: {:.2f}\\nAverage grade: {:.2f}'.format(avg_study, avg_grade))"
      ],
      "execution_count": null,
      "outputs": [
        {
          "output_type": "stream",
          "text": [
            "Average study hours: 10.52\n",
            "Average grade: 49.18\n"
          ],
          "name": "stdout"
        }
      ]
    },
    {
      "cell_type": "markdown",
      "metadata": {
        "id": "bhRc3tyGkesB"
      },
      "source": [
        "starting with data frame\r\n"
      ]
    },
    {
      "cell_type": "code",
      "metadata": {
        "colab": {
          "base_uri": "https://localhost:8080/",
          "height": 731
        },
        "id": "AjITsqDHkqoh",
        "outputId": "30e0521d-3b4d-4d4b-c449-33699af2e961"
      },
      "source": [
        "\r\n",
        "import pandas as pd\r\n",
        "\r\n",
        "df_students = pd.DataFrame({'Name': ['Dan', 'Joann', 'Pedro', 'Rosie', 'Ethan', 'Vicky', 'Frederic', 'Jimmie', \r\n",
        "                                     'Rhonda', 'Giovanni', 'Francesca', 'Rajab', 'Naiyana', 'Kian', 'Jenny',\r\n",
        "                                     'Jakeem','Helena','Ismat','Anila','Skye','Daniel','Aisha'],\r\n",
        "                            'StudyHours':student_data[0],\r\n",
        "                            'Grade':student_data[1]})\r\n",
        "\r\n",
        "df_students"
      ],
      "execution_count": null,
      "outputs": [
        {
          "output_type": "execute_result",
          "data": {
            "text/html": [
              "<div>\n",
              "<style scoped>\n",
              "    .dataframe tbody tr th:only-of-type {\n",
              "        vertical-align: middle;\n",
              "    }\n",
              "\n",
              "    .dataframe tbody tr th {\n",
              "        vertical-align: top;\n",
              "    }\n",
              "\n",
              "    .dataframe thead th {\n",
              "        text-align: right;\n",
              "    }\n",
              "</style>\n",
              "<table border=\"1\" class=\"dataframe\">\n",
              "  <thead>\n",
              "    <tr style=\"text-align: right;\">\n",
              "      <th></th>\n",
              "      <th>Name</th>\n",
              "      <th>StudyHours</th>\n",
              "      <th>Grade</th>\n",
              "    </tr>\n",
              "  </thead>\n",
              "  <tbody>\n",
              "    <tr>\n",
              "      <th>0</th>\n",
              "      <td>Dan</td>\n",
              "      <td>10.00</td>\n",
              "      <td>50.0</td>\n",
              "    </tr>\n",
              "    <tr>\n",
              "      <th>1</th>\n",
              "      <td>Joann</td>\n",
              "      <td>11.50</td>\n",
              "      <td>50.0</td>\n",
              "    </tr>\n",
              "    <tr>\n",
              "      <th>2</th>\n",
              "      <td>Pedro</td>\n",
              "      <td>9.00</td>\n",
              "      <td>47.0</td>\n",
              "    </tr>\n",
              "    <tr>\n",
              "      <th>3</th>\n",
              "      <td>Rosie</td>\n",
              "      <td>16.00</td>\n",
              "      <td>97.0</td>\n",
              "    </tr>\n",
              "    <tr>\n",
              "      <th>4</th>\n",
              "      <td>Ethan</td>\n",
              "      <td>9.25</td>\n",
              "      <td>49.0</td>\n",
              "    </tr>\n",
              "    <tr>\n",
              "      <th>5</th>\n",
              "      <td>Vicky</td>\n",
              "      <td>1.00</td>\n",
              "      <td>3.0</td>\n",
              "    </tr>\n",
              "    <tr>\n",
              "      <th>6</th>\n",
              "      <td>Frederic</td>\n",
              "      <td>11.50</td>\n",
              "      <td>53.0</td>\n",
              "    </tr>\n",
              "    <tr>\n",
              "      <th>7</th>\n",
              "      <td>Jimmie</td>\n",
              "      <td>9.00</td>\n",
              "      <td>42.0</td>\n",
              "    </tr>\n",
              "    <tr>\n",
              "      <th>8</th>\n",
              "      <td>Rhonda</td>\n",
              "      <td>8.50</td>\n",
              "      <td>26.0</td>\n",
              "    </tr>\n",
              "    <tr>\n",
              "      <th>9</th>\n",
              "      <td>Giovanni</td>\n",
              "      <td>14.50</td>\n",
              "      <td>74.0</td>\n",
              "    </tr>\n",
              "    <tr>\n",
              "      <th>10</th>\n",
              "      <td>Francesca</td>\n",
              "      <td>15.50</td>\n",
              "      <td>82.0</td>\n",
              "    </tr>\n",
              "    <tr>\n",
              "      <th>11</th>\n",
              "      <td>Rajab</td>\n",
              "      <td>13.75</td>\n",
              "      <td>62.0</td>\n",
              "    </tr>\n",
              "    <tr>\n",
              "      <th>12</th>\n",
              "      <td>Naiyana</td>\n",
              "      <td>9.00</td>\n",
              "      <td>37.0</td>\n",
              "    </tr>\n",
              "    <tr>\n",
              "      <th>13</th>\n",
              "      <td>Kian</td>\n",
              "      <td>8.00</td>\n",
              "      <td>15.0</td>\n",
              "    </tr>\n",
              "    <tr>\n",
              "      <th>14</th>\n",
              "      <td>Jenny</td>\n",
              "      <td>15.50</td>\n",
              "      <td>70.0</td>\n",
              "    </tr>\n",
              "    <tr>\n",
              "      <th>15</th>\n",
              "      <td>Jakeem</td>\n",
              "      <td>8.00</td>\n",
              "      <td>27.0</td>\n",
              "    </tr>\n",
              "    <tr>\n",
              "      <th>16</th>\n",
              "      <td>Helena</td>\n",
              "      <td>9.00</td>\n",
              "      <td>36.0</td>\n",
              "    </tr>\n",
              "    <tr>\n",
              "      <th>17</th>\n",
              "      <td>Ismat</td>\n",
              "      <td>6.00</td>\n",
              "      <td>35.0</td>\n",
              "    </tr>\n",
              "    <tr>\n",
              "      <th>18</th>\n",
              "      <td>Anila</td>\n",
              "      <td>10.00</td>\n",
              "      <td>48.0</td>\n",
              "    </tr>\n",
              "    <tr>\n",
              "      <th>19</th>\n",
              "      <td>Skye</td>\n",
              "      <td>12.00</td>\n",
              "      <td>52.0</td>\n",
              "    </tr>\n",
              "    <tr>\n",
              "      <th>20</th>\n",
              "      <td>Daniel</td>\n",
              "      <td>12.50</td>\n",
              "      <td>63.0</td>\n",
              "    </tr>\n",
              "    <tr>\n",
              "      <th>21</th>\n",
              "      <td>Aisha</td>\n",
              "      <td>12.00</td>\n",
              "      <td>64.0</td>\n",
              "    </tr>\n",
              "  </tbody>\n",
              "</table>\n",
              "</div>"
            ],
            "text/plain": [
              "         Name  StudyHours  Grade\n",
              "0         Dan       10.00   50.0\n",
              "1       Joann       11.50   50.0\n",
              "2       Pedro        9.00   47.0\n",
              "3       Rosie       16.00   97.0\n",
              "4       Ethan        9.25   49.0\n",
              "5       Vicky        1.00    3.0\n",
              "6    Frederic       11.50   53.0\n",
              "7      Jimmie        9.00   42.0\n",
              "8      Rhonda        8.50   26.0\n",
              "9    Giovanni       14.50   74.0\n",
              "10  Francesca       15.50   82.0\n",
              "11      Rajab       13.75   62.0\n",
              "12    Naiyana        9.00   37.0\n",
              "13       Kian        8.00   15.0\n",
              "14      Jenny       15.50   70.0\n",
              "15     Jakeem        8.00   27.0\n",
              "16     Helena        9.00   36.0\n",
              "17      Ismat        6.00   35.0\n",
              "18      Anila       10.00   48.0\n",
              "19       Skye       12.00   52.0\n",
              "20     Daniel       12.50   63.0\n",
              "21      Aisha       12.00   64.0"
            ]
          },
          "metadata": {
            "tags": []
          },
          "execution_count": 71
        }
      ]
    },
    {
      "cell_type": "code",
      "metadata": {
        "colab": {
          "base_uri": "https://localhost:8080/",
          "height": 731
        },
        "id": "ICS73BjFktHN",
        "outputId": "7482dc91-c7b6-4060-8752-88f68fbd518a"
      },
      "source": [
        "# تم الامر يا صديقي \r\n",
        "import pandas as pd\r\n",
        "\r\n",
        "modf_students = pd.DataFrame({'Name': mostudent_data[0],\r\n",
        "                            'StudyHours':mostudent_data[1],\r\n",
        "                            'Grade':mostudent_data[2]})\r\n",
        "\r\n",
        "modf_students"
      ],
      "execution_count": null,
      "outputs": [
        {
          "output_type": "execute_result",
          "data": {
            "text/html": [
              "<div>\n",
              "<style scoped>\n",
              "    .dataframe tbody tr th:only-of-type {\n",
              "        vertical-align: middle;\n",
              "    }\n",
              "\n",
              "    .dataframe tbody tr th {\n",
              "        vertical-align: top;\n",
              "    }\n",
              "\n",
              "    .dataframe thead th {\n",
              "        text-align: right;\n",
              "    }\n",
              "</style>\n",
              "<table border=\"1\" class=\"dataframe\">\n",
              "  <thead>\n",
              "    <tr style=\"text-align: right;\">\n",
              "      <th></th>\n",
              "      <th>Name</th>\n",
              "      <th>StudyHours</th>\n",
              "      <th>Grade</th>\n",
              "    </tr>\n",
              "  </thead>\n",
              "  <tbody>\n",
              "    <tr>\n",
              "      <th>0</th>\n",
              "      <td>ali</td>\n",
              "      <td>10.0</td>\n",
              "      <td>50</td>\n",
              "    </tr>\n",
              "    <tr>\n",
              "      <th>1</th>\n",
              "      <td>b</td>\n",
              "      <td>11.5</td>\n",
              "      <td>50</td>\n",
              "    </tr>\n",
              "    <tr>\n",
              "      <th>2</th>\n",
              "      <td>d</td>\n",
              "      <td>9.0</td>\n",
              "      <td>47</td>\n",
              "    </tr>\n",
              "    <tr>\n",
              "      <th>3</th>\n",
              "      <td>e</td>\n",
              "      <td>16.0</td>\n",
              "      <td>97</td>\n",
              "    </tr>\n",
              "    <tr>\n",
              "      <th>4</th>\n",
              "      <td>f</td>\n",
              "      <td>9.25</td>\n",
              "      <td>49</td>\n",
              "    </tr>\n",
              "    <tr>\n",
              "      <th>5</th>\n",
              "      <td>g</td>\n",
              "      <td>1.0</td>\n",
              "      <td>3</td>\n",
              "    </tr>\n",
              "    <tr>\n",
              "      <th>6</th>\n",
              "      <td>h</td>\n",
              "      <td>11.5</td>\n",
              "      <td>53</td>\n",
              "    </tr>\n",
              "    <tr>\n",
              "      <th>7</th>\n",
              "      <td>i</td>\n",
              "      <td>9.0</td>\n",
              "      <td>42</td>\n",
              "    </tr>\n",
              "    <tr>\n",
              "      <th>8</th>\n",
              "      <td>j</td>\n",
              "      <td>8.5</td>\n",
              "      <td>26</td>\n",
              "    </tr>\n",
              "    <tr>\n",
              "      <th>9</th>\n",
              "      <td>k</td>\n",
              "      <td>14.5</td>\n",
              "      <td>74</td>\n",
              "    </tr>\n",
              "    <tr>\n",
              "      <th>10</th>\n",
              "      <td>l</td>\n",
              "      <td>15.5</td>\n",
              "      <td>82</td>\n",
              "    </tr>\n",
              "    <tr>\n",
              "      <th>11</th>\n",
              "      <td>m</td>\n",
              "      <td>13.75</td>\n",
              "      <td>62</td>\n",
              "    </tr>\n",
              "    <tr>\n",
              "      <th>12</th>\n",
              "      <td>n</td>\n",
              "      <td>9.0</td>\n",
              "      <td>37</td>\n",
              "    </tr>\n",
              "    <tr>\n",
              "      <th>13</th>\n",
              "      <td>o</td>\n",
              "      <td>8.0</td>\n",
              "      <td>15</td>\n",
              "    </tr>\n",
              "    <tr>\n",
              "      <th>14</th>\n",
              "      <td>p</td>\n",
              "      <td>15.5</td>\n",
              "      <td>70</td>\n",
              "    </tr>\n",
              "    <tr>\n",
              "      <th>15</th>\n",
              "      <td>q</td>\n",
              "      <td>8.0</td>\n",
              "      <td>27</td>\n",
              "    </tr>\n",
              "    <tr>\n",
              "      <th>16</th>\n",
              "      <td>r</td>\n",
              "      <td>9.0</td>\n",
              "      <td>36</td>\n",
              "    </tr>\n",
              "    <tr>\n",
              "      <th>17</th>\n",
              "      <td>s</td>\n",
              "      <td>6.0</td>\n",
              "      <td>35</td>\n",
              "    </tr>\n",
              "    <tr>\n",
              "      <th>18</th>\n",
              "      <td>t</td>\n",
              "      <td>10.0</td>\n",
              "      <td>48</td>\n",
              "    </tr>\n",
              "    <tr>\n",
              "      <th>19</th>\n",
              "      <td>u</td>\n",
              "      <td>12.0</td>\n",
              "      <td>52</td>\n",
              "    </tr>\n",
              "    <tr>\n",
              "      <th>20</th>\n",
              "      <td>v</td>\n",
              "      <td>12.5</td>\n",
              "      <td>63</td>\n",
              "    </tr>\n",
              "    <tr>\n",
              "      <th>21</th>\n",
              "      <td>w</td>\n",
              "      <td>12.0</td>\n",
              "      <td>64</td>\n",
              "    </tr>\n",
              "  </tbody>\n",
              "</table>\n",
              "</div>"
            ],
            "text/plain": [
              "   Name StudyHours Grade\n",
              "0   ali       10.0    50\n",
              "1     b       11.5    50\n",
              "2     d        9.0    47\n",
              "3     e       16.0    97\n",
              "4     f       9.25    49\n",
              "5     g        1.0     3\n",
              "6     h       11.5    53\n",
              "7     i        9.0    42\n",
              "8     j        8.5    26\n",
              "9     k       14.5    74\n",
              "10    l       15.5    82\n",
              "11    m      13.75    62\n",
              "12    n        9.0    37\n",
              "13    o        8.0    15\n",
              "14    p       15.5    70\n",
              "15    q        8.0    27\n",
              "16    r        9.0    36\n",
              "17    s        6.0    35\n",
              "18    t       10.0    48\n",
              "19    u       12.0    52\n",
              "20    v       12.5    63\n",
              "21    w       12.0    64"
            ]
          },
          "metadata": {
            "tags": []
          },
          "execution_count": 39
        }
      ]
    },
    {
      "cell_type": "code",
      "metadata": {
        "colab": {
          "base_uri": "https://localhost:8080/"
        },
        "id": "uDLyaX9wlXHZ",
        "outputId": "0e0f4c87-1da6-4e25-e9a4-09974ab7e1cc"
      },
      "source": [
        "# Get the data for index value 5\r\n",
        "df_students.loc[5]"
      ],
      "execution_count": null,
      "outputs": [
        {
          "output_type": "execute_result",
          "data": {
            "text/plain": [
              "Name          Vicky\n",
              "StudyHours        1\n",
              "Grade             3\n",
              "Name: 5, dtype: object"
            ]
          },
          "metadata": {
            "tags": []
          },
          "execution_count": 42
        }
      ]
    },
    {
      "cell_type": "code",
      "metadata": {
        "colab": {
          "base_uri": "https://localhost:8080/",
          "height": 235
        },
        "id": "OFSKR9dMlhlK",
        "outputId": "965e8b94-b964-4a1b-ea07-b11e50586f07"
      },
      "source": [
        "# Get the rows with index values from 0 to 5\r\n",
        "# The loc method returned rows with index label in the list of values from 0 to 5 - which includes 0, 1, 2, 3, 4, and 5 (six rows). \r\n",
        "df_students.loc[0:5]"
      ],
      "execution_count": null,
      "outputs": [
        {
          "output_type": "execute_result",
          "data": {
            "text/html": [
              "<div>\n",
              "<style scoped>\n",
              "    .dataframe tbody tr th:only-of-type {\n",
              "        vertical-align: middle;\n",
              "    }\n",
              "\n",
              "    .dataframe tbody tr th {\n",
              "        vertical-align: top;\n",
              "    }\n",
              "\n",
              "    .dataframe thead th {\n",
              "        text-align: right;\n",
              "    }\n",
              "</style>\n",
              "<table border=\"1\" class=\"dataframe\">\n",
              "  <thead>\n",
              "    <tr style=\"text-align: right;\">\n",
              "      <th></th>\n",
              "      <th>Name</th>\n",
              "      <th>StudyHours</th>\n",
              "      <th>Grade</th>\n",
              "    </tr>\n",
              "  </thead>\n",
              "  <tbody>\n",
              "    <tr>\n",
              "      <th>0</th>\n",
              "      <td>Dan</td>\n",
              "      <td>10.00</td>\n",
              "      <td>50.0</td>\n",
              "    </tr>\n",
              "    <tr>\n",
              "      <th>1</th>\n",
              "      <td>Joann</td>\n",
              "      <td>11.50</td>\n",
              "      <td>50.0</td>\n",
              "    </tr>\n",
              "    <tr>\n",
              "      <th>2</th>\n",
              "      <td>Pedro</td>\n",
              "      <td>9.00</td>\n",
              "      <td>47.0</td>\n",
              "    </tr>\n",
              "    <tr>\n",
              "      <th>3</th>\n",
              "      <td>Rosie</td>\n",
              "      <td>16.00</td>\n",
              "      <td>97.0</td>\n",
              "    </tr>\n",
              "    <tr>\n",
              "      <th>4</th>\n",
              "      <td>Ethan</td>\n",
              "      <td>9.25</td>\n",
              "      <td>49.0</td>\n",
              "    </tr>\n",
              "    <tr>\n",
              "      <th>5</th>\n",
              "      <td>Vicky</td>\n",
              "      <td>1.00</td>\n",
              "      <td>3.0</td>\n",
              "    </tr>\n",
              "  </tbody>\n",
              "</table>\n",
              "</div>"
            ],
            "text/plain": [
              "    Name  StudyHours  Grade\n",
              "0    Dan       10.00   50.0\n",
              "1  Joann       11.50   50.0\n",
              "2  Pedro        9.00   47.0\n",
              "3  Rosie       16.00   97.0\n",
              "4  Ethan        9.25   49.0\n",
              "5  Vicky        1.00    3.0"
            ]
          },
          "metadata": {
            "tags": []
          },
          "execution_count": 43
        }
      ]
    },
    {
      "cell_type": "code",
      "metadata": {
        "colab": {
          "base_uri": "https://localhost:8080/",
          "height": 204
        },
        "id": "OfMYxD44l6XJ",
        "outputId": "0a7c42fe-9bd9-4f6b-9c23-b2cbb2f84667"
      },
      "source": [
        "# Get data in the first five rows\r\n",
        "# the iloc method returns the rows in the positions included in the range 0 to 5\r\n",
        "df_students.iloc[0:5]"
      ],
      "execution_count": null,
      "outputs": [
        {
          "output_type": "execute_result",
          "data": {
            "text/html": [
              "<div>\n",
              "<style scoped>\n",
              "    .dataframe tbody tr th:only-of-type {\n",
              "        vertical-align: middle;\n",
              "    }\n",
              "\n",
              "    .dataframe tbody tr th {\n",
              "        vertical-align: top;\n",
              "    }\n",
              "\n",
              "    .dataframe thead th {\n",
              "        text-align: right;\n",
              "    }\n",
              "</style>\n",
              "<table border=\"1\" class=\"dataframe\">\n",
              "  <thead>\n",
              "    <tr style=\"text-align: right;\">\n",
              "      <th></th>\n",
              "      <th>Name</th>\n",
              "      <th>StudyHours</th>\n",
              "      <th>Grade</th>\n",
              "    </tr>\n",
              "  </thead>\n",
              "  <tbody>\n",
              "    <tr>\n",
              "      <th>0</th>\n",
              "      <td>Dan</td>\n",
              "      <td>10.00</td>\n",
              "      <td>50.0</td>\n",
              "    </tr>\n",
              "    <tr>\n",
              "      <th>1</th>\n",
              "      <td>Joann</td>\n",
              "      <td>11.50</td>\n",
              "      <td>50.0</td>\n",
              "    </tr>\n",
              "    <tr>\n",
              "      <th>2</th>\n",
              "      <td>Pedro</td>\n",
              "      <td>9.00</td>\n",
              "      <td>47.0</td>\n",
              "    </tr>\n",
              "    <tr>\n",
              "      <th>3</th>\n",
              "      <td>Rosie</td>\n",
              "      <td>16.00</td>\n",
              "      <td>97.0</td>\n",
              "    </tr>\n",
              "    <tr>\n",
              "      <th>4</th>\n",
              "      <td>Ethan</td>\n",
              "      <td>9.25</td>\n",
              "      <td>49.0</td>\n",
              "    </tr>\n",
              "  </tbody>\n",
              "</table>\n",
              "</div>"
            ],
            "text/plain": [
              "    Name  StudyHours  Grade\n",
              "0    Dan       10.00   50.0\n",
              "1  Joann       11.50   50.0\n",
              "2  Pedro        9.00   47.0\n",
              "3  Rosie       16.00   97.0\n",
              "4  Ethan        9.25   49.0"
            ]
          },
          "metadata": {
            "tags": []
          },
          "execution_count": 44
        }
      ]
    },
    {
      "cell_type": "code",
      "metadata": {
        "colab": {
          "base_uri": "https://localhost:8080/"
        },
        "id": "w1AK_YkAmEGS",
        "outputId": "ab206b9b-6bce-48ef-bdf4-d05502f7675a"
      },
      "source": [
        "df_students.iloc[0,[1,2]]\r\n"
      ],
      "execution_count": null,
      "outputs": [
        {
          "output_type": "execute_result",
          "data": {
            "text/plain": [
              "StudyHours    10\n",
              "Grade         50\n",
              "Name: 0, dtype: object"
            ]
          },
          "metadata": {
            "tags": []
          },
          "execution_count": 47
        }
      ]
    },
    {
      "cell_type": "code",
      "metadata": {
        "colab": {
          "base_uri": "https://localhost:8080/"
        },
        "id": "r4wPQRUUmn82",
        "outputId": "a02f123b-b462-42ee-a595-a9175782752f"
      },
      "source": [
        "df_students.iloc[0,[0,1]]\r\n"
      ],
      "execution_count": null,
      "outputs": [
        {
          "output_type": "execute_result",
          "data": {
            "text/plain": [
              "Name          Dan\n",
              "StudyHours     10\n",
              "Name: 0, dtype: object"
            ]
          },
          "metadata": {
            "tags": []
          },
          "execution_count": 49
        }
      ]
    },
    {
      "cell_type": "code",
      "metadata": {
        "colab": {
          "base_uri": "https://localhost:8080/",
          "height": 80
        },
        "id": "JjCj7oifm3Uk",
        "outputId": "3ea676bf-1bda-4e67-8280-637171b8bcf5"
      },
      "source": [
        "df_students.loc[df_students['Name']=='Aisha']"
      ],
      "execution_count": null,
      "outputs": [
        {
          "output_type": "execute_result",
          "data": {
            "text/html": [
              "<div>\n",
              "<style scoped>\n",
              "    .dataframe tbody tr th:only-of-type {\n",
              "        vertical-align: middle;\n",
              "    }\n",
              "\n",
              "    .dataframe tbody tr th {\n",
              "        vertical-align: top;\n",
              "    }\n",
              "\n",
              "    .dataframe thead th {\n",
              "        text-align: right;\n",
              "    }\n",
              "</style>\n",
              "<table border=\"1\" class=\"dataframe\">\n",
              "  <thead>\n",
              "    <tr style=\"text-align: right;\">\n",
              "      <th></th>\n",
              "      <th>Name</th>\n",
              "      <th>StudyHours</th>\n",
              "      <th>Grade</th>\n",
              "    </tr>\n",
              "  </thead>\n",
              "  <tbody>\n",
              "    <tr>\n",
              "      <th>21</th>\n",
              "      <td>Aisha</td>\n",
              "      <td>12.0</td>\n",
              "      <td>64.0</td>\n",
              "    </tr>\n",
              "  </tbody>\n",
              "</table>\n",
              "</div>"
            ],
            "text/plain": [
              "     Name  StudyHours  Grade\n",
              "21  Aisha        12.0   64.0"
            ]
          },
          "metadata": {
            "tags": []
          },
          "execution_count": 50
        }
      ]
    },
    {
      "cell_type": "code",
      "metadata": {
        "colab": {
          "base_uri": "https://localhost:8080/",
          "height": 80
        },
        "id": "4eWtVxEZnDUq",
        "outputId": "70fd1a7d-8b66-45a6-f797-54986dfb5c0b"
      },
      "source": [
        "df_students[df_students['Name']=='Aisha']"
      ],
      "execution_count": null,
      "outputs": [
        {
          "output_type": "execute_result",
          "data": {
            "text/html": [
              "<div>\n",
              "<style scoped>\n",
              "    .dataframe tbody tr th:only-of-type {\n",
              "        vertical-align: middle;\n",
              "    }\n",
              "\n",
              "    .dataframe tbody tr th {\n",
              "        vertical-align: top;\n",
              "    }\n",
              "\n",
              "    .dataframe thead th {\n",
              "        text-align: right;\n",
              "    }\n",
              "</style>\n",
              "<table border=\"1\" class=\"dataframe\">\n",
              "  <thead>\n",
              "    <tr style=\"text-align: right;\">\n",
              "      <th></th>\n",
              "      <th>Name</th>\n",
              "      <th>StudyHours</th>\n",
              "      <th>Grade</th>\n",
              "    </tr>\n",
              "  </thead>\n",
              "  <tbody>\n",
              "    <tr>\n",
              "      <th>21</th>\n",
              "      <td>Aisha</td>\n",
              "      <td>12.0</td>\n",
              "      <td>64.0</td>\n",
              "    </tr>\n",
              "  </tbody>\n",
              "</table>\n",
              "</div>"
            ],
            "text/plain": [
              "     Name  StudyHours  Grade\n",
              "21  Aisha        12.0   64.0"
            ]
          },
          "metadata": {
            "tags": []
          },
          "execution_count": 51
        }
      ]
    },
    {
      "cell_type": "code",
      "metadata": {
        "colab": {
          "base_uri": "https://localhost:8080/",
          "height": 80
        },
        "id": "utd0g1cjnMTj",
        "outputId": "7fff54d1-7cf2-4967-d219-5acb220d3d79"
      },
      "source": [
        "df_students.query('Name==\"Aisha\"')\r\n"
      ],
      "execution_count": null,
      "outputs": [
        {
          "output_type": "execute_result",
          "data": {
            "text/html": [
              "<div>\n",
              "<style scoped>\n",
              "    .dataframe tbody tr th:only-of-type {\n",
              "        vertical-align: middle;\n",
              "    }\n",
              "\n",
              "    .dataframe tbody tr th {\n",
              "        vertical-align: top;\n",
              "    }\n",
              "\n",
              "    .dataframe thead th {\n",
              "        text-align: right;\n",
              "    }\n",
              "</style>\n",
              "<table border=\"1\" class=\"dataframe\">\n",
              "  <thead>\n",
              "    <tr style=\"text-align: right;\">\n",
              "      <th></th>\n",
              "      <th>Name</th>\n",
              "      <th>StudyHours</th>\n",
              "      <th>Grade</th>\n",
              "    </tr>\n",
              "  </thead>\n",
              "  <tbody>\n",
              "    <tr>\n",
              "      <th>21</th>\n",
              "      <td>Aisha</td>\n",
              "      <td>12.0</td>\n",
              "      <td>64.0</td>\n",
              "    </tr>\n",
              "  </tbody>\n",
              "</table>\n",
              "</div>"
            ],
            "text/plain": [
              "     Name  StudyHours  Grade\n",
              "21  Aisha        12.0   64.0"
            ]
          },
          "metadata": {
            "tags": []
          },
          "execution_count": 52
        }
      ]
    },
    {
      "cell_type": "code",
      "metadata": {
        "colab": {
          "base_uri": "https://localhost:8080/",
          "height": 479
        },
        "id": "ZmIdjlQ8nVqy",
        "outputId": "0f180ff8-bf85-4f56-9f99-8714476c5d27"
      },
      "source": [
        "df_students = pd.read_csv('flipkart_com-ecommerce_sample.csv',delimiter=',',header='infer')\r\n",
        "df_students.head()"
      ],
      "execution_count": null,
      "outputs": [
        {
          "output_type": "execute_result",
          "data": {
            "text/html": [
              "<div>\n",
              "<style scoped>\n",
              "    .dataframe tbody tr th:only-of-type {\n",
              "        vertical-align: middle;\n",
              "    }\n",
              "\n",
              "    .dataframe tbody tr th {\n",
              "        vertical-align: top;\n",
              "    }\n",
              "\n",
              "    .dataframe thead th {\n",
              "        text-align: right;\n",
              "    }\n",
              "</style>\n",
              "<table border=\"1\" class=\"dataframe\">\n",
              "  <thead>\n",
              "    <tr style=\"text-align: right;\">\n",
              "      <th></th>\n",
              "      <th>uniq_id</th>\n",
              "      <th>crawl_timestamp</th>\n",
              "      <th>product_url</th>\n",
              "      <th>product_name</th>\n",
              "      <th>product_category_tree</th>\n",
              "      <th>pid</th>\n",
              "      <th>retail_price</th>\n",
              "      <th>discounted_price</th>\n",
              "      <th>image</th>\n",
              "      <th>is_FK_Advantage_product</th>\n",
              "      <th>description</th>\n",
              "      <th>product_rating</th>\n",
              "      <th>overall_rating</th>\n",
              "      <th>brand</th>\n",
              "      <th>product_specifications</th>\n",
              "    </tr>\n",
              "  </thead>\n",
              "  <tbody>\n",
              "    <tr>\n",
              "      <th>0</th>\n",
              "      <td>c2d766ca982eca8304150849735ffef9</td>\n",
              "      <td>2016-03-25 22:59:23 +0000</td>\n",
              "      <td>http://www.flipkart.com/alisha-solid-women-s-c...</td>\n",
              "      <td>Alisha Solid Women's Cycling Shorts</td>\n",
              "      <td>[\"Clothing &gt;&gt; Women's Clothing &gt;&gt; Lingerie, Sl...</td>\n",
              "      <td>SRTEH2FF9KEDEFGF</td>\n",
              "      <td>999.0</td>\n",
              "      <td>379.0</td>\n",
              "      <td>[\"http://img5a.flixcart.com/image/short/u/4/a/...</td>\n",
              "      <td>False</td>\n",
              "      <td>Key Features of Alisha Solid Women's Cycling S...</td>\n",
              "      <td>No rating available</td>\n",
              "      <td>No rating available</td>\n",
              "      <td>Alisha</td>\n",
              "      <td>{\"product_specification\"=&gt;[{\"key\"=&gt;\"Number of ...</td>\n",
              "    </tr>\n",
              "    <tr>\n",
              "      <th>1</th>\n",
              "      <td>7f7036a6d550aaa89d34c77bd39a5e48</td>\n",
              "      <td>2016-03-25 22:59:23 +0000</td>\n",
              "      <td>http://www.flipkart.com/fabhomedecor-fabric-do...</td>\n",
              "      <td>FabHomeDecor Fabric Double Sofa Bed</td>\n",
              "      <td>[\"Furniture &gt;&gt; Living Room Furniture &gt;&gt; Sofa B...</td>\n",
              "      <td>SBEEH3QGU7MFYJFY</td>\n",
              "      <td>32157.0</td>\n",
              "      <td>22646.0</td>\n",
              "      <td>[\"http://img6a.flixcart.com/image/sofa-bed/j/f...</td>\n",
              "      <td>False</td>\n",
              "      <td>FabHomeDecor Fabric Double Sofa Bed (Finish Co...</td>\n",
              "      <td>No rating available</td>\n",
              "      <td>No rating available</td>\n",
              "      <td>FabHomeDecor</td>\n",
              "      <td>{\"product_specification\"=&gt;[{\"key\"=&gt;\"Installati...</td>\n",
              "    </tr>\n",
              "    <tr>\n",
              "      <th>2</th>\n",
              "      <td>f449ec65dcbc041b6ae5e6a32717d01b</td>\n",
              "      <td>2016-03-25 22:59:23 +0000</td>\n",
              "      <td>http://www.flipkart.com/aw-bellies/p/itmeh4grg...</td>\n",
              "      <td>AW Bellies</td>\n",
              "      <td>[\"Footwear &gt;&gt; Women's Footwear &gt;&gt; Ballerinas &gt;...</td>\n",
              "      <td>SHOEH4GRSUBJGZXE</td>\n",
              "      <td>999.0</td>\n",
              "      <td>499.0</td>\n",
              "      <td>[\"http://img5a.flixcart.com/image/shoe/7/z/z/r...</td>\n",
              "      <td>False</td>\n",
              "      <td>Key Features of AW Bellies Sandals Wedges Heel...</td>\n",
              "      <td>No rating available</td>\n",
              "      <td>No rating available</td>\n",
              "      <td>AW</td>\n",
              "      <td>{\"product_specification\"=&gt;[{\"key\"=&gt;\"Ideal For\"...</td>\n",
              "    </tr>\n",
              "    <tr>\n",
              "      <th>3</th>\n",
              "      <td>0973b37acd0c664e3de26e97e5571454</td>\n",
              "      <td>2016-03-25 22:59:23 +0000</td>\n",
              "      <td>http://www.flipkart.com/alisha-solid-women-s-c...</td>\n",
              "      <td>Alisha Solid Women's Cycling Shorts</td>\n",
              "      <td>[\"Clothing &gt;&gt; Women's Clothing &gt;&gt; Lingerie, Sl...</td>\n",
              "      <td>SRTEH2F6HUZMQ6SJ</td>\n",
              "      <td>699.0</td>\n",
              "      <td>267.0</td>\n",
              "      <td>[\"http://img5a.flixcart.com/image/short/6/2/h/...</td>\n",
              "      <td>False</td>\n",
              "      <td>Key Features of Alisha Solid Women's Cycling S...</td>\n",
              "      <td>No rating available</td>\n",
              "      <td>No rating available</td>\n",
              "      <td>Alisha</td>\n",
              "      <td>{\"product_specification\"=&gt;[{\"key\"=&gt;\"Number of ...</td>\n",
              "    </tr>\n",
              "    <tr>\n",
              "      <th>4</th>\n",
              "      <td>bc940ea42ee6bef5ac7cea3fb5cfbee7</td>\n",
              "      <td>2016-03-25 22:59:23 +0000</td>\n",
              "      <td>http://www.flipkart.com/sicons-all-purpose-arn...</td>\n",
              "      <td>Sicons All Purpose Arnica Dog Shampoo</td>\n",
              "      <td>[\"Pet Supplies &gt;&gt; Grooming &gt;&gt; Skin &amp; Coat Care...</td>\n",
              "      <td>PSOEH3ZYDMSYARJ5</td>\n",
              "      <td>220.0</td>\n",
              "      <td>210.0</td>\n",
              "      <td>[\"http://img5a.flixcart.com/image/pet-shampoo/...</td>\n",
              "      <td>False</td>\n",
              "      <td>Specifications of Sicons All Purpose Arnica Do...</td>\n",
              "      <td>No rating available</td>\n",
              "      <td>No rating available</td>\n",
              "      <td>Sicons</td>\n",
              "      <td>{\"product_specification\"=&gt;[{\"key\"=&gt;\"Pet Type\",...</td>\n",
              "    </tr>\n",
              "  </tbody>\n",
              "</table>\n",
              "</div>"
            ],
            "text/plain": [
              "                            uniq_id  ...                             product_specifications\n",
              "0  c2d766ca982eca8304150849735ffef9  ...  {\"product_specification\"=>[{\"key\"=>\"Number of ...\n",
              "1  7f7036a6d550aaa89d34c77bd39a5e48  ...  {\"product_specification\"=>[{\"key\"=>\"Installati...\n",
              "2  f449ec65dcbc041b6ae5e6a32717d01b  ...  {\"product_specification\"=>[{\"key\"=>\"Ideal For\"...\n",
              "3  0973b37acd0c664e3de26e97e5571454  ...  {\"product_specification\"=>[{\"key\"=>\"Number of ...\n",
              "4  bc940ea42ee6bef5ac7cea3fb5cfbee7  ...  {\"product_specification\"=>[{\"key\"=>\"Pet Type\",...\n",
              "\n",
              "[5 rows x 15 columns]"
            ]
          },
          "metadata": {
            "tags": []
          },
          "execution_count": 55
        }
      ]
    },
    {
      "cell_type": "code",
      "metadata": {
        "colab": {
          "base_uri": "https://localhost:8080/",
          "height": 439
        },
        "id": "6ue0D5r8nZ5z",
        "outputId": "35cfdd0f-68b3-4e7f-8618-3da8c980acf4"
      },
      "source": [
        "df_students.isnull()\r\n"
      ],
      "execution_count": null,
      "outputs": [
        {
          "output_type": "execute_result",
          "data": {
            "text/html": [
              "<div>\n",
              "<style scoped>\n",
              "    .dataframe tbody tr th:only-of-type {\n",
              "        vertical-align: middle;\n",
              "    }\n",
              "\n",
              "    .dataframe tbody tr th {\n",
              "        vertical-align: top;\n",
              "    }\n",
              "\n",
              "    .dataframe thead th {\n",
              "        text-align: right;\n",
              "    }\n",
              "</style>\n",
              "<table border=\"1\" class=\"dataframe\">\n",
              "  <thead>\n",
              "    <tr style=\"text-align: right;\">\n",
              "      <th></th>\n",
              "      <th>uniq_id</th>\n",
              "      <th>crawl_timestamp</th>\n",
              "      <th>product_url</th>\n",
              "      <th>product_name</th>\n",
              "      <th>product_category_tree</th>\n",
              "      <th>pid</th>\n",
              "      <th>retail_price</th>\n",
              "      <th>discounted_price</th>\n",
              "      <th>image</th>\n",
              "      <th>is_FK_Advantage_product</th>\n",
              "      <th>description</th>\n",
              "      <th>product_rating</th>\n",
              "      <th>overall_rating</th>\n",
              "      <th>brand</th>\n",
              "      <th>product_specifications</th>\n",
              "    </tr>\n",
              "  </thead>\n",
              "  <tbody>\n",
              "    <tr>\n",
              "      <th>0</th>\n",
              "      <td>False</td>\n",
              "      <td>False</td>\n",
              "      <td>False</td>\n",
              "      <td>False</td>\n",
              "      <td>False</td>\n",
              "      <td>False</td>\n",
              "      <td>False</td>\n",
              "      <td>False</td>\n",
              "      <td>False</td>\n",
              "      <td>False</td>\n",
              "      <td>False</td>\n",
              "      <td>False</td>\n",
              "      <td>False</td>\n",
              "      <td>False</td>\n",
              "      <td>False</td>\n",
              "    </tr>\n",
              "    <tr>\n",
              "      <th>1</th>\n",
              "      <td>False</td>\n",
              "      <td>False</td>\n",
              "      <td>False</td>\n",
              "      <td>False</td>\n",
              "      <td>False</td>\n",
              "      <td>False</td>\n",
              "      <td>False</td>\n",
              "      <td>False</td>\n",
              "      <td>False</td>\n",
              "      <td>False</td>\n",
              "      <td>False</td>\n",
              "      <td>False</td>\n",
              "      <td>False</td>\n",
              "      <td>False</td>\n",
              "      <td>False</td>\n",
              "    </tr>\n",
              "    <tr>\n",
              "      <th>2</th>\n",
              "      <td>False</td>\n",
              "      <td>False</td>\n",
              "      <td>False</td>\n",
              "      <td>False</td>\n",
              "      <td>False</td>\n",
              "      <td>False</td>\n",
              "      <td>False</td>\n",
              "      <td>False</td>\n",
              "      <td>False</td>\n",
              "      <td>False</td>\n",
              "      <td>False</td>\n",
              "      <td>False</td>\n",
              "      <td>False</td>\n",
              "      <td>False</td>\n",
              "      <td>False</td>\n",
              "    </tr>\n",
              "    <tr>\n",
              "      <th>3</th>\n",
              "      <td>False</td>\n",
              "      <td>False</td>\n",
              "      <td>False</td>\n",
              "      <td>False</td>\n",
              "      <td>False</td>\n",
              "      <td>False</td>\n",
              "      <td>False</td>\n",
              "      <td>False</td>\n",
              "      <td>False</td>\n",
              "      <td>False</td>\n",
              "      <td>False</td>\n",
              "      <td>False</td>\n",
              "      <td>False</td>\n",
              "      <td>False</td>\n",
              "      <td>False</td>\n",
              "    </tr>\n",
              "    <tr>\n",
              "      <th>4</th>\n",
              "      <td>False</td>\n",
              "      <td>False</td>\n",
              "      <td>False</td>\n",
              "      <td>False</td>\n",
              "      <td>False</td>\n",
              "      <td>False</td>\n",
              "      <td>False</td>\n",
              "      <td>False</td>\n",
              "      <td>False</td>\n",
              "      <td>False</td>\n",
              "      <td>False</td>\n",
              "      <td>False</td>\n",
              "      <td>False</td>\n",
              "      <td>False</td>\n",
              "      <td>False</td>\n",
              "    </tr>\n",
              "    <tr>\n",
              "      <th>...</th>\n",
              "      <td>...</td>\n",
              "      <td>...</td>\n",
              "      <td>...</td>\n",
              "      <td>...</td>\n",
              "      <td>...</td>\n",
              "      <td>...</td>\n",
              "      <td>...</td>\n",
              "      <td>...</td>\n",
              "      <td>...</td>\n",
              "      <td>...</td>\n",
              "      <td>...</td>\n",
              "      <td>...</td>\n",
              "      <td>...</td>\n",
              "      <td>...</td>\n",
              "      <td>...</td>\n",
              "    </tr>\n",
              "    <tr>\n",
              "      <th>3074</th>\n",
              "      <td>False</td>\n",
              "      <td>False</td>\n",
              "      <td>False</td>\n",
              "      <td>False</td>\n",
              "      <td>False</td>\n",
              "      <td>False</td>\n",
              "      <td>False</td>\n",
              "      <td>False</td>\n",
              "      <td>False</td>\n",
              "      <td>False</td>\n",
              "      <td>False</td>\n",
              "      <td>False</td>\n",
              "      <td>False</td>\n",
              "      <td>False</td>\n",
              "      <td>False</td>\n",
              "    </tr>\n",
              "    <tr>\n",
              "      <th>3075</th>\n",
              "      <td>False</td>\n",
              "      <td>False</td>\n",
              "      <td>False</td>\n",
              "      <td>False</td>\n",
              "      <td>False</td>\n",
              "      <td>False</td>\n",
              "      <td>False</td>\n",
              "      <td>False</td>\n",
              "      <td>False</td>\n",
              "      <td>False</td>\n",
              "      <td>False</td>\n",
              "      <td>False</td>\n",
              "      <td>False</td>\n",
              "      <td>False</td>\n",
              "      <td>False</td>\n",
              "    </tr>\n",
              "    <tr>\n",
              "      <th>3076</th>\n",
              "      <td>False</td>\n",
              "      <td>False</td>\n",
              "      <td>False</td>\n",
              "      <td>False</td>\n",
              "      <td>False</td>\n",
              "      <td>False</td>\n",
              "      <td>False</td>\n",
              "      <td>False</td>\n",
              "      <td>False</td>\n",
              "      <td>False</td>\n",
              "      <td>False</td>\n",
              "      <td>False</td>\n",
              "      <td>False</td>\n",
              "      <td>False</td>\n",
              "      <td>False</td>\n",
              "    </tr>\n",
              "    <tr>\n",
              "      <th>3077</th>\n",
              "      <td>False</td>\n",
              "      <td>False</td>\n",
              "      <td>False</td>\n",
              "      <td>False</td>\n",
              "      <td>False</td>\n",
              "      <td>False</td>\n",
              "      <td>False</td>\n",
              "      <td>False</td>\n",
              "      <td>False</td>\n",
              "      <td>False</td>\n",
              "      <td>False</td>\n",
              "      <td>False</td>\n",
              "      <td>False</td>\n",
              "      <td>False</td>\n",
              "      <td>False</td>\n",
              "    </tr>\n",
              "    <tr>\n",
              "      <th>3078</th>\n",
              "      <td>False</td>\n",
              "      <td>False</td>\n",
              "      <td>False</td>\n",
              "      <td>False</td>\n",
              "      <td>False</td>\n",
              "      <td>False</td>\n",
              "      <td>False</td>\n",
              "      <td>False</td>\n",
              "      <td>False</td>\n",
              "      <td>False</td>\n",
              "      <td>False</td>\n",
              "      <td>False</td>\n",
              "      <td>False</td>\n",
              "      <td>False</td>\n",
              "      <td>False</td>\n",
              "    </tr>\n",
              "  </tbody>\n",
              "</table>\n",
              "<p>3079 rows × 15 columns</p>\n",
              "</div>"
            ],
            "text/plain": [
              "      uniq_id  crawl_timestamp  ...  brand  product_specifications\n",
              "0       False            False  ...  False                   False\n",
              "1       False            False  ...  False                   False\n",
              "2       False            False  ...  False                   False\n",
              "3       False            False  ...  False                   False\n",
              "4       False            False  ...  False                   False\n",
              "...       ...              ...  ...    ...                     ...\n",
              "3074    False            False  ...  False                   False\n",
              "3075    False            False  ...  False                   False\n",
              "3076    False            False  ...  False                   False\n",
              "3077    False            False  ...  False                   False\n",
              "3078    False            False  ...  False                   False\n",
              "\n",
              "[3079 rows x 15 columns]"
            ]
          },
          "metadata": {
            "tags": []
          },
          "execution_count": 56
        }
      ]
    },
    {
      "cell_type": "code",
      "metadata": {
        "colab": {
          "base_uri": "https://localhost:8080/"
        },
        "id": "oo-Rln0no9Iw",
        "outputId": "114695c4-5549-4d61-9ea5-df77ee1a638f"
      },
      "source": [
        "# للحصول علي القيم المفقوده لكل عمود \r\n",
        "df_students.isnull().sum()\r\n"
      ],
      "execution_count": null,
      "outputs": [
        {
          "output_type": "execute_result",
          "data": {
            "text/plain": [
              "uniq_id                      0\n",
              "crawl_timestamp              0\n",
              "product_url                  0\n",
              "product_name                 0\n",
              "product_category_tree        0\n",
              "pid                          0\n",
              "retail_price                 7\n",
              "discounted_price             7\n",
              "image                        0\n",
              "is_FK_Advantage_product      0\n",
              "description                  1\n",
              "product_rating               0\n",
              "overall_rating               0\n",
              "brand                      703\n",
              "product_specifications       4\n",
              "dtype: int64"
            ]
          },
          "metadata": {
            "tags": []
          },
          "execution_count": 57
        }
      ]
    },
    {
      "cell_type": "code",
      "metadata": {
        "colab": {
          "base_uri": "https://localhost:8080/",
          "height": 1000
        },
        "id": "7pmCUT93pKRm",
        "outputId": "d7b37235-7964-4cd8-a321-22cac4a06358"
      },
      "source": [
        "# القيم المفقوده تظهر علي شكل نان NaN وليس شيء اخر \r\n",
        "df_students[df_students.isnull().any(axis=1)]"
      ],
      "execution_count": null,
      "outputs": [
        {
          "output_type": "execute_result",
          "data": {
            "text/html": [
              "<div>\n",
              "<style scoped>\n",
              "    .dataframe tbody tr th:only-of-type {\n",
              "        vertical-align: middle;\n",
              "    }\n",
              "\n",
              "    .dataframe tbody tr th {\n",
              "        vertical-align: top;\n",
              "    }\n",
              "\n",
              "    .dataframe thead th {\n",
              "        text-align: right;\n",
              "    }\n",
              "</style>\n",
              "<table border=\"1\" class=\"dataframe\">\n",
              "  <thead>\n",
              "    <tr style=\"text-align: right;\">\n",
              "      <th></th>\n",
              "      <th>uniq_id</th>\n",
              "      <th>crawl_timestamp</th>\n",
              "      <th>product_url</th>\n",
              "      <th>product_name</th>\n",
              "      <th>product_category_tree</th>\n",
              "      <th>pid</th>\n",
              "      <th>retail_price</th>\n",
              "      <th>discounted_price</th>\n",
              "      <th>image</th>\n",
              "      <th>is_FK_Advantage_product</th>\n",
              "      <th>description</th>\n",
              "      <th>product_rating</th>\n",
              "      <th>overall_rating</th>\n",
              "      <th>brand</th>\n",
              "      <th>product_specifications</th>\n",
              "    </tr>\n",
              "  </thead>\n",
              "  <tbody>\n",
              "    <tr>\n",
              "      <th>12</th>\n",
              "      <td>c29af37837afcaf44b779eca7c19295f</td>\n",
              "      <td>2016-03-25 22:59:23 +0000</td>\n",
              "      <td>http://www.flipkart.com/sicons-all-purpose-tea...</td>\n",
              "      <td>Sicons All Purpose Tea Tree Dog Shampoo</td>\n",
              "      <td>[\"Pet Supplies &gt;&gt; Grooming &gt;&gt; Skin &amp; Coat Care...</td>\n",
              "      <td>PSOEH3ZYYFETGCCD</td>\n",
              "      <td>NaN</td>\n",
              "      <td>NaN</td>\n",
              "      <td>[\"http://img6a.flixcart.com/image/pet-shampoo/...</td>\n",
              "      <td>False</td>\n",
              "      <td>Specifications of Sicons All Purpose Tea Tree ...</td>\n",
              "      <td>No rating available</td>\n",
              "      <td>No rating available</td>\n",
              "      <td>Sicons</td>\n",
              "      <td>{\"product_specification\"=&gt;[{\"key\"=&gt;\"Pet Type\",...</td>\n",
              "    </tr>\n",
              "    <tr>\n",
              "      <th>21</th>\n",
              "      <td>ea98a65ad1e1b8688eddf89fbc7b3e27</td>\n",
              "      <td>2016-03-25 22:59:23 +0000</td>\n",
              "      <td>http://www.flipkart.com/alisha-solid-women-s-c...</td>\n",
              "      <td>Alisha Solid Women's Cycling Shorts</td>\n",
              "      <td>[\"Clothing &gt;&gt; Women's Clothing &gt;&gt; Lingerie, Sl...</td>\n",
              "      <td>SRTEH2FD3ANFFMHP</td>\n",
              "      <td>NaN</td>\n",
              "      <td>NaN</td>\n",
              "      <td>[\"http://img6a.flixcart.com/image/short/m/g/y/...</td>\n",
              "      <td>False</td>\n",
              "      <td>Alisha Solid Women's Cycling Shorts - Buy Blac...</td>\n",
              "      <td>No rating available</td>\n",
              "      <td>No rating available</td>\n",
              "      <td>Alisha</td>\n",
              "      <td>NaN</td>\n",
              "    </tr>\n",
              "    <tr>\n",
              "      <th>25</th>\n",
              "      <td>bb41283056536d7af11e994ba4f9db81</td>\n",
              "      <td>2016-01-03 20:56:50 +0000</td>\n",
              "      <td>http://www.flipkart.com/glus-wedding-lingerie-...</td>\n",
              "      <td>Glus Wedding Lingerie Set</td>\n",
              "      <td>[\"Clothing &gt;&gt; Women's Clothing &gt;&gt; Lingerie, Sl...</td>\n",
              "      <td>LINE92U9KGZG25AY</td>\n",
              "      <td>1299.0</td>\n",
              "      <td>699.0</td>\n",
              "      <td>[\"http://img5a.flixcart.com/image/lingerie-set...</td>\n",
              "      <td>False</td>\n",
              "      <td>Glus Wedding Lingerie Set - Buy Turquoise Glus...</td>\n",
              "      <td>No rating available</td>\n",
              "      <td>No rating available</td>\n",
              "      <td>NaN</td>\n",
              "      <td>{\"product_specification\"=&gt;[{\"key\"=&gt;\"Number of ...</td>\n",
              "    </tr>\n",
              "    <tr>\n",
              "      <th>26</th>\n",
              "      <td>ea91e47cac68b132887d7fc1175e91c2</td>\n",
              "      <td>2016-01-03 20:56:50 +0000</td>\n",
              "      <td>http://www.flipkart.com/veelys-shiny-white-qua...</td>\n",
              "      <td>Veelys Shiny White Quad Roller Skates - Size 4...</td>\n",
              "      <td>[\"Sports &amp; Fitness &gt;&gt; Other Sports &gt;&gt; Skating ...</td>\n",
              "      <td>SKTEC88WSNYJKWY7</td>\n",
              "      <td>3199.0</td>\n",
              "      <td>2499.0</td>\n",
              "      <td>[\"http://img6a.flixcart.com/image/skate/w/y/7/...</td>\n",
              "      <td>False</td>\n",
              "      <td>Veelys Shiny White Quad Roller Skates - Size 4...</td>\n",
              "      <td>No rating available</td>\n",
              "      <td>No rating available</td>\n",
              "      <td>NaN</td>\n",
              "      <td>{\"product_specification\"=&gt;[{\"key\"=&gt;\"Playing Le...</td>\n",
              "    </tr>\n",
              "    <tr>\n",
              "      <th>27</th>\n",
              "      <td>bec784ef794cf596dbe2cbbaf5427ef0</td>\n",
              "      <td>2016-01-03 20:56:50 +0000</td>\n",
              "      <td>http://www.flipkart.com/bulaky-vanity-case-jew...</td>\n",
              "      <td>Bulaky vanity case Jewellery Vanity Case</td>\n",
              "      <td>[\"Beauty and Personal Care &gt;&gt; Makeup &gt;&gt; Vanity...</td>\n",
              "      <td>VANDZY4YZFPEG85T</td>\n",
              "      <td>499.0</td>\n",
              "      <td>390.0</td>\n",
              "      <td>[\"http://img6a.flixcart.com/image/vanity-box/8...</td>\n",
              "      <td>False</td>\n",
              "      <td>Buy Bulaky vanity case Jewellery Vanity Case f...</td>\n",
              "      <td>3</td>\n",
              "      <td>3</td>\n",
              "      <td>NaN</td>\n",
              "      <td>{\"product_specification\"=&gt;{\"key\"=&gt;\"Body Materi...</td>\n",
              "    </tr>\n",
              "    <tr>\n",
              "      <th>...</th>\n",
              "      <td>...</td>\n",
              "      <td>...</td>\n",
              "      <td>...</td>\n",
              "      <td>...</td>\n",
              "      <td>...</td>\n",
              "      <td>...</td>\n",
              "      <td>...</td>\n",
              "      <td>...</td>\n",
              "      <td>...</td>\n",
              "      <td>...</td>\n",
              "      <td>...</td>\n",
              "      <td>...</td>\n",
              "      <td>...</td>\n",
              "      <td>...</td>\n",
              "      <td>...</td>\n",
              "    </tr>\n",
              "    <tr>\n",
              "      <th>2967</th>\n",
              "      <td>bc361b157d750311711cce72b761a0f3</td>\n",
              "      <td>2016-01-07 06:04:02 +0000</td>\n",
              "      <td>http://www.flipkart.com/dressberry-casual-slee...</td>\n",
              "      <td>Dressberry Casual Sleeveless Solid Women's Top</td>\n",
              "      <td>[\"Clothing &gt;&gt; Women's Clothing &gt;&gt; Western Wear...</td>\n",
              "      <td>TOPE7NFYYJMKFVAR</td>\n",
              "      <td>899.0</td>\n",
              "      <td>359.0</td>\n",
              "      <td>[\"http://img5a.flixcart.com/image/top/c/c/u/1-...</td>\n",
              "      <td>False</td>\n",
              "      <td>Dressberry Casual Sleeveless Solid Women's Top...</td>\n",
              "      <td>No rating available</td>\n",
              "      <td>No rating available</td>\n",
              "      <td>NaN</td>\n",
              "      <td>{\"product_specification\"=&gt;[{\"key\"=&gt;\"Sleeve\", \"...</td>\n",
              "    </tr>\n",
              "    <tr>\n",
              "      <th>2968</th>\n",
              "      <td>da7a51e20d8edf8d822222962ce40ca0</td>\n",
              "      <td>2016-01-07 06:04:02 +0000</td>\n",
              "      <td>http://www.flipkart.com/free-soul-casual-short...</td>\n",
              "      <td>Free Soul Casual Short Sleeve Floral Print Wom...</td>\n",
              "      <td>[\"Clothing &gt;&gt; Women's Clothing &gt;&gt; Western Wear...</td>\n",
              "      <td>TOPDQAUYZKH2GDTM</td>\n",
              "      <td>3299.0</td>\n",
              "      <td>494.0</td>\n",
              "      <td>[\"http://img5a.flixcart.com/image/top/d/t/m/to...</td>\n",
              "      <td>False</td>\n",
              "      <td>Free Soul Casual Short Sleeve Floral Print Wom...</td>\n",
              "      <td>No rating available</td>\n",
              "      <td>No rating available</td>\n",
              "      <td>NaN</td>\n",
              "      <td>{\"product_specification\"=&gt;[{\"key\"=&gt;\"Sleeve\", \"...</td>\n",
              "    </tr>\n",
              "    <tr>\n",
              "      <th>2969</th>\n",
              "      <td>9386bcaa8ab0ba218b16ad5a2d88c1f7</td>\n",
              "      <td>2016-01-07 06:04:02 +0000</td>\n",
              "      <td>http://www.flipkart.com/am-you-party-sleeveles...</td>\n",
              "      <td>I Am For You Party Sleeveless Solid Women's Top</td>\n",
              "      <td>[\"Clothing &gt;&gt; Women's Clothing &gt;&gt; Western Wear...</td>\n",
              "      <td>TOPDYTMFQNAGZVNG</td>\n",
              "      <td>1099.0</td>\n",
              "      <td>495.0</td>\n",
              "      <td>[\"http://img6a.flixcart.com/image/top/v/n/g/im...</td>\n",
              "      <td>False</td>\n",
              "      <td>I Am For You Party Sleeveless Solid Women's To...</td>\n",
              "      <td>No rating available</td>\n",
              "      <td>No rating available</td>\n",
              "      <td>NaN</td>\n",
              "      <td>{\"product_specification\"=&gt;[{\"key\"=&gt;\"Sleeve\", \"...</td>\n",
              "    </tr>\n",
              "    <tr>\n",
              "      <th>2970</th>\n",
              "      <td>983a7ed82fff5ed7dafde7de41856ca6</td>\n",
              "      <td>2016-01-07 06:04:02 +0000</td>\n",
              "      <td>http://www.flipkart.com/femninora-casual-full-...</td>\n",
              "      <td>Femninora Casual Full Sleeve Printed Women's Top</td>\n",
              "      <td>[\"Clothing &gt;&gt; Women's Clothing &gt;&gt; Western Wear...</td>\n",
              "      <td>TOPE6Y9ZZ6TJ48YC</td>\n",
              "      <td>999.0</td>\n",
              "      <td>449.0</td>\n",
              "      <td>[\"http://img5a.flixcart.com/image/top/r/m/d/1-...</td>\n",
              "      <td>False</td>\n",
              "      <td>Femninora Casual Full Sleeve Printed Women's T...</td>\n",
              "      <td>No rating available</td>\n",
              "      <td>No rating available</td>\n",
              "      <td>NaN</td>\n",
              "      <td>{\"product_specification\"=&gt;[{\"key\"=&gt;\"Sleeve\", \"...</td>\n",
              "    </tr>\n",
              "    <tr>\n",
              "      <th>2977</th>\n",
              "      <td>8f6d882acd203b014c2d7a2a67c5ee7c</td>\n",
              "      <td>2016-06-01 21:37:14 +0000</td>\n",
              "      <td>http://www.flipkart.com/bottoms-more-regular-f...</td>\n",
              "      <td>Bottoms More Regular Fit Women's Blue Trousers</td>\n",
              "      <td>[\"Clothing &gt;&gt; Women's Clothing &gt;&gt; Fusion Wear ...</td>\n",
              "      <td>TROEGRPCFEJHN7RG</td>\n",
              "      <td>NaN</td>\n",
              "      <td>NaN</td>\n",
              "      <td>[\"http://img5a.flixcart.com/image/trouser/c/g/...</td>\n",
              "      <td>False</td>\n",
              "      <td>Key Features of Bottoms More Regular Fit Women...</td>\n",
              "      <td>No rating available</td>\n",
              "      <td>No rating available</td>\n",
              "      <td>Bottoms More</td>\n",
              "      <td>{\"product_specification\"=&gt;[{\"key\"=&gt;\"Occasion\",...</td>\n",
              "    </tr>\n",
              "  </tbody>\n",
              "</table>\n",
              "<p>712 rows × 15 columns</p>\n",
              "</div>"
            ],
            "text/plain": [
              "                               uniq_id  ...                             product_specifications\n",
              "12    c29af37837afcaf44b779eca7c19295f  ...  {\"product_specification\"=>[{\"key\"=>\"Pet Type\",...\n",
              "21    ea98a65ad1e1b8688eddf89fbc7b3e27  ...                                                NaN\n",
              "25    bb41283056536d7af11e994ba4f9db81  ...  {\"product_specification\"=>[{\"key\"=>\"Number of ...\n",
              "26    ea91e47cac68b132887d7fc1175e91c2  ...  {\"product_specification\"=>[{\"key\"=>\"Playing Le...\n",
              "27    bec784ef794cf596dbe2cbbaf5427ef0  ...  {\"product_specification\"=>{\"key\"=>\"Body Materi...\n",
              "...                                ...  ...                                                ...\n",
              "2967  bc361b157d750311711cce72b761a0f3  ...  {\"product_specification\"=>[{\"key\"=>\"Sleeve\", \"...\n",
              "2968  da7a51e20d8edf8d822222962ce40ca0  ...  {\"product_specification\"=>[{\"key\"=>\"Sleeve\", \"...\n",
              "2969  9386bcaa8ab0ba218b16ad5a2d88c1f7  ...  {\"product_specification\"=>[{\"key\"=>\"Sleeve\", \"...\n",
              "2970  983a7ed82fff5ed7dafde7de41856ca6  ...  {\"product_specification\"=>[{\"key\"=>\"Sleeve\", \"...\n",
              "2977  8f6d882acd203b014c2d7a2a67c5ee7c  ...  {\"product_specification\"=>[{\"key\"=>\"Occasion\",...\n",
              "\n",
              "[712 rows x 15 columns]"
            ]
          },
          "metadata": {
            "tags": []
          },
          "execution_count": 58
        }
      ]
    },
    {
      "cell_type": "code",
      "metadata": {
        "colab": {
          "base_uri": "https://localhost:8080/",
          "height": 949
        },
        "id": "edDBxBJ9pe7k",
        "outputId": "ccde31f4-f01e-4c5e-d16f-3b95a514a480"
      },
      "source": [
        "# تم جمع القيم جميعها للعمود retail_price وتم احتساب المتوسط الخاص بهم واستبدال القيم المفقوده بالقيم المتوسطه \r\n",
        "df_students.retail_price = df_students.retail_price.fillna(df_students.retail_price.mean())\r\n",
        "df_students"
      ],
      "execution_count": null,
      "outputs": [
        {
          "output_type": "execute_result",
          "data": {
            "text/html": [
              "<div>\n",
              "<style scoped>\n",
              "    .dataframe tbody tr th:only-of-type {\n",
              "        vertical-align: middle;\n",
              "    }\n",
              "\n",
              "    .dataframe tbody tr th {\n",
              "        vertical-align: top;\n",
              "    }\n",
              "\n",
              "    .dataframe thead th {\n",
              "        text-align: right;\n",
              "    }\n",
              "</style>\n",
              "<table border=\"1\" class=\"dataframe\">\n",
              "  <thead>\n",
              "    <tr style=\"text-align: right;\">\n",
              "      <th></th>\n",
              "      <th>uniq_id</th>\n",
              "      <th>crawl_timestamp</th>\n",
              "      <th>product_url</th>\n",
              "      <th>product_name</th>\n",
              "      <th>product_category_tree</th>\n",
              "      <th>pid</th>\n",
              "      <th>retail_price</th>\n",
              "      <th>discounted_price</th>\n",
              "      <th>image</th>\n",
              "      <th>is_FK_Advantage_product</th>\n",
              "      <th>description</th>\n",
              "      <th>product_rating</th>\n",
              "      <th>overall_rating</th>\n",
              "      <th>brand</th>\n",
              "      <th>product_specifications</th>\n",
              "    </tr>\n",
              "  </thead>\n",
              "  <tbody>\n",
              "    <tr>\n",
              "      <th>0</th>\n",
              "      <td>c2d766ca982eca8304150849735ffef9</td>\n",
              "      <td>2016-03-25 22:59:23 +0000</td>\n",
              "      <td>http://www.flipkart.com/alisha-solid-women-s-c...</td>\n",
              "      <td>Alisha Solid Women's Cycling Shorts</td>\n",
              "      <td>[\"Clothing &gt;&gt; Women's Clothing &gt;&gt; Lingerie, Sl...</td>\n",
              "      <td>SRTEH2FF9KEDEFGF</td>\n",
              "      <td>999.0</td>\n",
              "      <td>379.0</td>\n",
              "      <td>[\"http://img5a.flixcart.com/image/short/u/4/a/...</td>\n",
              "      <td>False</td>\n",
              "      <td>Key Features of Alisha Solid Women's Cycling S...</td>\n",
              "      <td>No rating available</td>\n",
              "      <td>No rating available</td>\n",
              "      <td>Alisha</td>\n",
              "      <td>{\"product_specification\"=&gt;[{\"key\"=&gt;\"Number of ...</td>\n",
              "    </tr>\n",
              "    <tr>\n",
              "      <th>1</th>\n",
              "      <td>7f7036a6d550aaa89d34c77bd39a5e48</td>\n",
              "      <td>2016-03-25 22:59:23 +0000</td>\n",
              "      <td>http://www.flipkart.com/fabhomedecor-fabric-do...</td>\n",
              "      <td>FabHomeDecor Fabric Double Sofa Bed</td>\n",
              "      <td>[\"Furniture &gt;&gt; Living Room Furniture &gt;&gt; Sofa B...</td>\n",
              "      <td>SBEEH3QGU7MFYJFY</td>\n",
              "      <td>32157.0</td>\n",
              "      <td>22646.0</td>\n",
              "      <td>[\"http://img6a.flixcart.com/image/sofa-bed/j/f...</td>\n",
              "      <td>False</td>\n",
              "      <td>FabHomeDecor Fabric Double Sofa Bed (Finish Co...</td>\n",
              "      <td>No rating available</td>\n",
              "      <td>No rating available</td>\n",
              "      <td>FabHomeDecor</td>\n",
              "      <td>{\"product_specification\"=&gt;[{\"key\"=&gt;\"Installati...</td>\n",
              "    </tr>\n",
              "    <tr>\n",
              "      <th>2</th>\n",
              "      <td>f449ec65dcbc041b6ae5e6a32717d01b</td>\n",
              "      <td>2016-03-25 22:59:23 +0000</td>\n",
              "      <td>http://www.flipkart.com/aw-bellies/p/itmeh4grg...</td>\n",
              "      <td>AW Bellies</td>\n",
              "      <td>[\"Footwear &gt;&gt; Women's Footwear &gt;&gt; Ballerinas &gt;...</td>\n",
              "      <td>SHOEH4GRSUBJGZXE</td>\n",
              "      <td>999.0</td>\n",
              "      <td>499.0</td>\n",
              "      <td>[\"http://img5a.flixcart.com/image/shoe/7/z/z/r...</td>\n",
              "      <td>False</td>\n",
              "      <td>Key Features of AW Bellies Sandals Wedges Heel...</td>\n",
              "      <td>No rating available</td>\n",
              "      <td>No rating available</td>\n",
              "      <td>AW</td>\n",
              "      <td>{\"product_specification\"=&gt;[{\"key\"=&gt;\"Ideal For\"...</td>\n",
              "    </tr>\n",
              "    <tr>\n",
              "      <th>3</th>\n",
              "      <td>0973b37acd0c664e3de26e97e5571454</td>\n",
              "      <td>2016-03-25 22:59:23 +0000</td>\n",
              "      <td>http://www.flipkart.com/alisha-solid-women-s-c...</td>\n",
              "      <td>Alisha Solid Women's Cycling Shorts</td>\n",
              "      <td>[\"Clothing &gt;&gt; Women's Clothing &gt;&gt; Lingerie, Sl...</td>\n",
              "      <td>SRTEH2F6HUZMQ6SJ</td>\n",
              "      <td>699.0</td>\n",
              "      <td>267.0</td>\n",
              "      <td>[\"http://img5a.flixcart.com/image/short/6/2/h/...</td>\n",
              "      <td>False</td>\n",
              "      <td>Key Features of Alisha Solid Women's Cycling S...</td>\n",
              "      <td>No rating available</td>\n",
              "      <td>No rating available</td>\n",
              "      <td>Alisha</td>\n",
              "      <td>{\"product_specification\"=&gt;[{\"key\"=&gt;\"Number of ...</td>\n",
              "    </tr>\n",
              "    <tr>\n",
              "      <th>4</th>\n",
              "      <td>bc940ea42ee6bef5ac7cea3fb5cfbee7</td>\n",
              "      <td>2016-03-25 22:59:23 +0000</td>\n",
              "      <td>http://www.flipkart.com/sicons-all-purpose-arn...</td>\n",
              "      <td>Sicons All Purpose Arnica Dog Shampoo</td>\n",
              "      <td>[\"Pet Supplies &gt;&gt; Grooming &gt;&gt; Skin &amp; Coat Care...</td>\n",
              "      <td>PSOEH3ZYDMSYARJ5</td>\n",
              "      <td>220.0</td>\n",
              "      <td>210.0</td>\n",
              "      <td>[\"http://img5a.flixcart.com/image/pet-shampoo/...</td>\n",
              "      <td>False</td>\n",
              "      <td>Specifications of Sicons All Purpose Arnica Do...</td>\n",
              "      <td>No rating available</td>\n",
              "      <td>No rating available</td>\n",
              "      <td>Sicons</td>\n",
              "      <td>{\"product_specification\"=&gt;[{\"key\"=&gt;\"Pet Type\",...</td>\n",
              "    </tr>\n",
              "    <tr>\n",
              "      <th>...</th>\n",
              "      <td>...</td>\n",
              "      <td>...</td>\n",
              "      <td>...</td>\n",
              "      <td>...</td>\n",
              "      <td>...</td>\n",
              "      <td>...</td>\n",
              "      <td>...</td>\n",
              "      <td>...</td>\n",
              "      <td>...</td>\n",
              "      <td>...</td>\n",
              "      <td>...</td>\n",
              "      <td>...</td>\n",
              "      <td>...</td>\n",
              "      <td>...</td>\n",
              "      <td>...</td>\n",
              "    </tr>\n",
              "    <tr>\n",
              "      <th>3074</th>\n",
              "      <td>181e43c979afff251cad0d4e042ab1c2</td>\n",
              "      <td>2016-04-23 02:17:20 +0000</td>\n",
              "      <td>http://www.flipkart.com/ibs-plastic-portable-l...</td>\n",
              "      <td>IBS Plastic Portable Laptop Table</td>\n",
              "      <td>[\"Furniture &gt;&gt; Study &amp; Home Office Furniture &gt;...</td>\n",
              "      <td>PLLEHQWA23AWQQJH</td>\n",
              "      <td>2499.0</td>\n",
              "      <td>1399.0</td>\n",
              "      <td>[\"http://img6a.flixcart.com/image/portable-lap...</td>\n",
              "      <td>False</td>\n",
              "      <td>Key Features of IBS Plastic Portable Laptop Ta...</td>\n",
              "      <td>No rating available</td>\n",
              "      <td>No rating available</td>\n",
              "      <td>IBS</td>\n",
              "      <td>{\"product_specification\"=&gt;[{\"value\"=&gt;\"1 Table ...</td>\n",
              "    </tr>\n",
              "    <tr>\n",
              "      <th>3075</th>\n",
              "      <td>62dcc3c67cd434fe7f9ff5926486ddef</td>\n",
              "      <td>2016-04-23 02:17:20 +0000</td>\n",
              "      <td>http://www.flipkart.com/clickforsign-sound-hor...</td>\n",
              "      <td>clickforsign Sound horn Before entering Emerge...</td>\n",
              "      <td>[\"clickforsign Sound horn Before entering Emer...</td>\n",
              "      <td>EMSEDSHQ3VU6T8Y2</td>\n",
              "      <td>350.0</td>\n",
              "      <td>280.0</td>\n",
              "      <td>[\"http://img6a.flixcart.com/image/emergency-si...</td>\n",
              "      <td>False</td>\n",
              "      <td>Key Features of clickforsign Sound horn Before...</td>\n",
              "      <td>No rating available</td>\n",
              "      <td>No rating available</td>\n",
              "      <td>clickforsign</td>\n",
              "      <td>{\"product_specification\"=&gt;[{\"value\"=&gt;\"1 Emerge...</td>\n",
              "    </tr>\n",
              "    <tr>\n",
              "      <th>3076</th>\n",
              "      <td>0ddc40c08d9a9bafc4d14eddd98db7c0</td>\n",
              "      <td>2016-04-23 02:17:20 +0000</td>\n",
              "      <td>http://www.flipkart.com/omic-poto-blue-1000-ml...</td>\n",
              "      <td>Omic Poto-Blue 1000 ml Sipper</td>\n",
              "      <td>[\"Kitchen &amp; Dining &gt;&gt; Containers &amp; Bottles &gt;&gt; ...</td>\n",
              "      <td>BOTEEMN6NM57HSBU</td>\n",
              "      <td>999.0</td>\n",
              "      <td>549.0</td>\n",
              "      <td>[\"http://img6a.flixcart.com/image/water-bottle...</td>\n",
              "      <td>False</td>\n",
              "      <td>Key Features of Omic Poto-Blue 1000 ml Sipper ...</td>\n",
              "      <td>3.8</td>\n",
              "      <td>3.8</td>\n",
              "      <td>Omic</td>\n",
              "      <td>{\"product_specification\"=&gt;[{\"key\"=&gt;\"Body Mater...</td>\n",
              "    </tr>\n",
              "    <tr>\n",
              "      <th>3077</th>\n",
              "      <td>c650be5a7da4dc6bf9db35ec8db27eb6</td>\n",
              "      <td>2016-04-23 02:17:20 +0000</td>\n",
              "      <td>http://www.flipkart.com/aquapolo-bottle-17-750...</td>\n",
              "      <td>AQUAPOLO Bottle-17 750 ml Sipper</td>\n",
              "      <td>[\"Kitchen &amp; Dining &gt;&gt; Containers &amp; Bottles &gt;&gt; ...</td>\n",
              "      <td>BOTEHZDGPGFHVQWJ</td>\n",
              "      <td>599.0</td>\n",
              "      <td>399.0</td>\n",
              "      <td>[\"http://img6a.flixcart.com/image/bottle/q/w/j...</td>\n",
              "      <td>False</td>\n",
              "      <td>Key Features of AQUAPOLO Bottle-17 750 ml Sipp...</td>\n",
              "      <td>No rating available</td>\n",
              "      <td>No rating available</td>\n",
              "      <td>AQUAPOLO</td>\n",
              "      <td>{\"product_specification\"=&gt;[{\"key\"=&gt;\"Type\", \"va...</td>\n",
              "    </tr>\n",
              "    <tr>\n",
              "      <th>3078</th>\n",
              "      <td>e0b45f558a3ff5c0c02c02ee886003e6</td>\n",
              "      <td>2016-04-23 02:17:20 +0000</td>\n",
              "      <td>http://www.flipkart.com/ibs-plastic-portable-l...</td>\n",
              "      <td>IBS Plastic Portable Laptop Table</td>\n",
              "      <td>[\"Furniture &gt;&gt; Study &amp; Home Office Furniture &gt;...</td>\n",
              "      <td>PLLEHQVCWUAFATP5</td>\n",
              "      <td>2499.0</td>\n",
              "      <td>1399.0</td>\n",
              "      <td>[\"http://img6a.flixcart.com/image/portable-lap...</td>\n",
              "      <td>False</td>\n",
              "      <td>Key Features of IBS Plastic Portable Laptop Ta...</td>\n",
              "      <td>No rating available</td>\n",
              "      <td>No rating available</td>\n",
              "      <td>IBS</td>\n",
              "      <td>{\"product_specification\"=&gt;[{\"value\"=&gt;\"1 Table ...</td>\n",
              "    </tr>\n",
              "  </tbody>\n",
              "</table>\n",
              "<p>3079 rows × 15 columns</p>\n",
              "</div>"
            ],
            "text/plain": [
              "                               uniq_id  ...                             product_specifications\n",
              "0     c2d766ca982eca8304150849735ffef9  ...  {\"product_specification\"=>[{\"key\"=>\"Number of ...\n",
              "1     7f7036a6d550aaa89d34c77bd39a5e48  ...  {\"product_specification\"=>[{\"key\"=>\"Installati...\n",
              "2     f449ec65dcbc041b6ae5e6a32717d01b  ...  {\"product_specification\"=>[{\"key\"=>\"Ideal For\"...\n",
              "3     0973b37acd0c664e3de26e97e5571454  ...  {\"product_specification\"=>[{\"key\"=>\"Number of ...\n",
              "4     bc940ea42ee6bef5ac7cea3fb5cfbee7  ...  {\"product_specification\"=>[{\"key\"=>\"Pet Type\",...\n",
              "...                                ...  ...                                                ...\n",
              "3074  181e43c979afff251cad0d4e042ab1c2  ...  {\"product_specification\"=>[{\"value\"=>\"1 Table ...\n",
              "3075  62dcc3c67cd434fe7f9ff5926486ddef  ...  {\"product_specification\"=>[{\"value\"=>\"1 Emerge...\n",
              "3076  0ddc40c08d9a9bafc4d14eddd98db7c0  ...  {\"product_specification\"=>[{\"key\"=>\"Body Mater...\n",
              "3077  c650be5a7da4dc6bf9db35ec8db27eb6  ...  {\"product_specification\"=>[{\"key\"=>\"Type\", \"va...\n",
              "3078  e0b45f558a3ff5c0c02c02ee886003e6  ...  {\"product_specification\"=>[{\"value\"=>\"1 Table ...\n",
              "\n",
              "[3079 rows x 15 columns]"
            ]
          },
          "metadata": {
            "tags": []
          },
          "execution_count": 60
        }
      ]
    },
    {
      "cell_type": "code",
      "metadata": {
        "colab": {
          "base_uri": "https://localhost:8080/",
          "height": 949
        },
        "id": "1CJyckiwsIjt",
        "outputId": "b502fec5-4685-467c-d129-8f9ab63cebcd"
      },
      "source": [
        "#print(df_students.shape)\r\n",
        "df_students = df_students.dropna(axis=0, how='any')\r\n",
        "df_students\r\n",
        "#print(df_students.shape)"
      ],
      "execution_count": null,
      "outputs": [
        {
          "output_type": "execute_result",
          "data": {
            "text/html": [
              "<div>\n",
              "<style scoped>\n",
              "    .dataframe tbody tr th:only-of-type {\n",
              "        vertical-align: middle;\n",
              "    }\n",
              "\n",
              "    .dataframe tbody tr th {\n",
              "        vertical-align: top;\n",
              "    }\n",
              "\n",
              "    .dataframe thead th {\n",
              "        text-align: right;\n",
              "    }\n",
              "</style>\n",
              "<table border=\"1\" class=\"dataframe\">\n",
              "  <thead>\n",
              "    <tr style=\"text-align: right;\">\n",
              "      <th></th>\n",
              "      <th>uniq_id</th>\n",
              "      <th>crawl_timestamp</th>\n",
              "      <th>product_url</th>\n",
              "      <th>product_name</th>\n",
              "      <th>product_category_tree</th>\n",
              "      <th>pid</th>\n",
              "      <th>retail_price</th>\n",
              "      <th>discounted_price</th>\n",
              "      <th>image</th>\n",
              "      <th>is_FK_Advantage_product</th>\n",
              "      <th>description</th>\n",
              "      <th>product_rating</th>\n",
              "      <th>overall_rating</th>\n",
              "      <th>brand</th>\n",
              "      <th>product_specifications</th>\n",
              "    </tr>\n",
              "  </thead>\n",
              "  <tbody>\n",
              "    <tr>\n",
              "      <th>0</th>\n",
              "      <td>c2d766ca982eca8304150849735ffef9</td>\n",
              "      <td>2016-03-25 22:59:23 +0000</td>\n",
              "      <td>http://www.flipkart.com/alisha-solid-women-s-c...</td>\n",
              "      <td>Alisha Solid Women's Cycling Shorts</td>\n",
              "      <td>[\"Clothing &gt;&gt; Women's Clothing &gt;&gt; Lingerie, Sl...</td>\n",
              "      <td>SRTEH2FF9KEDEFGF</td>\n",
              "      <td>999.0</td>\n",
              "      <td>379.0</td>\n",
              "      <td>[\"http://img5a.flixcart.com/image/short/u/4/a/...</td>\n",
              "      <td>False</td>\n",
              "      <td>Key Features of Alisha Solid Women's Cycling S...</td>\n",
              "      <td>No rating available</td>\n",
              "      <td>No rating available</td>\n",
              "      <td>Alisha</td>\n",
              "      <td>{\"product_specification\"=&gt;[{\"key\"=&gt;\"Number of ...</td>\n",
              "    </tr>\n",
              "    <tr>\n",
              "      <th>1</th>\n",
              "      <td>7f7036a6d550aaa89d34c77bd39a5e48</td>\n",
              "      <td>2016-03-25 22:59:23 +0000</td>\n",
              "      <td>http://www.flipkart.com/fabhomedecor-fabric-do...</td>\n",
              "      <td>FabHomeDecor Fabric Double Sofa Bed</td>\n",
              "      <td>[\"Furniture &gt;&gt; Living Room Furniture &gt;&gt; Sofa B...</td>\n",
              "      <td>SBEEH3QGU7MFYJFY</td>\n",
              "      <td>32157.0</td>\n",
              "      <td>22646.0</td>\n",
              "      <td>[\"http://img6a.flixcart.com/image/sofa-bed/j/f...</td>\n",
              "      <td>False</td>\n",
              "      <td>FabHomeDecor Fabric Double Sofa Bed (Finish Co...</td>\n",
              "      <td>No rating available</td>\n",
              "      <td>No rating available</td>\n",
              "      <td>FabHomeDecor</td>\n",
              "      <td>{\"product_specification\"=&gt;[{\"key\"=&gt;\"Installati...</td>\n",
              "    </tr>\n",
              "    <tr>\n",
              "      <th>2</th>\n",
              "      <td>f449ec65dcbc041b6ae5e6a32717d01b</td>\n",
              "      <td>2016-03-25 22:59:23 +0000</td>\n",
              "      <td>http://www.flipkart.com/aw-bellies/p/itmeh4grg...</td>\n",
              "      <td>AW Bellies</td>\n",
              "      <td>[\"Footwear &gt;&gt; Women's Footwear &gt;&gt; Ballerinas &gt;...</td>\n",
              "      <td>SHOEH4GRSUBJGZXE</td>\n",
              "      <td>999.0</td>\n",
              "      <td>499.0</td>\n",
              "      <td>[\"http://img5a.flixcart.com/image/shoe/7/z/z/r...</td>\n",
              "      <td>False</td>\n",
              "      <td>Key Features of AW Bellies Sandals Wedges Heel...</td>\n",
              "      <td>No rating available</td>\n",
              "      <td>No rating available</td>\n",
              "      <td>AW</td>\n",
              "      <td>{\"product_specification\"=&gt;[{\"key\"=&gt;\"Ideal For\"...</td>\n",
              "    </tr>\n",
              "    <tr>\n",
              "      <th>3</th>\n",
              "      <td>0973b37acd0c664e3de26e97e5571454</td>\n",
              "      <td>2016-03-25 22:59:23 +0000</td>\n",
              "      <td>http://www.flipkart.com/alisha-solid-women-s-c...</td>\n",
              "      <td>Alisha Solid Women's Cycling Shorts</td>\n",
              "      <td>[\"Clothing &gt;&gt; Women's Clothing &gt;&gt; Lingerie, Sl...</td>\n",
              "      <td>SRTEH2F6HUZMQ6SJ</td>\n",
              "      <td>699.0</td>\n",
              "      <td>267.0</td>\n",
              "      <td>[\"http://img5a.flixcart.com/image/short/6/2/h/...</td>\n",
              "      <td>False</td>\n",
              "      <td>Key Features of Alisha Solid Women's Cycling S...</td>\n",
              "      <td>No rating available</td>\n",
              "      <td>No rating available</td>\n",
              "      <td>Alisha</td>\n",
              "      <td>{\"product_specification\"=&gt;[{\"key\"=&gt;\"Number of ...</td>\n",
              "    </tr>\n",
              "    <tr>\n",
              "      <th>4</th>\n",
              "      <td>bc940ea42ee6bef5ac7cea3fb5cfbee7</td>\n",
              "      <td>2016-03-25 22:59:23 +0000</td>\n",
              "      <td>http://www.flipkart.com/sicons-all-purpose-arn...</td>\n",
              "      <td>Sicons All Purpose Arnica Dog Shampoo</td>\n",
              "      <td>[\"Pet Supplies &gt;&gt; Grooming &gt;&gt; Skin &amp; Coat Care...</td>\n",
              "      <td>PSOEH3ZYDMSYARJ5</td>\n",
              "      <td>220.0</td>\n",
              "      <td>210.0</td>\n",
              "      <td>[\"http://img5a.flixcart.com/image/pet-shampoo/...</td>\n",
              "      <td>False</td>\n",
              "      <td>Specifications of Sicons All Purpose Arnica Do...</td>\n",
              "      <td>No rating available</td>\n",
              "      <td>No rating available</td>\n",
              "      <td>Sicons</td>\n",
              "      <td>{\"product_specification\"=&gt;[{\"key\"=&gt;\"Pet Type\",...</td>\n",
              "    </tr>\n",
              "    <tr>\n",
              "      <th>...</th>\n",
              "      <td>...</td>\n",
              "      <td>...</td>\n",
              "      <td>...</td>\n",
              "      <td>...</td>\n",
              "      <td>...</td>\n",
              "      <td>...</td>\n",
              "      <td>...</td>\n",
              "      <td>...</td>\n",
              "      <td>...</td>\n",
              "      <td>...</td>\n",
              "      <td>...</td>\n",
              "      <td>...</td>\n",
              "      <td>...</td>\n",
              "      <td>...</td>\n",
              "      <td>...</td>\n",
              "    </tr>\n",
              "    <tr>\n",
              "      <th>3074</th>\n",
              "      <td>181e43c979afff251cad0d4e042ab1c2</td>\n",
              "      <td>2016-04-23 02:17:20 +0000</td>\n",
              "      <td>http://www.flipkart.com/ibs-plastic-portable-l...</td>\n",
              "      <td>IBS Plastic Portable Laptop Table</td>\n",
              "      <td>[\"Furniture &gt;&gt; Study &amp; Home Office Furniture &gt;...</td>\n",
              "      <td>PLLEHQWA23AWQQJH</td>\n",
              "      <td>2499.0</td>\n",
              "      <td>1399.0</td>\n",
              "      <td>[\"http://img6a.flixcart.com/image/portable-lap...</td>\n",
              "      <td>False</td>\n",
              "      <td>Key Features of IBS Plastic Portable Laptop Ta...</td>\n",
              "      <td>No rating available</td>\n",
              "      <td>No rating available</td>\n",
              "      <td>IBS</td>\n",
              "      <td>{\"product_specification\"=&gt;[{\"value\"=&gt;\"1 Table ...</td>\n",
              "    </tr>\n",
              "    <tr>\n",
              "      <th>3075</th>\n",
              "      <td>62dcc3c67cd434fe7f9ff5926486ddef</td>\n",
              "      <td>2016-04-23 02:17:20 +0000</td>\n",
              "      <td>http://www.flipkart.com/clickforsign-sound-hor...</td>\n",
              "      <td>clickforsign Sound horn Before entering Emerge...</td>\n",
              "      <td>[\"clickforsign Sound horn Before entering Emer...</td>\n",
              "      <td>EMSEDSHQ3VU6T8Y2</td>\n",
              "      <td>350.0</td>\n",
              "      <td>280.0</td>\n",
              "      <td>[\"http://img6a.flixcart.com/image/emergency-si...</td>\n",
              "      <td>False</td>\n",
              "      <td>Key Features of clickforsign Sound horn Before...</td>\n",
              "      <td>No rating available</td>\n",
              "      <td>No rating available</td>\n",
              "      <td>clickforsign</td>\n",
              "      <td>{\"product_specification\"=&gt;[{\"value\"=&gt;\"1 Emerge...</td>\n",
              "    </tr>\n",
              "    <tr>\n",
              "      <th>3076</th>\n",
              "      <td>0ddc40c08d9a9bafc4d14eddd98db7c0</td>\n",
              "      <td>2016-04-23 02:17:20 +0000</td>\n",
              "      <td>http://www.flipkart.com/omic-poto-blue-1000-ml...</td>\n",
              "      <td>Omic Poto-Blue 1000 ml Sipper</td>\n",
              "      <td>[\"Kitchen &amp; Dining &gt;&gt; Containers &amp; Bottles &gt;&gt; ...</td>\n",
              "      <td>BOTEEMN6NM57HSBU</td>\n",
              "      <td>999.0</td>\n",
              "      <td>549.0</td>\n",
              "      <td>[\"http://img6a.flixcart.com/image/water-bottle...</td>\n",
              "      <td>False</td>\n",
              "      <td>Key Features of Omic Poto-Blue 1000 ml Sipper ...</td>\n",
              "      <td>3.8</td>\n",
              "      <td>3.8</td>\n",
              "      <td>Omic</td>\n",
              "      <td>{\"product_specification\"=&gt;[{\"key\"=&gt;\"Body Mater...</td>\n",
              "    </tr>\n",
              "    <tr>\n",
              "      <th>3077</th>\n",
              "      <td>c650be5a7da4dc6bf9db35ec8db27eb6</td>\n",
              "      <td>2016-04-23 02:17:20 +0000</td>\n",
              "      <td>http://www.flipkart.com/aquapolo-bottle-17-750...</td>\n",
              "      <td>AQUAPOLO Bottle-17 750 ml Sipper</td>\n",
              "      <td>[\"Kitchen &amp; Dining &gt;&gt; Containers &amp; Bottles &gt;&gt; ...</td>\n",
              "      <td>BOTEHZDGPGFHVQWJ</td>\n",
              "      <td>599.0</td>\n",
              "      <td>399.0</td>\n",
              "      <td>[\"http://img6a.flixcart.com/image/bottle/q/w/j...</td>\n",
              "      <td>False</td>\n",
              "      <td>Key Features of AQUAPOLO Bottle-17 750 ml Sipp...</td>\n",
              "      <td>No rating available</td>\n",
              "      <td>No rating available</td>\n",
              "      <td>AQUAPOLO</td>\n",
              "      <td>{\"product_specification\"=&gt;[{\"key\"=&gt;\"Type\", \"va...</td>\n",
              "    </tr>\n",
              "    <tr>\n",
              "      <th>3078</th>\n",
              "      <td>e0b45f558a3ff5c0c02c02ee886003e6</td>\n",
              "      <td>2016-04-23 02:17:20 +0000</td>\n",
              "      <td>http://www.flipkart.com/ibs-plastic-portable-l...</td>\n",
              "      <td>IBS Plastic Portable Laptop Table</td>\n",
              "      <td>[\"Furniture &gt;&gt; Study &amp; Home Office Furniture &gt;...</td>\n",
              "      <td>PLLEHQVCWUAFATP5</td>\n",
              "      <td>2499.0</td>\n",
              "      <td>1399.0</td>\n",
              "      <td>[\"http://img6a.flixcart.com/image/portable-lap...</td>\n",
              "      <td>False</td>\n",
              "      <td>Key Features of IBS Plastic Portable Laptop Ta...</td>\n",
              "      <td>No rating available</td>\n",
              "      <td>No rating available</td>\n",
              "      <td>IBS</td>\n",
              "      <td>{\"product_specification\"=&gt;[{\"value\"=&gt;\"1 Table ...</td>\n",
              "    </tr>\n",
              "  </tbody>\n",
              "</table>\n",
              "<p>2367 rows × 15 columns</p>\n",
              "</div>"
            ],
            "text/plain": [
              "                               uniq_id  ...                             product_specifications\n",
              "0     c2d766ca982eca8304150849735ffef9  ...  {\"product_specification\"=>[{\"key\"=>\"Number of ...\n",
              "1     7f7036a6d550aaa89d34c77bd39a5e48  ...  {\"product_specification\"=>[{\"key\"=>\"Installati...\n",
              "2     f449ec65dcbc041b6ae5e6a32717d01b  ...  {\"product_specification\"=>[{\"key\"=>\"Ideal For\"...\n",
              "3     0973b37acd0c664e3de26e97e5571454  ...  {\"product_specification\"=>[{\"key\"=>\"Number of ...\n",
              "4     bc940ea42ee6bef5ac7cea3fb5cfbee7  ...  {\"product_specification\"=>[{\"key\"=>\"Pet Type\",...\n",
              "...                                ...  ...                                                ...\n",
              "3074  181e43c979afff251cad0d4e042ab1c2  ...  {\"product_specification\"=>[{\"value\"=>\"1 Table ...\n",
              "3075  62dcc3c67cd434fe7f9ff5926486ddef  ...  {\"product_specification\"=>[{\"value\"=>\"1 Emerge...\n",
              "3076  0ddc40c08d9a9bafc4d14eddd98db7c0  ...  {\"product_specification\"=>[{\"key\"=>\"Body Mater...\n",
              "3077  c650be5a7da4dc6bf9db35ec8db27eb6  ...  {\"product_specification\"=>[{\"key\"=>\"Type\", \"va...\n",
              "3078  e0b45f558a3ff5c0c02c02ee886003e6  ...  {\"product_specification\"=>[{\"value\"=>\"1 Table ...\n",
              "\n",
              "[2367 rows x 15 columns]"
            ]
          },
          "metadata": {
            "tags": []
          },
          "execution_count": 67
        }
      ]
    },
    {
      "cell_type": "code",
      "metadata": {
        "colab": {
          "base_uri": "https://localhost:8080/"
        },
        "id": "xD-shapqqSTM",
        "outputId": "f0395476-7b70-4584-c762-efd221c56796"
      },
      "source": [
        "print(df_students.shape)\r\n",
        "df_students = df_students.dropna(axis=0, how='any')\r\n",
        "print(df_students)\r\n",
        "print(df_students.shape)"
      ],
      "execution_count": null,
      "outputs": [
        {
          "output_type": "stream",
          "text": [
            "(2367, 15)\n",
            "                               uniq_id  ...                             product_specifications\n",
            "0     c2d766ca982eca8304150849735ffef9  ...  {\"product_specification\"=>[{\"key\"=>\"Number of ...\n",
            "1     7f7036a6d550aaa89d34c77bd39a5e48  ...  {\"product_specification\"=>[{\"key\"=>\"Installati...\n",
            "2     f449ec65dcbc041b6ae5e6a32717d01b  ...  {\"product_specification\"=>[{\"key\"=>\"Ideal For\"...\n",
            "3     0973b37acd0c664e3de26e97e5571454  ...  {\"product_specification\"=>[{\"key\"=>\"Number of ...\n",
            "4     bc940ea42ee6bef5ac7cea3fb5cfbee7  ...  {\"product_specification\"=>[{\"key\"=>\"Pet Type\",...\n",
            "...                                ...  ...                                                ...\n",
            "3074  181e43c979afff251cad0d4e042ab1c2  ...  {\"product_specification\"=>[{\"value\"=>\"1 Table ...\n",
            "3075  62dcc3c67cd434fe7f9ff5926486ddef  ...  {\"product_specification\"=>[{\"value\"=>\"1 Emerge...\n",
            "3076  0ddc40c08d9a9bafc4d14eddd98db7c0  ...  {\"product_specification\"=>[{\"key\"=>\"Body Mater...\n",
            "3077  c650be5a7da4dc6bf9db35ec8db27eb6  ...  {\"product_specification\"=>[{\"key\"=>\"Type\", \"va...\n",
            "3078  e0b45f558a3ff5c0c02c02ee886003e6  ...  {\"product_specification\"=>[{\"value\"=>\"1 Table ...\n",
            "\n",
            "[2367 rows x 15 columns]\n",
            "(2367, 15)\n"
          ],
          "name": "stdout"
        }
      ]
    },
    {
      "cell_type": "code",
      "metadata": {
        "colab": {
          "base_uri": "https://localhost:8080/"
        },
        "id": "E8UtnjHsrHqb",
        "outputId": "160c9292-0647-4b2b-d9c8-94330fc075a4"
      },
      "source": [
        "# Get the mean study hours using to column name as an index\r\n",
        "mean_study = df_students['StudyHours'].mean()\r\n",
        "\r\n",
        "# Get the mean grade using the column name as a property (just to make the point!)\r\n",
        "mean_grade = df_students.Grade.mean()\r\n",
        "\r\n",
        "# Print the mean study hours and mean grade\r\n",
        "# هنا اواجه مشكله وهي عدم التعرف علي ذلك الكود ماذا يفعل \r\n",
        "print('Average weekly study hours: {:.2f}\\nAverage grade: {:.2f}'.format(mean_study, mean_grade))\r\n",
        "\r\n"
      ],
      "execution_count": null,
      "outputs": [
        {
          "output_type": "stream",
          "text": [
            "Average weekly study hours: 10.52\n",
            "Average grade: 49.18\n"
          ],
          "name": "stdout"
        }
      ]
    },
    {
      "cell_type": "code",
      "metadata": {
        "colab": {
          "base_uri": "https://localhost:8080/",
          "height": 359
        },
        "id": "nd1YISQRsrOL",
        "outputId": "6e22aeee-0bca-4628-a086-967be81c0d76"
      },
      "source": [
        "# Get students who studied for the mean or more hours\r\n",
        "# العثور علي الطلاب الذين درسوا اكثر من نصف الوقت \r\n",
        "df_students[df_students.StudyHours > mean_study]\r\n",
        "#print(\"----------------------------------------------\")\r\n",
        "#df_students[df_students.StudyHours < mean_study]"
      ],
      "execution_count": null,
      "outputs": [
        {
          "output_type": "execute_result",
          "data": {
            "text/html": [
              "<div>\n",
              "<style scoped>\n",
              "    .dataframe tbody tr th:only-of-type {\n",
              "        vertical-align: middle;\n",
              "    }\n",
              "\n",
              "    .dataframe tbody tr th {\n",
              "        vertical-align: top;\n",
              "    }\n",
              "\n",
              "    .dataframe thead th {\n",
              "        text-align: right;\n",
              "    }\n",
              "</style>\n",
              "<table border=\"1\" class=\"dataframe\">\n",
              "  <thead>\n",
              "    <tr style=\"text-align: right;\">\n",
              "      <th></th>\n",
              "      <th>Name</th>\n",
              "      <th>StudyHours</th>\n",
              "      <th>Grade</th>\n",
              "    </tr>\n",
              "  </thead>\n",
              "  <tbody>\n",
              "    <tr>\n",
              "      <th>1</th>\n",
              "      <td>Joann</td>\n",
              "      <td>11.50</td>\n",
              "      <td>50.0</td>\n",
              "    </tr>\n",
              "    <tr>\n",
              "      <th>3</th>\n",
              "      <td>Rosie</td>\n",
              "      <td>16.00</td>\n",
              "      <td>97.0</td>\n",
              "    </tr>\n",
              "    <tr>\n",
              "      <th>6</th>\n",
              "      <td>Frederic</td>\n",
              "      <td>11.50</td>\n",
              "      <td>53.0</td>\n",
              "    </tr>\n",
              "    <tr>\n",
              "      <th>9</th>\n",
              "      <td>Giovanni</td>\n",
              "      <td>14.50</td>\n",
              "      <td>74.0</td>\n",
              "    </tr>\n",
              "    <tr>\n",
              "      <th>10</th>\n",
              "      <td>Francesca</td>\n",
              "      <td>15.50</td>\n",
              "      <td>82.0</td>\n",
              "    </tr>\n",
              "    <tr>\n",
              "      <th>11</th>\n",
              "      <td>Rajab</td>\n",
              "      <td>13.75</td>\n",
              "      <td>62.0</td>\n",
              "    </tr>\n",
              "    <tr>\n",
              "      <th>14</th>\n",
              "      <td>Jenny</td>\n",
              "      <td>15.50</td>\n",
              "      <td>70.0</td>\n",
              "    </tr>\n",
              "    <tr>\n",
              "      <th>19</th>\n",
              "      <td>Skye</td>\n",
              "      <td>12.00</td>\n",
              "      <td>52.0</td>\n",
              "    </tr>\n",
              "    <tr>\n",
              "      <th>20</th>\n",
              "      <td>Daniel</td>\n",
              "      <td>12.50</td>\n",
              "      <td>63.0</td>\n",
              "    </tr>\n",
              "    <tr>\n",
              "      <th>21</th>\n",
              "      <td>Aisha</td>\n",
              "      <td>12.00</td>\n",
              "      <td>64.0</td>\n",
              "    </tr>\n",
              "  </tbody>\n",
              "</table>\n",
              "</div>"
            ],
            "text/plain": [
              "         Name  StudyHours  Grade\n",
              "1       Joann       11.50   50.0\n",
              "3       Rosie       16.00   97.0\n",
              "6    Frederic       11.50   53.0\n",
              "9    Giovanni       14.50   74.0\n",
              "10  Francesca       15.50   82.0\n",
              "11      Rajab       13.75   62.0\n",
              "14      Jenny       15.50   70.0\n",
              "19       Skye       12.00   52.0\n",
              "20     Daniel       12.50   63.0\n",
              "21      Aisha       12.00   64.0"
            ]
          },
          "metadata": {
            "tags": []
          },
          "execution_count": 82
        }
      ]
    },
    {
      "cell_type": "code",
      "metadata": {
        "colab": {
          "base_uri": "https://localhost:8080/"
        },
        "id": "2aVPADBCuEoV",
        "outputId": "a9dccec4-50ae-4763-c2ab-d84c6aa9a728"
      },
      "source": [
        "# على سبيل المثال ، دعنا نعثر على متوسط ​​الدرجات للطلاب الذين قضوا أكثر من متوسط ​​وقت الدراسة.\r\n",
        "df_students[df_students.StudyHours > mean_study].Grade.mean()\r\n"
      ],
      "execution_count": null,
      "outputs": [
        {
          "output_type": "execute_result",
          "data": {
            "text/plain": [
              "66.7"
            ]
          },
          "metadata": {
            "tags": []
          },
          "execution_count": 83
        }
      ]
    },
    {
      "cell_type": "code",
      "metadata": {
        "colab": {
          "base_uri": "https://localhost:8080/",
          "height": 731
        },
        "id": "WDyx33F-upbW",
        "outputId": "616f696f-97c0-433b-d223-9f1630e91c7e"
      },
      "source": [
        "# تمييز الطلاب بالنجاح او الفشل حسب الدرجه المحدده للنجاح وهي ال 60\r\n",
        "passes  = pd.Series(df_students['Grade'] >= 60)\r\n",
        "df_students = pd.concat([df_students, passes.rename(\"Pass\")], axis=1)\r\n",
        "\r\n",
        "df_students"
      ],
      "execution_count": null,
      "outputs": [
        {
          "output_type": "execute_result",
          "data": {
            "text/html": [
              "<div>\n",
              "<style scoped>\n",
              "    .dataframe tbody tr th:only-of-type {\n",
              "        vertical-align: middle;\n",
              "    }\n",
              "\n",
              "    .dataframe tbody tr th {\n",
              "        vertical-align: top;\n",
              "    }\n",
              "\n",
              "    .dataframe thead th {\n",
              "        text-align: right;\n",
              "    }\n",
              "</style>\n",
              "<table border=\"1\" class=\"dataframe\">\n",
              "  <thead>\n",
              "    <tr style=\"text-align: right;\">\n",
              "      <th></th>\n",
              "      <th>Name</th>\n",
              "      <th>StudyHours</th>\n",
              "      <th>Grade</th>\n",
              "      <th>Pass</th>\n",
              "    </tr>\n",
              "  </thead>\n",
              "  <tbody>\n",
              "    <tr>\n",
              "      <th>0</th>\n",
              "      <td>Dan</td>\n",
              "      <td>10.00</td>\n",
              "      <td>50.0</td>\n",
              "      <td>False</td>\n",
              "    </tr>\n",
              "    <tr>\n",
              "      <th>1</th>\n",
              "      <td>Joann</td>\n",
              "      <td>11.50</td>\n",
              "      <td>50.0</td>\n",
              "      <td>False</td>\n",
              "    </tr>\n",
              "    <tr>\n",
              "      <th>2</th>\n",
              "      <td>Pedro</td>\n",
              "      <td>9.00</td>\n",
              "      <td>47.0</td>\n",
              "      <td>False</td>\n",
              "    </tr>\n",
              "    <tr>\n",
              "      <th>3</th>\n",
              "      <td>Rosie</td>\n",
              "      <td>16.00</td>\n",
              "      <td>97.0</td>\n",
              "      <td>True</td>\n",
              "    </tr>\n",
              "    <tr>\n",
              "      <th>4</th>\n",
              "      <td>Ethan</td>\n",
              "      <td>9.25</td>\n",
              "      <td>49.0</td>\n",
              "      <td>False</td>\n",
              "    </tr>\n",
              "    <tr>\n",
              "      <th>5</th>\n",
              "      <td>Vicky</td>\n",
              "      <td>1.00</td>\n",
              "      <td>3.0</td>\n",
              "      <td>False</td>\n",
              "    </tr>\n",
              "    <tr>\n",
              "      <th>6</th>\n",
              "      <td>Frederic</td>\n",
              "      <td>11.50</td>\n",
              "      <td>53.0</td>\n",
              "      <td>False</td>\n",
              "    </tr>\n",
              "    <tr>\n",
              "      <th>7</th>\n",
              "      <td>Jimmie</td>\n",
              "      <td>9.00</td>\n",
              "      <td>42.0</td>\n",
              "      <td>False</td>\n",
              "    </tr>\n",
              "    <tr>\n",
              "      <th>8</th>\n",
              "      <td>Rhonda</td>\n",
              "      <td>8.50</td>\n",
              "      <td>26.0</td>\n",
              "      <td>False</td>\n",
              "    </tr>\n",
              "    <tr>\n",
              "      <th>9</th>\n",
              "      <td>Giovanni</td>\n",
              "      <td>14.50</td>\n",
              "      <td>74.0</td>\n",
              "      <td>True</td>\n",
              "    </tr>\n",
              "    <tr>\n",
              "      <th>10</th>\n",
              "      <td>Francesca</td>\n",
              "      <td>15.50</td>\n",
              "      <td>82.0</td>\n",
              "      <td>True</td>\n",
              "    </tr>\n",
              "    <tr>\n",
              "      <th>11</th>\n",
              "      <td>Rajab</td>\n",
              "      <td>13.75</td>\n",
              "      <td>62.0</td>\n",
              "      <td>True</td>\n",
              "    </tr>\n",
              "    <tr>\n",
              "      <th>12</th>\n",
              "      <td>Naiyana</td>\n",
              "      <td>9.00</td>\n",
              "      <td>37.0</td>\n",
              "      <td>False</td>\n",
              "    </tr>\n",
              "    <tr>\n",
              "      <th>13</th>\n",
              "      <td>Kian</td>\n",
              "      <td>8.00</td>\n",
              "      <td>15.0</td>\n",
              "      <td>False</td>\n",
              "    </tr>\n",
              "    <tr>\n",
              "      <th>14</th>\n",
              "      <td>Jenny</td>\n",
              "      <td>15.50</td>\n",
              "      <td>70.0</td>\n",
              "      <td>True</td>\n",
              "    </tr>\n",
              "    <tr>\n",
              "      <th>15</th>\n",
              "      <td>Jakeem</td>\n",
              "      <td>8.00</td>\n",
              "      <td>27.0</td>\n",
              "      <td>False</td>\n",
              "    </tr>\n",
              "    <tr>\n",
              "      <th>16</th>\n",
              "      <td>Helena</td>\n",
              "      <td>9.00</td>\n",
              "      <td>36.0</td>\n",
              "      <td>False</td>\n",
              "    </tr>\n",
              "    <tr>\n",
              "      <th>17</th>\n",
              "      <td>Ismat</td>\n",
              "      <td>6.00</td>\n",
              "      <td>35.0</td>\n",
              "      <td>False</td>\n",
              "    </tr>\n",
              "    <tr>\n",
              "      <th>18</th>\n",
              "      <td>Anila</td>\n",
              "      <td>10.00</td>\n",
              "      <td>48.0</td>\n",
              "      <td>False</td>\n",
              "    </tr>\n",
              "    <tr>\n",
              "      <th>19</th>\n",
              "      <td>Skye</td>\n",
              "      <td>12.00</td>\n",
              "      <td>52.0</td>\n",
              "      <td>False</td>\n",
              "    </tr>\n",
              "    <tr>\n",
              "      <th>20</th>\n",
              "      <td>Daniel</td>\n",
              "      <td>12.50</td>\n",
              "      <td>63.0</td>\n",
              "      <td>True</td>\n",
              "    </tr>\n",
              "    <tr>\n",
              "      <th>21</th>\n",
              "      <td>Aisha</td>\n",
              "      <td>12.00</td>\n",
              "      <td>64.0</td>\n",
              "      <td>True</td>\n",
              "    </tr>\n",
              "  </tbody>\n",
              "</table>\n",
              "</div>"
            ],
            "text/plain": [
              "         Name  StudyHours  Grade   Pass\n",
              "0         Dan       10.00   50.0  False\n",
              "1       Joann       11.50   50.0  False\n",
              "2       Pedro        9.00   47.0  False\n",
              "3       Rosie       16.00   97.0   True\n",
              "4       Ethan        9.25   49.0  False\n",
              "5       Vicky        1.00    3.0  False\n",
              "6    Frederic       11.50   53.0  False\n",
              "7      Jimmie        9.00   42.0  False\n",
              "8      Rhonda        8.50   26.0  False\n",
              "9    Giovanni       14.50   74.0   True\n",
              "10  Francesca       15.50   82.0   True\n",
              "11      Rajab       13.75   62.0   True\n",
              "12    Naiyana        9.00   37.0  False\n",
              "13       Kian        8.00   15.0  False\n",
              "14      Jenny       15.50   70.0   True\n",
              "15     Jakeem        8.00   27.0  False\n",
              "16     Helena        9.00   36.0  False\n",
              "17      Ismat        6.00   35.0  False\n",
              "18      Anila       10.00   48.0  False\n",
              "19       Skye       12.00   52.0  False\n",
              "20     Daniel       12.50   63.0   True\n",
              "21      Aisha       12.00   64.0   True"
            ]
          },
          "metadata": {
            "tags": []
          },
          "execution_count": 84
        }
      ]
    },
    {
      "cell_type": "code",
      "metadata": {
        "colab": {
          "base_uri": "https://localhost:8080/"
        },
        "id": "Htv1ZKbZvR5L",
        "outputId": "ad7cde1c-6507-4ad8-85e9-6d0ae7ddb7cc"
      },
      "source": [
        "print(df_students.groupby(df_students.Pass).Name.count())\r\n"
      ],
      "execution_count": null,
      "outputs": [
        {
          "output_type": "stream",
          "text": [
            "Pass\n",
            "False    15\n",
            "True      7\n",
            "Name: Name, dtype: int64\n"
          ],
          "name": "stdout"
        }
      ]
    },
    {
      "cell_type": "code",
      "metadata": {
        "colab": {
          "base_uri": "https://localhost:8080/"
        },
        "id": "RD-1dZi4vrX5",
        "outputId": "44c989d3-41b7-4871-87b7-b93dc3d3b9b5"
      },
      "source": [
        "# يمكنك تجميع عدة حقول في مجموعة باستخدام أي وظيفة تجميع متاحة. على سبيل المثال ، يمكنك العثور على متوسط ​​وقت الدراسة والتقدير لمجموعات الطلاب الذين اجتازوا الدورة التدريبية وفشلوا فيها.\r\n",
        "\r\n",
        "print(df_students.groupby(df_students.Pass)['StudyHours', 'Grade'].mean())\r\n"
      ],
      "execution_count": null,
      "outputs": [
        {
          "output_type": "stream",
          "text": [
            "       StudyHours      Grade\n",
            "Pass                        \n",
            "False    8.783333  38.000000\n",
            "True    14.250000  73.142857\n"
          ],
          "name": "stdout"
        },
        {
          "output_type": "stream",
          "text": [
            "/usr/local/lib/python3.6/dist-packages/ipykernel_launcher.py:1: FutureWarning: Indexing with multiple keys (implicitly converted to a tuple of keys) will be deprecated, use a list instead.\n",
            "  \"\"\"Entry point for launching an IPython kernel.\n"
          ],
          "name": "stderr"
        }
      ]
    },
    {
      "cell_type": "code",
      "metadata": {
        "colab": {
          "base_uri": "https://localhost:8080/",
          "height": 731
        },
        "id": "yQ6djkuxv10A",
        "outputId": "7d201688-58a6-4d41-a06b-eb378a3e7d09"
      },
      "source": [
        "# يقوم الكود التالي بفرز بيانات الطالب بترتيب تنازلي من الدرجة ، ويعين DataFrame الناتج إلى متغير df_students الأصلي. \r\n",
        "# Create a DataFrame with the data sorted by Grade (descending)\r\n",
        "df_students = df_students.sort_values('Grade', ascending=False)\r\n",
        "\r\n",
        "# Show the DataFrame\r\n",
        "df_students"
      ],
      "execution_count": null,
      "outputs": [
        {
          "output_type": "execute_result",
          "data": {
            "text/html": [
              "<div>\n",
              "<style scoped>\n",
              "    .dataframe tbody tr th:only-of-type {\n",
              "        vertical-align: middle;\n",
              "    }\n",
              "\n",
              "    .dataframe tbody tr th {\n",
              "        vertical-align: top;\n",
              "    }\n",
              "\n",
              "    .dataframe thead th {\n",
              "        text-align: right;\n",
              "    }\n",
              "</style>\n",
              "<table border=\"1\" class=\"dataframe\">\n",
              "  <thead>\n",
              "    <tr style=\"text-align: right;\">\n",
              "      <th></th>\n",
              "      <th>Name</th>\n",
              "      <th>StudyHours</th>\n",
              "      <th>Grade</th>\n",
              "      <th>Pass</th>\n",
              "    </tr>\n",
              "  </thead>\n",
              "  <tbody>\n",
              "    <tr>\n",
              "      <th>3</th>\n",
              "      <td>Rosie</td>\n",
              "      <td>16.00</td>\n",
              "      <td>97.0</td>\n",
              "      <td>True</td>\n",
              "    </tr>\n",
              "    <tr>\n",
              "      <th>10</th>\n",
              "      <td>Francesca</td>\n",
              "      <td>15.50</td>\n",
              "      <td>82.0</td>\n",
              "      <td>True</td>\n",
              "    </tr>\n",
              "    <tr>\n",
              "      <th>9</th>\n",
              "      <td>Giovanni</td>\n",
              "      <td>14.50</td>\n",
              "      <td>74.0</td>\n",
              "      <td>True</td>\n",
              "    </tr>\n",
              "    <tr>\n",
              "      <th>14</th>\n",
              "      <td>Jenny</td>\n",
              "      <td>15.50</td>\n",
              "      <td>70.0</td>\n",
              "      <td>True</td>\n",
              "    </tr>\n",
              "    <tr>\n",
              "      <th>21</th>\n",
              "      <td>Aisha</td>\n",
              "      <td>12.00</td>\n",
              "      <td>64.0</td>\n",
              "      <td>True</td>\n",
              "    </tr>\n",
              "    <tr>\n",
              "      <th>20</th>\n",
              "      <td>Daniel</td>\n",
              "      <td>12.50</td>\n",
              "      <td>63.0</td>\n",
              "      <td>True</td>\n",
              "    </tr>\n",
              "    <tr>\n",
              "      <th>11</th>\n",
              "      <td>Rajab</td>\n",
              "      <td>13.75</td>\n",
              "      <td>62.0</td>\n",
              "      <td>True</td>\n",
              "    </tr>\n",
              "    <tr>\n",
              "      <th>6</th>\n",
              "      <td>Frederic</td>\n",
              "      <td>11.50</td>\n",
              "      <td>53.0</td>\n",
              "      <td>False</td>\n",
              "    </tr>\n",
              "    <tr>\n",
              "      <th>19</th>\n",
              "      <td>Skye</td>\n",
              "      <td>12.00</td>\n",
              "      <td>52.0</td>\n",
              "      <td>False</td>\n",
              "    </tr>\n",
              "    <tr>\n",
              "      <th>1</th>\n",
              "      <td>Joann</td>\n",
              "      <td>11.50</td>\n",
              "      <td>50.0</td>\n",
              "      <td>False</td>\n",
              "    </tr>\n",
              "    <tr>\n",
              "      <th>0</th>\n",
              "      <td>Dan</td>\n",
              "      <td>10.00</td>\n",
              "      <td>50.0</td>\n",
              "      <td>False</td>\n",
              "    </tr>\n",
              "    <tr>\n",
              "      <th>4</th>\n",
              "      <td>Ethan</td>\n",
              "      <td>9.25</td>\n",
              "      <td>49.0</td>\n",
              "      <td>False</td>\n",
              "    </tr>\n",
              "    <tr>\n",
              "      <th>18</th>\n",
              "      <td>Anila</td>\n",
              "      <td>10.00</td>\n",
              "      <td>48.0</td>\n",
              "      <td>False</td>\n",
              "    </tr>\n",
              "    <tr>\n",
              "      <th>2</th>\n",
              "      <td>Pedro</td>\n",
              "      <td>9.00</td>\n",
              "      <td>47.0</td>\n",
              "      <td>False</td>\n",
              "    </tr>\n",
              "    <tr>\n",
              "      <th>7</th>\n",
              "      <td>Jimmie</td>\n",
              "      <td>9.00</td>\n",
              "      <td>42.0</td>\n",
              "      <td>False</td>\n",
              "    </tr>\n",
              "    <tr>\n",
              "      <th>12</th>\n",
              "      <td>Naiyana</td>\n",
              "      <td>9.00</td>\n",
              "      <td>37.0</td>\n",
              "      <td>False</td>\n",
              "    </tr>\n",
              "    <tr>\n",
              "      <th>16</th>\n",
              "      <td>Helena</td>\n",
              "      <td>9.00</td>\n",
              "      <td>36.0</td>\n",
              "      <td>False</td>\n",
              "    </tr>\n",
              "    <tr>\n",
              "      <th>17</th>\n",
              "      <td>Ismat</td>\n",
              "      <td>6.00</td>\n",
              "      <td>35.0</td>\n",
              "      <td>False</td>\n",
              "    </tr>\n",
              "    <tr>\n",
              "      <th>15</th>\n",
              "      <td>Jakeem</td>\n",
              "      <td>8.00</td>\n",
              "      <td>27.0</td>\n",
              "      <td>False</td>\n",
              "    </tr>\n",
              "    <tr>\n",
              "      <th>8</th>\n",
              "      <td>Rhonda</td>\n",
              "      <td>8.50</td>\n",
              "      <td>26.0</td>\n",
              "      <td>False</td>\n",
              "    </tr>\n",
              "    <tr>\n",
              "      <th>13</th>\n",
              "      <td>Kian</td>\n",
              "      <td>8.00</td>\n",
              "      <td>15.0</td>\n",
              "      <td>False</td>\n",
              "    </tr>\n",
              "    <tr>\n",
              "      <th>5</th>\n",
              "      <td>Vicky</td>\n",
              "      <td>1.00</td>\n",
              "      <td>3.0</td>\n",
              "      <td>False</td>\n",
              "    </tr>\n",
              "  </tbody>\n",
              "</table>\n",
              "</div>"
            ],
            "text/plain": [
              "         Name  StudyHours  Grade   Pass\n",
              "3       Rosie       16.00   97.0   True\n",
              "10  Francesca       15.50   82.0   True\n",
              "9    Giovanni       14.50   74.0   True\n",
              "14      Jenny       15.50   70.0   True\n",
              "21      Aisha       12.00   64.0   True\n",
              "20     Daniel       12.50   63.0   True\n",
              "11      Rajab       13.75   62.0   True\n",
              "6    Frederic       11.50   53.0  False\n",
              "19       Skye       12.00   52.0  False\n",
              "1       Joann       11.50   50.0  False\n",
              "0         Dan       10.00   50.0  False\n",
              "4       Ethan        9.25   49.0  False\n",
              "18      Anila       10.00   48.0  False\n",
              "2       Pedro        9.00   47.0  False\n",
              "7      Jimmie        9.00   42.0  False\n",
              "12    Naiyana        9.00   37.0  False\n",
              "16     Helena        9.00   36.0  False\n",
              "17      Ismat        6.00   35.0  False\n",
              "15     Jakeem        8.00   27.0  False\n",
              "8      Rhonda        8.50   26.0  False\n",
              "13       Kian        8.00   15.0  False\n",
              "5       Vicky        1.00    3.0  False"
            ]
          },
          "metadata": {
            "tags": []
          },
          "execution_count": 87
        }
      ]
    },
    {
      "cell_type": "markdown",
      "metadata": {
        "id": "lhQfoM1K_lbs"
      },
      "source": [
        "Visualizing data with Matplotlib¶\r\n"
      ]
    },
    {
      "cell_type": "code",
      "metadata": {
        "colab": {
          "base_uri": "https://localhost:8080/",
          "height": 265
        },
        "id": "jTpyWWaAwOHP",
        "outputId": "d8e6517a-4c25-4625-e45c-d8ba76441ff0"
      },
      "source": [
        "# Ensure plots are displayed inline in the notebook\r\n",
        "#%matplotlib inline\r\n",
        "\r\n",
        "from matplotlib import pyplot as plt\r\n",
        "\r\n",
        "# Create a bar plot of name vs grade\r\n",
        "plt.bar(x=df_students.Name, height=df_students.Grade)\r\n",
        "\r\n",
        "# Display the plot\r\n",
        "plt.show()"
      ],
      "execution_count": null,
      "outputs": [
        {
          "output_type": "display_data",
          "data": {
            "image/png": "[encoded data removed]",
            "text/plain": [
              "<Figure size 432x288 with 1 Axes>"
            ]
          },
          "metadata": {
            "tags": [],
            "needs_background": "light"
          }
        }
      ]
    },
    {
      "cell_type": "code",
      "metadata": {
        "colab": {
          "base_uri": "https://localhost:8080/",
          "height": 265
        },
        "id": "lk4qADhECot_",
        "outputId": "49f2668b-60f8-45f1-d23f-957794f68aff"
      },
      "source": [
        "# Ensure plots are displayed inline in the notebook\r\n",
        "#%matplotlib inline\r\n",
        "\r\n",
        "from matplotlib import pyplot as plt\r\n",
        "\r\n",
        "# Create a bar plot of name vs grade\r\n",
        "plt.bar(x=modf_students.Name, height=modf_students.Grade,color=\"orange\")\r\n",
        "\r\n",
        "# Display the plot\r\n",
        "plt.show()"
      ],
      "execution_count": null,
      "outputs": [
        {
          "output_type": "display_data",
          "data": {
            "image/png": "[encoded data removed]",
            "text/plain": [
              "<Figure size 432x288 with 1 Axes>"
            ]
          },
          "metadata": {
            "tags": [],
            "needs_background": "light"
          }
        }
      ]
    },
    {
      "cell_type": "code",
      "metadata": {
        "colab": {
          "base_uri": "https://localhost:8080/",
          "height": 281
        },
        "id": "HBU5R7FoFXBg",
        "outputId": "360cb515-2ec1-4990-c6e9-725506541604"
      },
      "source": [
        "# Create a bar plot of name vs grade\r\n",
        "fig = plt.figure(figsize=(10,3))\r\n",
        "\r\n",
        "plt.bar(x=df_students.Name, height=df_students.Grade, color='orange')\r\n",
        "\r\n",
        "# Customize the chart\r\n",
        "plt.title('Student Grades')\r\n",
        "plt.xlabel('Student')\r\n",
        "plt.ylabel('Grade')\r\n",
        "plt.grid(color='#95a5a6', linestyle='--', linewidth=2, axis='y', alpha=1.0)\r\n",
        "plt.xticks(rotation=90)\r\n",
        "\r\n",
        "# Display the plot\r\n",
        "plt.show()"
      ],
      "execution_count": null,
      "outputs": [
        {
          "output_type": "display_data",
          "data": {
            "image/png": "[encoded data removed]",
            "text/plain": [
              "<Figure size 720x216 with 1 Axes>"
            ]
          },
          "metadata": {
            "tags": [],
            "needs_background": "light"
          }
        }
      ]
    },
    {
      "cell_type": "code",
      "metadata": {
        "colab": {
          "base_uri": "https://localhost:8080/",
          "height": 281
        },
        "id": "l_Y8lR1NSrY6",
        "outputId": "454d2e61-3501-4832-c8cb-ae80b58be81e"
      },
      "source": [
        "# Create a Figure\r\n",
        "#  ال10 لمحور اكس وال ال3 لمحور واي \r\n",
        "fig = plt.figure(figsize=(10,3))\r\n",
        "\r\n",
        "# Create a bar plot of name vs grade\r\n",
        "plt.bar(x=df_students.Name, height=df_students.Grade, color='orange')\r\n",
        "\r\n",
        "# Customize the chart\r\n",
        "plt.title('Student Grades')\r\n",
        "plt.xlabel('Student')\r\n",
        "plt.ylabel('Grade')\r\n",
        "plt.grid(color='#95a5a6', linestyle='--', linewidth=2, axis='y', alpha=0.7)\r\n",
        "plt.xticks(rotation=90)\r\n",
        "\r\n",
        "# Show the figure\r\n",
        "plt.show()"
      ],
      "execution_count": null,
      "outputs": [
        {
          "output_type": "display_data",
          "data": {
            "image/png": "[encoded data removed]",
            "text/plain": [
              "<Figure size 720x216 with 1 Axes>"
            ]
          },
          "metadata": {
            "tags": [],
            "needs_background": "light"
          }
        }
      ]
    },
    {
      "cell_type": "code",
      "metadata": {
        "colab": {
          "base_uri": "https://localhost:8080/",
          "height": 334
        },
        "id": "blK3yA5iWtyI",
        "outputId": "f0dfed24-1e86-4274-a4ef-311649571b10"
      },
      "source": [
        "\r\n",
        "# Create a figure for 2 subplots (1 row, 2 columns)\r\n",
        "fig, ax = plt.subplots(1,2, figsize = (10,4))\r\n",
        "\r\n",
        "# Create a bar plot of name vs grade on the first axis\r\n",
        "# ال 0 تدل علي الشكل البياني الاول وال ال1 تدل علي الشكل البياني الثاني \r\n",
        "ax[0].bar(x=df_students.Name, height=df_students.Grade, color='orange')\r\n",
        "ax[0].set_title('Grades')\r\n",
        "ax[0].set_xticklabels(df_students.Name, rotation=90)\r\n",
        "\r\n",
        "# Create a pie chart of pass counts on the second axis\r\n",
        "pass_counts = df_students['Pass'].value_counts()\r\n",
        "ax[1].pie(pass_counts, labels=pass_counts)\r\n",
        "ax[1].set_title('Passing Grades')\r\n",
        "ax[1].legend(pass_counts.keys().tolist())\r\n",
        "\r\n",
        "# Add a title to the Figure\r\n",
        "fig.suptitle('Student Data')\r\n",
        "\r\n",
        "# Show the figure\r\n",
        "fig.show()"
      ],
      "execution_count": null,
      "outputs": [
        {
          "output_type": "display_data",
          "data": {
            "image/png": "[encoded data removed]",
            "text/plain": [
              "<Figure size 720x288 with 2 Axes>"
            ]
          },
          "metadata": {
            "tags": [],
            "needs_background": "light"
          }
        }
      ]
    },
    {
      "cell_type": "code",
      "metadata": {
        "colab": {
          "base_uri": "https://localhost:8080/",
          "height": 336
        },
        "id": "N2cQBODvXRkm",
        "outputId": "b1f27551-19ce-49e1-e0ef-a7c0cc1a756f"
      },
      "source": [
        "df_students.plot.bar(x='Name', y='StudyHours', color='red', figsize=(6,4))\r\n"
      ],
      "execution_count": null,
      "outputs": [
        {
          "output_type": "execute_result",
          "data": {
            "text/plain": [
              "<matplotlib.axes._subplots.AxesSubplot at 0x7f9c3fe78e48>"
            ]
          },
          "metadata": {
            "tags": []
          },
          "execution_count": 118
        },
        {
          "output_type": "display_data",
          "data": {
            "image/png": "[encoded data removed]",
            "text/plain": [
              "<Figure size 432x288 with 1 Axes>"
            ]
          },
          "metadata": {
            "tags": [],
            "needs_background": "light"
          }
        }
      ]
    },
    {
      "cell_type": "markdown",
      "metadata": {
        "id": "as3vprWrY2Jw"
      },
      "source": [
        "Getting started with statistical analysis\r\n"
      ]
    },
    {
      "cell_type": "markdown",
      "metadata": {
        "id": "6hGwx4MOZLVP"
      },
      "source": [
        "Descriptive statistics and data distribution\r\n",
        "\r\n",
        "> Indented block\r\n",
        "الاحصاء الوصفيه وتوزيع البيانات \r\n",
        "عند فحص متغير (على سبيل المثال ، عينة من درجات الطلاب) ، يهتم علماء البيانات بشكل خاص بتوزيعه (بمعنى آخر ، كيف تنتشر جميع قيم التقدير المختلفة عبر العينة). غالبًا ما تكون نقطة البداية لهذا الاستكشاف هي تصور البيانات كرسم بياني ، ومعرفة مدى تكرار حدوث كل قيمة للمتغير. \r\n",
        "\r\n",
        "\r\n"
      ]
    },
    {
      "cell_type": "code",
      "metadata": {
        "colab": {
          "base_uri": "https://localhost:8080/",
          "height": 295
        },
        "id": "6EeyBNfIYX0p",
        "outputId": "80fe1f5b-7463-499b-8ab6-168e2976dad2"
      },
      "source": [
        "\r\n",
        "# Get the variable to examine\r\n",
        "var_data = df_students['Grade']\r\n",
        "\r\n",
        "# Create a Figure\r\n",
        "fig = plt.figure(figsize=(10,4))\r\n",
        "\r\n",
        "# Plot a histogram\r\n",
        "plt.hist(var_data)\r\n",
        "\r\n",
        "# Add titles and labels\r\n",
        "plt.title('Data Distribution')\r\n",
        "plt.xlabel('Value')\r\n",
        "plt.ylabel('Frequency')\r\n",
        "\r\n",
        "# Show the figure\r\n",
        "fig.show()"
      ],
      "execution_count": null,
      "outputs": [
        {
          "output_type": "display_data",
          "data": {
            "image/png": "[encoded data removed]",
            "text/plain": [
              "<Figure size 720x288 with 1 Axes>"
            ]
          },
          "metadata": {
            "tags": [],
            "needs_background": "light"
          }
        }
      ]
    },
    {
      "cell_type": "markdown",
      "metadata": {
        "id": "uPmaKphsl77F"
      },
      "source": [
        "Measures of central tendency¶\r\n",
        "مقياس النزعه المركزيه والميل \r\n"
      ]
    },
    {
      "cell_type": "code",
      "metadata": {
        "colab": {
          "base_uri": "https://localhost:8080/",
          "height": 397
        },
        "id": "4TLBB1beloTU",
        "outputId": "3d218830-6216-411f-a969-23e42444b8b2"
      },
      "source": [
        "\r\n",
        "# Get the variable to examine\r\n",
        "var = df_students['Grade']\r\n",
        "\r\n",
        "# Get statistics\r\n",
        "min_val = var.min()\r\n",
        "max_val = var.max()\r\n",
        "mean_val = var.mean()\r\n",
        "med_val = var.median()\r\n",
        "mod_val = var.mode()[0]\r\n",
        "\r\n",
        "print('Minimum:{:.2f}\\nMean:{:.2f}\\nMedian:{:.2f}\\nMode:{:.2f}\\nMaximum:{:.2f}\\n'.format(min_val,\r\n",
        "                                                                                        mean_val,\r\n",
        "                                                                                        med_val,\r\n",
        "                                                                                        mod_val,\r\n",
        "                                                                                        max_val))\r\n",
        "\r\n",
        "# Create a Figure\r\n",
        "fig = plt.figure(figsize=(10,4))\r\n",
        "\r\n",
        "# Plot a histogram\r\n",
        "#وذلك من دون  اي بيانات علي الشكل \r\n",
        "plt.hist(var)\r\n",
        "\r\n",
        "# Add lines for the statistics\r\n",
        "# رقم 2 هو من اجل اظهار الخط بشكل اوضح \r\n",
        "plt.axvline(x=min_val, color = 'gray', linestyle='dashed', linewidth = 2)\r\n",
        "plt.axvline(x=mean_val, color = 'cyan', linestyle='dashed', linewidth = 2)\r\n",
        "plt.axvline(x=med_val, color = 'red', linestyle='dashed', linewidth = 2)\r\n",
        "plt.axvline(x=mod_val, color = 'yellow', linestyle='dashed', linewidth = 2)\r\n",
        "plt.axvline(x=max_val, color = 'gray', linestyle='dashed', linewidth = 2)\r\n",
        "\r\n",
        "# Add titles and labels\r\n",
        "plt.title('Data Distribution')\r\n",
        "plt.xlabel('Value')\r\n",
        "plt.ylabel('Frequency')\r\n",
        "\r\n",
        "# Show the figure\r\n",
        "fig.show()"
      ],
      "execution_count": null,
      "outputs": [
        {
          "output_type": "stream",
          "text": [
            "Minimum:3.00\n",
            "Mean:49.18\n",
            "Median:49.50\n",
            "Mode:50.00\n",
            "Maximum:97.00\n",
            "\n"
          ],
          "name": "stdout"
        },
        {
          "output_type": "display_data",
          "data": {
            "image/png": "[encoded data removed]",
            "text/plain": [
              "<Figure size 720x288 with 1 Axes>"
            ]
          },
          "metadata": {
            "tags": [],
            "needs_background": "light"
          }
        }
      ]
    },
    {
      "cell_type": "code",
      "metadata": {
        "colab": {
          "base_uri": "https://localhost:8080/",
          "height": 418
        },
        "id": "HrSFK38PmT8G",
        "outputId": "1c5dd828-21be-46a8-f80e-eb316efac71a"
      },
      "source": [
        "# تفصيل من الكود السابق \r\n",
        "print('Minimum:{:.2f}\\nMean:{:.2f}\\nMedian:{:.2f}\\nMode:{:.2f}\\nMaximum:{:.2f}\\n'.format(min_val,\r\n",
        "                                                                                        mean_val,\r\n",
        "                                                                                        med_val,\r\n",
        "                                                                                        mod_val,\r\n",
        "                                                                                        max_val))\r\n",
        "plt.hist(var)\r\n"
      ],
      "execution_count": null,
      "outputs": [
        {
          "output_type": "stream",
          "text": [
            "Minimum:3.00\n",
            "Mean:49.18\n",
            "Median:49.50\n",
            "Mode:50.00\n",
            "Maximum:97.00\n",
            "\n"
          ],
          "name": "stdout"
        },
        {
          "output_type": "execute_result",
          "data": {
            "text/plain": [
              "(array([1., 1., 2., 3., 4., 4., 3., 2., 1., 1.]),\n",
              " array([ 3. , 12.4, 21.8, 31.2, 40.6, 50. , 59.4, 68.8, 78.2, 87.6, 97. ]),\n",
              " <a list of 10 Patch objects>)"
            ]
          },
          "metadata": {
            "tags": []
          },
          "execution_count": 127
        },
        {
          "output_type": "display_data",
          "data": {
            "image/png": "[encoded data removed]",
            "text/plain": [
              "<Figure size 432x288 with 1 Axes>"
            ]
          },
          "metadata": {
            "tags": [],
            "needs_background": "light"
          }
        }
      ]
    },
    {
      "cell_type": "code",
      "metadata": {
        "colab": {
          "base_uri": "https://localhost:8080/",
          "height": 281
        },
        "id": "NgINMlAam7do",
        "outputId": "f62610c5-1934-49a4-da5d-46e1175584bf"
      },
      "source": [
        "# طريقه اخري لاظهار البيانات كالكود السابق \r\n",
        "# Get the variable to examine\r\n",
        "var = df_students['Grade']\r\n",
        "\r\n",
        "# Create a Figure\r\n",
        "fig = plt.figure(figsize=(10,4))\r\n",
        "\r\n",
        "# Plot a histogram\r\n",
        "plt.boxplot(var)\r\n",
        "\r\n",
        "# Add titles and labels\r\n",
        "plt.title('Data Distribution')\r\n",
        "\r\n",
        "# Show the figure\r\n",
        "fig.show()\r\n",
        "# نلاحظ ان اكبر توزيع للبيانات عند 50 لمحور واي وهو مطابق تماما للشكل السابق من حيث المعلومات التي يعطيها لنا الشكل "
      ],
      "execution_count": null,
      "outputs": [
        {
          "output_type": "display_data",
          "data": {
            "image/png": "[encoded data removed]",
            "text/plain": [
              "<Figure size 720x288 with 1 Axes>"
            ]
          },
          "metadata": {
            "tags": [],
            "needs_background": "light"
          }
        }
      ]
    },
    {
      "cell_type": "code",
      "metadata": {
        "colab": {
          "base_uri": "https://localhost:8080/",
          "height": 410
        },
        "id": "8zmagrtNpOqm",
        "outputId": "dfbb1f1f-c8c6-4375-c67d-77d737734c19"
      },
      "source": [
        "# هي داله للدمج بين المخططين السابقين \r\n",
        "# Create a function that we can re-use\r\n",
        "def show_distribution(var_data):\r\n",
        "    from matplotlib import pyplot as plt\r\n",
        "\r\n",
        "    # Get statistics\r\n",
        "    min_val = var_data.min()\r\n",
        "    max_val = var_data.max()\r\n",
        "    mean_val = var_data.mean()\r\n",
        "    med_val = var_data.median()\r\n",
        "    mod_val = var_data.mode()[0]\r\n",
        "\r\n",
        "    print('Minimum:{:.2f}\\nMean:{:.2f}\\nMedian:{:.2f}\\nMode:{:.2f}\\nMaximum:{:.2f}\\n'.format(min_val,\r\n",
        "                                                                                            mean_val,\r\n",
        "                                                                                            med_val,\r\n",
        "                                                                                            mod_val,\r\n",
        "                                                                                            max_val))\r\n",
        "\r\n",
        "    # Create a figure for 2 subplots (2 rows, 1 column)\r\n",
        "    fig, ax = plt.subplots(2, 1, figsize = (10,4))\r\n",
        "\r\n",
        "    # Plot the histogram   \r\n",
        "    ax[0].hist(var_data)\r\n",
        "    ax[0].set_ylabel('Frequency')\r\n",
        "\r\n",
        "    # Add lines for the mean, median, and mode\r\n",
        "    ax[0].axvline(x=min_val, color = 'gray', linestyle='dashed', linewidth = 2)\r\n",
        "    ax[0].axvline(x=mean_val, color = 'cyan', linestyle='dashed', linewidth = 2)\r\n",
        "    ax[0].axvline(x=med_val, color = 'red', linestyle='dashed', linewidth = 2)\r\n",
        "    ax[0].axvline(x=mod_val, color = 'yellow', linestyle='dashed', linewidth = 2)\r\n",
        "    ax[0].axvline(x=max_val, color = 'gray', linestyle='dashed', linewidth = 2)\r\n",
        "\r\n",
        "    # Plot the boxplot   \r\n",
        "    ax[1].boxplot(var_data, vert=False)\r\n",
        "    ax[1].set_xlabel('Value')\r\n",
        "\r\n",
        "    # Add a title to the Figure\r\n",
        "    fig.suptitle('Data Distribution')\r\n",
        "\r\n",
        "    # Show the figure\r\n",
        "    fig.show()\r\n",
        "\r\n",
        "# Get the variable to examine\r\n",
        "col = df_students['Grade']\r\n",
        "# Call the function\r\n",
        "show_distribution(col)"
      ],
      "execution_count": null,
      "outputs": [
        {
          "output_type": "stream",
          "text": [
            "Minimum:3.00\n",
            "Mean:49.18\n",
            "Median:49.50\n",
            "Mode:50.00\n",
            "Maximum:97.00\n",
            "\n"
          ],
          "name": "stdout"
        },
        {
          "output_type": "display_data",
          "data": {
            "image/png": "[encoded data removed]",
            "text/plain": [
              "<Figure size 720x288 with 2 Axes>"
            ]
          },
          "metadata": {
            "tags": [],
            "needs_background": "light"
          }
        }
      ]
    },
    {
      "cell_type": "markdown",
      "metadata": {
        "id": "syikDsIZrDgw"
      },
      "source": [
        "التالي هو اظهار داله كثافه الاحتمال باستخدام عدد كافٍ من هذه المتغيرات العشوائية ، يمكنك حساب ما يسمى دالة كثافة الاحتمال ، والتي تقدر توزيع الدرجات لكافة السكان. \r\n",
        "probability density function, which estimates the distribution of grades for the full population.\r\n"
      ]
    },
    {
      "cell_type": "code",
      "metadata": {
        "colab": {
          "base_uri": "https://localhost:8080/",
          "height": 281
        },
        "id": "sMK7lxQmp8D9",
        "outputId": "cac33b70-ddaf-4854-8cc3-658a01bf4f8c"
      },
      "source": [
        "def show_density(var_data):\r\n",
        "    from matplotlib import pyplot as plt\r\n",
        "\r\n",
        "    fig = plt.figure(figsize=(10,4))\r\n",
        "\r\n",
        "    # Plot density\r\n",
        "    var_data.plot.density()\r\n",
        "\r\n",
        "    # Add titles and labels\r\n",
        "    plt.title('Data Density')\r\n",
        "\r\n",
        "    # Show the mean, median, and mode\r\n",
        "    plt.axvline(x=var_data.mean(), color = 'cyan', linestyle='dashed', linewidth = 2)\r\n",
        "    plt.axvline(x=var_data.median(), color = 'red', linestyle='dashed', linewidth = 2)\r\n",
        "    plt.axvline(x=var_data.mode()[0], color = 'yellow', linestyle='dashed', linewidth = 2)\r\n",
        "\r\n",
        "    # Show the figure\r\n",
        "    plt.show()\r\n",
        "\r\n",
        "# Get the density of Grade\r\n",
        "col = df_students['Grade']\r\n",
        "show_density(col)"
      ],
      "execution_count": null,
      "outputs": [
        {
          "output_type": "display_data",
          "data": {
            "image/png": "[encoded data removed]",
            "text/plain": [
              "<Figure size 720x288 with 1 Axes>"
            ]
          },
          "metadata": {
            "tags": [],
            "needs_background": "light"
          }
        }
      ]
    },
    {
      "cell_type": "code",
      "metadata": {
        "colab": {
          "base_uri": "https://localhost:8080/",
          "height": 410
        },
        "id": "Nq6qXSXNrg1s",
        "outputId": "98239e22-580f-45de-c2b3-88c2662aada6"
      },
      "source": [
        "# Get the variable to examine\r\n",
        "# القاء نظره علي توزيع ساعات الدراسه \r\n",
        "col = df_students['StudyHours']\r\n",
        "# Call the function\r\n",
        "show_distribution(col)\r\n",
        "# نلاحظ وجود شذوذ في التوزيع "
      ],
      "execution_count": null,
      "outputs": [
        {
          "output_type": "stream",
          "text": [
            "Minimum:1.00\n",
            "Mean:10.52\n",
            "Median:10.00\n",
            "Mode:9.00\n",
            "Maximum:16.00\n",
            "\n"
          ],
          "name": "stdout"
        },
        {
          "output_type": "display_data",
          "data": {
            "image/png": "[encoded data removed]",
            "text/plain": [
              "<Figure size 720x288 with 2 Axes>"
            ]
          },
          "metadata": {
            "tags": [],
            "needs_background": "light"
          }
        }
      ]
    },
    {
      "cell_type": "code",
      "metadata": {
        "colab": {
          "base_uri": "https://localhost:8080/",
          "height": 410
        },
        "id": "kEMFIQUlr1NW",
        "outputId": "a3ed9d65-38d1-4c05-9d58-94e6529a83c0"
      },
      "source": [
        "# Get the variable to examine\r\n",
        "col = df_students[df_students.StudyHours>1]['StudyHours']\r\n",
        "# Call the function\r\n",
        "show_distribution(col)\r\n",
        "\r\n",
        "# التوزيع الطبيعي بدون شذوذ في التوزيع "
      ],
      "execution_count": null,
      "outputs": [
        {
          "output_type": "stream",
          "text": [
            "Minimum:6.00\n",
            "Mean:10.98\n",
            "Median:10.00\n",
            "Mode:9.00\n",
            "Maximum:16.00\n",
            "\n"
          ],
          "name": "stdout"
        },
        {
          "output_type": "display_data",
          "data": {
            "image/png": "[encoded data removed]",
            "text/plain": [
              "<Figure size 720x288 with 2 Axes>"
            ]
          },
          "metadata": {
            "tags": [],
            "needs_background": "light"
          }
        }
      ]
    },
    {
      "cell_type": "markdown",
      "metadata": {
        "id": "x4YAEitPtEfW"
      },
      "source": [
        "يستخدم الكود التالي وظيفة Pandas quantile لاستبعاد الملاحظات التي تقل عن النسبة المئوية 0.01 (القيمة التي يوجد فوقها 99٪ من البيانات)."
      ]
    },
    {
      "cell_type": "code",
      "metadata": {
        "colab": {
          "base_uri": "https://localhost:8080/",
          "height": 410
        },
        "id": "zeBRJWQLsc2U",
        "outputId": "8285ab2d-848e-4965-e111-1f0f81994b06"
      },
      "source": [
        "q01 = df_students.StudyHours.quantile(0.01)\r\n",
        "# Get the variable to examine\r\n",
        "col = df_students[df_students.StudyHours>q01]['StudyHours']\r\n",
        "# Call the function\r\n",
        "show_distribution(col)"
      ],
      "execution_count": null,
      "outputs": [
        {
          "output_type": "stream",
          "text": [
            "Minimum:6.00\n",
            "Mean:10.98\n",
            "Median:10.00\n",
            "Mode:9.00\n",
            "Maximum:16.00\n",
            "\n"
          ],
          "name": "stdout"
        },
        {
          "output_type": "display_data",
          "data": {
            "image/png": "[encoded data removed]",
            "text/plain": [
              "<Figure size 720x288 with 2 Axes>"
            ]
          },
          "metadata": {
            "tags": [],
            "needs_background": "light"
          }
        }
      ]
    },
    {
      "cell_type": "markdown",
      "metadata": {
        "id": "CuZJa3yytkQT"
      },
      "source": [
        "نصيحة: يمكنك أيضًا التخلص من القيم المتطرفة في الطرف العلوي للتوزيع عن طريق تحديد عتبة بقيمة مئوية عالية - على سبيل المثال ، يمكنك استخدام الدالة الكمية للعثور على النسبة المئوية 0.99 التي يوجد تحتها 99٪ من البيانات.\r\n",
        "\r\n",
        "مع إزالة القيم المتطرفة ، يعرض مخطط الصندوق جميع البيانات داخل الأرباع الأربعة. لاحظ أن التوزيع ليس متماثلًا كما هو الحال بالنسبة لبيانات الصف رغم ذلك - هناك بعض الطلاب لديهم أوقات دراسة عالية جدًا تبلغ حوالي 16 ساعة ، ولكن الجزء الأكبر من البيانات يتراوح بين 7 و 13 ساعة ؛ تسحب القيم القليلة العالية للغاية المتوسط نحو النهاية الأعلى للمقياس."
      ]
    },
    {
      "cell_type": "code",
      "metadata": {
        "colab": {
          "base_uri": "https://localhost:8080/",
          "height": 281
        },
        "id": "t0tXkBVmtMLu",
        "outputId": "4885beaa-0992-44ba-f45d-db7162a4c8cf"
      },
      "source": [
        "# Get the density of StudyHours\r\n",
        "show_density(col)\r\n",
        "#يسمى هذا النوع من التوزيع بالانحراف الصحيح.\r\n",
        "#توجد كتلة البيانات على الجانب الأيسر من التوزيع \r\n",
        "# مما يؤدي إلى إنشاء ذيل طويل إلى اليمين بسبب القيم الموجودة في الطرف الأعلى الأقصى ؛ التي تسحب الوسيلة إلى اليمين.\r\n"
      ],
      "execution_count": null,
      "outputs": [
        {
          "output_type": "display_data",
          "data": {
            "image/png": "[encoded data removed]",
            "text/plain": [
              "<Figure size 720x288 with 1 Axes>"
            ]
          },
          "metadata": {
            "tags": [],
            "needs_background": "light"
          }
        }
      ]
    },
    {
      "cell_type": "markdown",
      "metadata": {
        "id": "IOuDcVM9uKwy"
      },
      "source": [
        "مقياس التباين \r\n",
        "Measures of variance¶\r\n",
        "بعد معرفه مكان توزيع البيانات \r\n",
        "Typical statistics that measure variability in the data include:\r\n",
        "\r\n",
        "Range: The difference between the maximum and minimum. There's no built-in function for this, but it's easy to calculate using the min and max functions.\r\n",
        "Variance: The average of the squared difference from the mean. You can use the built-in var function to find this.\r\n",
        "Standard Deviation: The square root of the variance. You can use the built-in std function to find this."
      ]
    },
    {
      "cell_type": "code",
      "metadata": {
        "colab": {
          "base_uri": "https://localhost:8080/"
        },
        "id": "rmsDfuj2ttpL",
        "outputId": "31c9d622-f600-43bf-d756-602c262b6de8"
      },
      "source": [
        "for col_name in ['Grade','StudyHours']:\r\n",
        "    col = df_students[col_name]\r\n",
        "    rng = col.max() - col.min()\r\n",
        "    var = col.var()\r\n",
        "    std = col.std()\r\n",
        "    print('\\n{}:\\n - Range: {:.2f}\\n - Variance: {:.2f}\\n - Std.Dev: {:.2f}'.format(col_name, rng, var, std))"
      ],
      "execution_count": null,
      "outputs": [
        {
          "output_type": "stream",
          "text": [
            "\n",
            "Grade:\n",
            " - Range: 94.00\n",
            " - Variance: 472.54\n",
            " - Std.Dev: 21.74\n",
            "\n",
            "StudyHours:\n",
            " - Range: 15.00\n",
            " - Variance: 12.16\n",
            " - Std.Dev: 3.49\n"
          ],
          "name": "stdout"
        }
      ]
    },
    {
      "cell_type": "markdown",
      "metadata": {
        "id": "U9theQS-vE-c"
      },
      "source": [
        "من بين هذه الإحصائيات ، يكون الانحراف المعياري هو الأكثر فائدة بشكل عام. يوفر مقياسًا للتباين في البيانات على نفس المقياس مثل البيانات نفسها (أي نقاط الدرجات لتوزيع الدرجة وساعات توزيع ساعات الدراسة). كلما زاد الانحراف المعياري ، زاد التباين عند مقارنة القيم في التوزيع مع يعني التوزيع - وبعبارة أخرى ، يتم توزيع البيانات بشكل أكبر.\r\n",
        "\r\n",
        "عند العمل مع التوزيع الطبيعي ، يعمل الانحراف المعياري مع الخصائص المعينة للتوزيع الطبيعي لتوفير رؤية أكبر"
      ]
    },
    {
      "cell_type": "code",
      "metadata": {
        "colab": {
          "base_uri": "https://localhost:8080/",
          "height": 248
        },
        "id": "eC9RzpDguwi5",
        "outputId": "0d7f005a-e0eb-46ec-be24-ef0aa3c355db"
      },
      "source": [
        "import scipy.stats as stats\r\n",
        "\r\n",
        "# Get the Grade column\r\n",
        "col = df_students['Grade']\r\n",
        "\r\n",
        "# get the density\r\n",
        "density = stats.gaussian_kde(col)\r\n",
        "\r\n",
        "# Plot the density\r\n",
        "# بدون اي تفاصيل \r\n",
        "col.plot.density()\r\n",
        "\r\n",
        "# Get the mean and standard deviation\r\n",
        "s = col.std()\r\n",
        "m = col.mean()\r\n",
        "\r\n",
        "# Annotate 1 stdev\r\n",
        "x1 = [m-s, m+s]\r\n",
        "y1 = density(x1)\r\n",
        "plt.plot(x1,y1, color='magenta')\r\n",
        "plt.annotate('1 std (68.26%)', (x1[1],y1[1]))\r\n",
        "\r\n",
        "# Annotate 2 stdevs\r\n",
        "x2 = [m-(s*2), m+(s*2)]\r\n",
        "y2 = density(x2)\r\n",
        "plt.plot(x2,y2, color='green')\r\n",
        "plt.annotate('2 std (95.45%)', (x2[1],y2[1]))\r\n",
        "\r\n",
        "# Annotate 3 stdevs\r\n",
        "x3 = [m-(s*3), m+(s*3)]\r\n",
        "y3 = density(x3)\r\n",
        "plt.plot(x3,y3, color='orange')\r\n",
        "plt.annotate('3 std (99.73%)', (x3[1],y3[1]))\r\n",
        "\r\n",
        "# Show the location of the mean\r\n",
        "plt.axvline(col.mean(), color='cyan', linestyle='dashed', linewidth=1)\r\n",
        "\r\n",
        "plt.axis('off')\r\n",
        "\r\n",
        "plt.show()"
      ],
      "execution_count": null,
      "outputs": [
        {
          "output_type": "display_data",
          "data": {
            "image/png": "[encoded data removed]",
            "text/plain": [
              "<Figure size 432x288 with 1 Axes>"
            ]
          },
          "metadata": {
            "tags": [],
            "needs_background": "light"
          }
        }
      ]
    },
    {
      "cell_type": "markdown",
      "metadata": {
        "id": "hLV5PQjGyHuj"
      },
      "source": [
        "توضح الخطوط الأفقية النسبة المئوية للبيانات ضمن الانحرافات المعيارية 1 و 2 و 3 للمتوسط (زائد أو ناقص).\r\n",
        "\r\n",
        "في أي توزيع طبيعي:\r\n",
        "\r\n",
        "ما يقرب من 68.26٪ من القيم تقع ضمن انحراف معياري واحد عن المتوسط.\r\n",
        "يقع 95.45٪ تقريبًا من القيم ضمن انحرافين معياريين عن المتوسط.\r\n",
        "ما يقرب من 99.73٪ من القيم تقع ضمن ثلاثة انحرافات معيارية عن المتوسط.\r\n",
        "لذلك ، بما أننا نعلم أن متوسط الدرجة هو 49.18 ، فإن الانحراف المعياري هو 21.74 ، وتوزيع الدرجات طبيعي تقريبًا ؛ يمكننا حساب أن 68.26٪ من الطلاب يجب أن يحصلوا على درجة بين 27.44 و 70.92.\r\n",
        "\r\n",
        "الإحصائيات الوصفية التي استخدمناها لفهم توزيع متغيرات بيانات الطلاب هي أساس التحليل الإحصائي ؛ ولأنها جزء مهم من استكشاف بياناتك ، فهناك طريقة وصف مضمنة لكائن DataFrame تُرجع الإحصائيات الوصفية الرئيسية لجميع الأعمدة الرقمية."
      ]
    },
    {
      "cell_type": "code",
      "metadata": {
        "colab": {
          "base_uri": "https://localhost:8080/",
          "height": 297
        },
        "id": "qv1FpD0ovLiP",
        "outputId": "ecdbedb5-1845-4665-8ec3-fea2f7d99b31"
      },
      "source": [
        "\r\n",
        "df_students.describe()\r\n"
      ],
      "execution_count": null,
      "outputs": [
        {
          "output_type": "execute_result",
          "data": {
            "text/html": [
              "<div>\n",
              "<style scoped>\n",
              "    .dataframe tbody tr th:only-of-type {\n",
              "        vertical-align: middle;\n",
              "    }\n",
              "\n",
              "    .dataframe tbody tr th {\n",
              "        vertical-align: top;\n",
              "    }\n",
              "\n",
              "    .dataframe thead th {\n",
              "        text-align: right;\n",
              "    }\n",
              "</style>\n",
              "<table border=\"1\" class=\"dataframe\">\n",
              "  <thead>\n",
              "    <tr style=\"text-align: right;\">\n",
              "      <th></th>\n",
              "      <th>StudyHours</th>\n",
              "      <th>Grade</th>\n",
              "    </tr>\n",
              "  </thead>\n",
              "  <tbody>\n",
              "    <tr>\n",
              "      <th>count</th>\n",
              "      <td>22.000000</td>\n",
              "      <td>22.000000</td>\n",
              "    </tr>\n",
              "    <tr>\n",
              "      <th>mean</th>\n",
              "      <td>10.522727</td>\n",
              "      <td>49.181818</td>\n",
              "    </tr>\n",
              "    <tr>\n",
              "      <th>std</th>\n",
              "      <td>3.487144</td>\n",
              "      <td>21.737912</td>\n",
              "    </tr>\n",
              "    <tr>\n",
              "      <th>min</th>\n",
              "      <td>1.000000</td>\n",
              "      <td>3.000000</td>\n",
              "    </tr>\n",
              "    <tr>\n",
              "      <th>25%</th>\n",
              "      <td>9.000000</td>\n",
              "      <td>36.250000</td>\n",
              "    </tr>\n",
              "    <tr>\n",
              "      <th>50%</th>\n",
              "      <td>10.000000</td>\n",
              "      <td>49.500000</td>\n",
              "    </tr>\n",
              "    <tr>\n",
              "      <th>75%</th>\n",
              "      <td>12.375000</td>\n",
              "      <td>62.750000</td>\n",
              "    </tr>\n",
              "    <tr>\n",
              "      <th>max</th>\n",
              "      <td>16.000000</td>\n",
              "      <td>97.000000</td>\n",
              "    </tr>\n",
              "  </tbody>\n",
              "</table>\n",
              "</div>"
            ],
            "text/plain": [
              "       StudyHours      Grade\n",
              "count   22.000000  22.000000\n",
              "mean    10.522727  49.181818\n",
              "std      3.487144  21.737912\n",
              "min      1.000000   3.000000\n",
              "25%      9.000000  36.250000\n",
              "50%     10.000000  49.500000\n",
              "75%     12.375000  62.750000\n",
              "max     16.000000  97.000000"
            ]
          },
          "metadata": {
            "tags": []
          },
          "execution_count": 147
        }
      ]
    },
    {
      "cell_type": "markdown",
      "metadata": {
        "id": "BREjuHGOygG0"
      },
      "source": [
        "Comparing data¶\r\n",
        "مقارنه البيانات \r\n",
        "الآن بعد أن عرفت شيئًا عن التوزيع الإحصائي للبيانات في مجموعة البيانات الخاصة بك ، فأنت على استعداد لفحص بياناتك لتحديد أي علاقات ظاهرة بين المتغيرات.\r\n"
      ]
    },
    {
      "cell_type": "code",
      "metadata": {
        "colab": {
          "base_uri": "https://localhost:8080/",
          "height": 700
        },
        "id": "NlZR_YpdyMIv",
        "outputId": "e7e5744b-656b-4f32-f5bf-025a3354d5b2"
      },
      "source": [
        "# هذا العمود يحتوي علي قيم متطرفه ذات قيم منخفضه للغايه لذا وجب التخلص منه في البدايه \r\n",
        "# حتي نحصل علي عينه من البيانات نموذجيه\r\n",
        "df_sample = df_students[df_students['StudyHours']>1]\r\n",
        "df_sample"
      ],
      "execution_count": null,
      "outputs": [
        {
          "output_type": "execute_result",
          "data": {
            "text/html": [
              "<div>\n",
              "<style scoped>\n",
              "    .dataframe tbody tr th:only-of-type {\n",
              "        vertical-align: middle;\n",
              "    }\n",
              "\n",
              "    .dataframe tbody tr th {\n",
              "        vertical-align: top;\n",
              "    }\n",
              "\n",
              "    .dataframe thead th {\n",
              "        text-align: right;\n",
              "    }\n",
              "</style>\n",
              "<table border=\"1\" class=\"dataframe\">\n",
              "  <thead>\n",
              "    <tr style=\"text-align: right;\">\n",
              "      <th></th>\n",
              "      <th>Name</th>\n",
              "      <th>StudyHours</th>\n",
              "      <th>Grade</th>\n",
              "      <th>Pass</th>\n",
              "    </tr>\n",
              "  </thead>\n",
              "  <tbody>\n",
              "    <tr>\n",
              "      <th>3</th>\n",
              "      <td>Rosie</td>\n",
              "      <td>16.00</td>\n",
              "      <td>97.0</td>\n",
              "      <td>True</td>\n",
              "    </tr>\n",
              "    <tr>\n",
              "      <th>10</th>\n",
              "      <td>Francesca</td>\n",
              "      <td>15.50</td>\n",
              "      <td>82.0</td>\n",
              "      <td>True</td>\n",
              "    </tr>\n",
              "    <tr>\n",
              "      <th>9</th>\n",
              "      <td>Giovanni</td>\n",
              "      <td>14.50</td>\n",
              "      <td>74.0</td>\n",
              "      <td>True</td>\n",
              "    </tr>\n",
              "    <tr>\n",
              "      <th>14</th>\n",
              "      <td>Jenny</td>\n",
              "      <td>15.50</td>\n",
              "      <td>70.0</td>\n",
              "      <td>True</td>\n",
              "    </tr>\n",
              "    <tr>\n",
              "      <th>21</th>\n",
              "      <td>Aisha</td>\n",
              "      <td>12.00</td>\n",
              "      <td>64.0</td>\n",
              "      <td>True</td>\n",
              "    </tr>\n",
              "    <tr>\n",
              "      <th>20</th>\n",
              "      <td>Daniel</td>\n",
              "      <td>12.50</td>\n",
              "      <td>63.0</td>\n",
              "      <td>True</td>\n",
              "    </tr>\n",
              "    <tr>\n",
              "      <th>11</th>\n",
              "      <td>Rajab</td>\n",
              "      <td>13.75</td>\n",
              "      <td>62.0</td>\n",
              "      <td>True</td>\n",
              "    </tr>\n",
              "    <tr>\n",
              "      <th>6</th>\n",
              "      <td>Frederic</td>\n",
              "      <td>11.50</td>\n",
              "      <td>53.0</td>\n",
              "      <td>False</td>\n",
              "    </tr>\n",
              "    <tr>\n",
              "      <th>19</th>\n",
              "      <td>Skye</td>\n",
              "      <td>12.00</td>\n",
              "      <td>52.0</td>\n",
              "      <td>False</td>\n",
              "    </tr>\n",
              "    <tr>\n",
              "      <th>1</th>\n",
              "      <td>Joann</td>\n",
              "      <td>11.50</td>\n",
              "      <td>50.0</td>\n",
              "      <td>False</td>\n",
              "    </tr>\n",
              "    <tr>\n",
              "      <th>0</th>\n",
              "      <td>Dan</td>\n",
              "      <td>10.00</td>\n",
              "      <td>50.0</td>\n",
              "      <td>False</td>\n",
              "    </tr>\n",
              "    <tr>\n",
              "      <th>4</th>\n",
              "      <td>Ethan</td>\n",
              "      <td>9.25</td>\n",
              "      <td>49.0</td>\n",
              "      <td>False</td>\n",
              "    </tr>\n",
              "    <tr>\n",
              "      <th>18</th>\n",
              "      <td>Anila</td>\n",
              "      <td>10.00</td>\n",
              "      <td>48.0</td>\n",
              "      <td>False</td>\n",
              "    </tr>\n",
              "    <tr>\n",
              "      <th>2</th>\n",
              "      <td>Pedro</td>\n",
              "      <td>9.00</td>\n",
              "      <td>47.0</td>\n",
              "      <td>False</td>\n",
              "    </tr>\n",
              "    <tr>\n",
              "      <th>7</th>\n",
              "      <td>Jimmie</td>\n",
              "      <td>9.00</td>\n",
              "      <td>42.0</td>\n",
              "      <td>False</td>\n",
              "    </tr>\n",
              "    <tr>\n",
              "      <th>12</th>\n",
              "      <td>Naiyana</td>\n",
              "      <td>9.00</td>\n",
              "      <td>37.0</td>\n",
              "      <td>False</td>\n",
              "    </tr>\n",
              "    <tr>\n",
              "      <th>16</th>\n",
              "      <td>Helena</td>\n",
              "      <td>9.00</td>\n",
              "      <td>36.0</td>\n",
              "      <td>False</td>\n",
              "    </tr>\n",
              "    <tr>\n",
              "      <th>17</th>\n",
              "      <td>Ismat</td>\n",
              "      <td>6.00</td>\n",
              "      <td>35.0</td>\n",
              "      <td>False</td>\n",
              "    </tr>\n",
              "    <tr>\n",
              "      <th>15</th>\n",
              "      <td>Jakeem</td>\n",
              "      <td>8.00</td>\n",
              "      <td>27.0</td>\n",
              "      <td>False</td>\n",
              "    </tr>\n",
              "    <tr>\n",
              "      <th>8</th>\n",
              "      <td>Rhonda</td>\n",
              "      <td>8.50</td>\n",
              "      <td>26.0</td>\n",
              "      <td>False</td>\n",
              "    </tr>\n",
              "    <tr>\n",
              "      <th>13</th>\n",
              "      <td>Kian</td>\n",
              "      <td>8.00</td>\n",
              "      <td>15.0</td>\n",
              "      <td>False</td>\n",
              "    </tr>\n",
              "  </tbody>\n",
              "</table>\n",
              "</div>"
            ],
            "text/plain": [
              "         Name  StudyHours  Grade   Pass\n",
              "3       Rosie       16.00   97.0   True\n",
              "10  Francesca       15.50   82.0   True\n",
              "9    Giovanni       14.50   74.0   True\n",
              "14      Jenny       15.50   70.0   True\n",
              "21      Aisha       12.00   64.0   True\n",
              "20     Daniel       12.50   63.0   True\n",
              "11      Rajab       13.75   62.0   True\n",
              "6    Frederic       11.50   53.0  False\n",
              "19       Skye       12.00   52.0  False\n",
              "1       Joann       11.50   50.0  False\n",
              "0         Dan       10.00   50.0  False\n",
              "4       Ethan        9.25   49.0  False\n",
              "18      Anila       10.00   48.0  False\n",
              "2       Pedro        9.00   47.0  False\n",
              "7      Jimmie        9.00   42.0  False\n",
              "12    Naiyana        9.00   37.0  False\n",
              "16     Helena        9.00   36.0  False\n",
              "17      Ismat        6.00   35.0  False\n",
              "15     Jakeem        8.00   27.0  False\n",
              "8      Rhonda        8.50   26.0  False\n",
              "13       Kian        8.00   15.0  False"
            ]
          },
          "metadata": {
            "tags": []
          },
          "execution_count": 148
        }
      ]
    },
    {
      "cell_type": "markdown",
      "metadata": {
        "id": "h72wHkn7zcfp"
      },
      "source": [
        "Comparing numeric and categorical variables¶\r\n",
        "مقارنه الفئات العدديه والفرديه "
      ]
    },
    {
      "cell_type": "markdown",
      "metadata": {
        "id": "SeIa_2HUzr_p"
      },
      "source": [
        "تتضمن البيانات متغيرين رقميين (StudyHours و Grade) ومتغيرين فئويين (Name and Pass). لنبدأ بمقارنة عمود StudyHours الرقمي بعمود Pass الفئوي لمعرفة ما إذا كانت هناك علاقة واضحة بين عدد الساعات التي تمت دراستها ودرجة النجاح."
      ]
    },
    {
      "cell_type": "code",
      "metadata": {
        "colab": {
          "base_uri": "https://localhost:8080/",
          "height": 432
        },
        "id": "7d9guIULy6dU",
        "outputId": "8a9c5705-34ad-4b57-ba9d-730f7cf288a2"
      },
      "source": [
        "# لإجراء هذه المقارنة ، دعنا ننشئ مخططات مربعة توضح توزيع ساعات الدراسة لكل قيمة مرور ممكنة (صواب وخطأ).\r\n",
        "\r\n",
        "df_sample.boxplot(column='StudyHours', by='Pass', figsize=(8,5))\r\n",
        "# بمقارنة توزيعات StudyHours ، من الواضح على الفور (إن لم يكن مفاجئًا بشكل خاص) أن الطلاب الذين اجتازوا الدورة كانوا يميلون إلى الدراسة لساعات أكثر من الطلاب الذين لم ينجحوا.\r\n",
        "# لذلك ، إذا كنت تريد التنبؤ بما إذا كان من المحتمل أن يجتاز الطالب الدورة التدريبية أم لا ، فقد يكون مقدار الوقت الذي يقضونه في الدراسة ميزة تنبؤية جيدة."
      ],
      "execution_count": null,
      "outputs": [
        {
          "output_type": "stream",
          "text": [
            "/usr/local/lib/python3.6/dist-packages/numpy/core/_asarray.py:83: VisibleDeprecationWarning: Creating an ndarray from ragged nested sequences (which is a list-or-tuple of lists-or-tuples-or ndarrays with different lengths or shapes) is deprecated. If you meant to do this, you must specify 'dtype=object' when creating the ndarray\n",
            "  return array(a, dtype, copy=False, order=order)\n"
          ],
          "name": "stderr"
        },
        {
          "output_type": "execute_result",
          "data": {
            "text/plain": [
              "<matplotlib.axes._subplots.AxesSubplot at 0x7f9c26c50160>"
            ]
          },
          "metadata": {
            "tags": []
          },
          "execution_count": 151
        },
        {
          "output_type": "display_data",
          "data": {
            "image/png": "[encoded data removed]",
            "text/plain": [
              "<Figure size 576x360 with 1 Axes>"
            ]
          },
          "metadata": {
            "tags": [],
            "needs_background": "light"
          }
        }
      ]
    },
    {
      "cell_type": "code",
      "metadata": {
        "id": "Z4YmIg2Wz1Ms",
        "colab": {
          "base_uri": "https://localhost:8080/",
          "height": 391
        },
        "outputId": "68d9aee1-1241-4b81-ecdd-9540f677f872"
      },
      "source": [
        "# سوف نبدا الان بالمقارنه بين متغيرين رقميين \r\n",
        "#لنقارن الآن بين متغيرين رقميين. سنبدأ بإنشاء مخطط شريطي يعرض كلاً من الصف وساعات الدراسة.\r\n",
        "# Create a bar plot of name vs grade and study hours\r\n",
        "df_sample.plot(x='Name', y=['Grade','StudyHours'], kind='bar', figsize=(8,5))"
      ],
      "execution_count": null,
      "outputs": [
        {
          "output_type": "execute_result",
          "data": {
            "text/plain": [
              "<matplotlib.axes._subplots.AxesSubplot at 0x7f9c26dc65f8>"
            ]
          },
          "metadata": {
            "tags": []
          },
          "execution_count": 152
        },
        {
          "output_type": "display_data",
          "data": {
            "image/png": "[encoded data removed]",
            "text/plain": [
              "<Figure size 576x360 with 1 Axes>"
            ]
          },
          "metadata": {
            "tags": [],
            "needs_background": "light"
          }
        }
      ]
    },
    {
      "cell_type": "markdown",
      "metadata": {
        "id": "prMhyWUy5LKV"
      },
      "source": [
        "يعرض الرسم البياني أشرطة لكل من الصف الدراسي وساعات الدراسة لكل طالب ؛ لكن ليس من السهل مقارنتها لأن القيم بمقاييس مختلفة. يتم قياس الدرجات بنقاط التقدير وتتراوح من 3 إلى 97 ؛ بينما يقاس وقت الدراسة بالساعات ويتراوح من 1 إلى 16.\r\n",
        "\r\n",
        "من الأساليب الشائعة عند التعامل مع البيانات الرقمية بمقاييس مختلفة تسوية البيانات بحيث تحتفظ القيم بتوزيعها النسبي ، ولكن يتم قياسها على نفس المقياس. لتحقيق ذلك ، سنستخدم تقنية تسمى MinMax scaling التي توزع القيم بشكل متناسب على مقياس من 0 إلى 1. يمكنك كتابة الكود لتطبيق هذا التحويل ؛ لكن مكتبة Scikit-Learn توفر أداة قياس للقيام بذلك نيابة عنك."
      ]
    },
    {
      "cell_type": "code",
      "metadata": {
        "id": "P3cmCQIx0GAl",
        "colab": {
          "base_uri": "https://localhost:8080/",
          "height": 391
        },
        "outputId": "8b503897-99c9-421f-8bf3-85eabb484563"
      },
      "source": [
        "\r\n",
        "from sklearn.preprocessing import MinMaxScaler\r\n",
        "\r\n",
        "# Get a scaler object\r\n",
        "scaler = MinMaxScaler()\r\n",
        "\r\n",
        "# Create a new dataframe for the scaled values\r\n",
        "df_normalized = df_sample[['Name', 'Grade', 'StudyHours']].copy()\r\n",
        "\r\n",
        "# Normalize the numeric columns\r\n",
        "df_normalized[['Grade','StudyHours']] = scaler.fit_transform(df_normalized[['Grade','StudyHours']])\r\n",
        "\r\n",
        "# Plot the normalized values\r\n",
        "df_normalized.plot(x='Name', y=['Grade','StudyHours'], kind='bar', figsize=(8,5))"
      ],
      "execution_count": null,
      "outputs": [
        {
          "output_type": "execute_result",
          "data": {
            "text/plain": [
              "<matplotlib.axes._subplots.AxesSubplot at 0x7f9c26f34588>"
            ]
          },
          "metadata": {
            "tags": []
          },
          "execution_count": 153
        },
        {
          "output_type": "display_data",
          "data": {
            "image/png": "[encoded data removed]",
            "text/plain": [
              "<Figure size 576x360 with 1 Axes>"
            ]
          },
          "metadata": {
            "tags": [],
            "needs_background": "light"
          }
        }
      ]
    },
    {
      "cell_type": "markdown",
      "metadata": {
        "id": "XgGr5EQ45aKs"
      },
      "source": [
        "مع تسوية البيانات ، يصبح من السهل رؤية علاقة واضحة بين الصف الدراسي ووقت الدراسة. إنها ليست مطابقة تامة ، ولكن يبدو بالتأكيد أن الطلاب الحاصلين على درجات أعلى يميلون إلى الدراسة أكثر.\r\n"
      ]
    },
    {
      "cell_type": "code",
      "metadata": {
        "colab": {
          "base_uri": "https://localhost:8080/"
        },
        "id": "29QRE--A5S8k",
        "outputId": "b062edd6-20ee-4141-fdf9-a4543cf94446"
      },
      "source": [
        "df_normalized.Grade.corr(df_normalized.StudyHours)\r\n",
        "#لذلك يبدو أن هناك علاقة بين وقت الدراسة والصف ؛ وفي الواقع ، هناك قياس ارتباط إحصائي يمكننا استخدامه لتحديد العلاقة بين هذه الأعمدة.\r\n"
      ],
      "execution_count": null,
      "outputs": [
        {
          "output_type": "execute_result",
          "data": {
            "text/plain": [
              "0.9117666413789675"
            ]
          },
          "metadata": {
            "tags": []
          },
          "execution_count": 154
        }
      ]
    },
    {
      "cell_type": "markdown",
      "metadata": {
        "id": "QgaLB7KA59Ww"
      },
      "source": [
        "إحصائية الارتباط هي قيمة بين -1 و 1 تشير إلى قوة العلاقة. تشير القيم الأعلى من 0 إلى ارتباط إيجابي (تميل القيم العالية لمتغير واحد إلى التطابق مع القيم العالية لمتغير آخر) ، بينما تشير القيم الأقل من 0 إلى ارتباط سلبي (القيم العالية لمتغير واحد تميل إلى التطابق مع القيم المنخفضة للمتغير الآخر). في هذه الحالة ، تكون قيمة الارتباط قريبة من 1 ؛ إظهار ارتباط إيجابي قوي بين وقت الدراسة والدرجة.\r\n",
        "\r\n",
        "ملاحظة: غالبًا ما يقتبس علماء البيانات مبدأ \"الارتباط ليس علاقة سببية\". بعبارة أخرى ، مهما كان الأمر مغريًا ، يجب ألا تفسر الارتباط الإحصائي على أنه يوضح سبب ارتفاع إحدى القيم. في حالة بيانات الطلاب ، توضح الإحصائيات أن الطلاب الحاصلين على درجات عالية يميلون أيضًا إلى قضاء وقت دراسي كبير ؛ لكن هذا ليس هو نفسه إثبات حصولهم على درجات عالية لأنهم درسوا كثيرًا. يمكن استخدام الإحصاء على حد سواء كدليل لدعم الاستنتاج غير المنطقي بأن الطلاب درسوا كثيرًا لأن درجاتهم كانت ستكون عالية.\r\n"
      ]
    },
    {
      "cell_type": "markdown",
      "metadata": {
        "id": "WreUxNuj6BNi"
      },
      "source": [
        "هناك طريقة أخرى لتصور الارتباط الظاهر بين عمودين رقميين وهي استخدام مخطط مبعثر. \r\n"
      ]
    },
    {
      "cell_type": "code",
      "metadata": {
        "colab": {
          "base_uri": "https://localhost:8080/",
          "height": 312
        },
        "id": "UC6Niwnk5hSr",
        "outputId": "e6b5712d-7936-4b3f-d456-053a0ef7666d"
      },
      "source": [
        "# Create a scatter plot\r\n",
        "df_sample.plot.scatter(title='Study Time vs Grade', x='StudyHours', y='Grade')"
      ],
      "execution_count": null,
      "outputs": [
        {
          "output_type": "execute_result",
          "data": {
            "text/plain": [
              "<matplotlib.axes._subplots.AxesSubplot at 0x7f9c36cd9048>"
            ]
          },
          "metadata": {
            "tags": []
          },
          "execution_count": 155
        },
        {
          "output_type": "display_data",
          "data": {
            "image/png": "[encoded data removed]",
            "text/plain": [
              "<Figure size 432x288 with 1 Axes>"
            ]
          },
          "metadata": {
            "tags": [],
            "needs_background": "light"
          }
        }
      ]
    },
    {
      "cell_type": "markdown",
      "metadata": {
        "id": "MgZwbCm76q8Q"
      },
      "source": [
        "مرة أخرى ، يبدو أن هناك نمطًا واضحًا يكون فيه الطلاب الذين درسوا معظم الساعات هم أيضًا الطلاب الذين حصلوا على أعلى الدرجات.\r\n",
        "\r\n",
        "يمكننا رؤية ذلك بشكل أكثر وضوحًا عن طريق إضافة خط انحدار (أو خط أفضل ملاءمة) إلى الرسم البياني الذي يُظهر الاتجاه العام في البيانات. للقيام بذلك ، سنستخدم تقنية إحصائية تسمى انحدار المربعات الصغرى\r\n",
        "تحذير - الرياضيات إلى الأمام!\r\n",
        "\r\n",
        "عد بعقلك إلى الوقت الذي كنت تتعلم فيه كيفية حل المعادلات الخطية في المدرسة ، وتذكر أن صيغة الميل والمقطع للمعادلة الخطية تبدو كما يلي:\r\n",
        "\r\n",
        "$$ y = mx + b $$\r\n",
        "في هذه المعادلة ، y و x هما متغيرات الإحداثيات ، و m هو ميل الخط ، و b هو تقاطع y (حيث يمر الخط عبر المحور Y).\r\n",
        "\r\n",
        "في حالة مخطط التبعثر الخاص بنا لبيانات الطلاب ، لدينا بالفعل قيمنا لـ x (ساعات الدراسة) و y (الدرجة) ، لذلك نحتاج فقط إلى حساب تقاطع وانحدار الخط المستقيم الأقرب إلى تلك النقاط. ثم يمكننا تكوين معادلة خطية تحسب قيمة y جديدة على هذا السطر لكل من قيم x (StudyHours) الخاصة بنا - لتجنب الالتباس ، سنسمي هذه القيمة y الجديدة f (x) (لأنها ناتج خطي دالة المعادلة على أساس x). الفرق بين قيمة y (التقدير) الأصلية وقيمة f (x) هو الخطأ بين خط الانحدار الخاص بنا والدرجة الفعلية التي حققها الطالب. هدفنا هو حساب الميل والاعتراض لخط به أدنى خطأ إجمالي.\r\n",
        "\r\n",
        "على وجه التحديد ، نحدد الخطأ الإجمالي عن طريق أخذ الخطأ لكل نقطة ، وتربيعه ، وإضافة جميع الأخطاء التربيعية معًا. السطر الأفضل ملاءمة هو السطر الذي يعطينا أدنى قيمة لمجموع الأخطاء التربيعية - ومن هنا جاء اسم انحدار المربعات الصغرى.\r\n",
        "\r\n",
        "لحسن الحظ ، لا تحتاج إلى ترميز حساب الانحدار بنفسك - تتضمن حزمة SciPy فئة الإحصائيات التي توفر طريقة linregress للقيام بالعمل الشاق نيابة عنك. هذا يعيد (من بين أشياء أخرى) المعامِلات التي تحتاجها لمعادلة الميل - الميل (م) والتقاطع (ب) بناءً على زوج معين من العينات المتغيرة التي تريد مقارنتها."
      ]
    },
    {
      "cell_type": "code",
      "metadata": {
        "colab": {
          "base_uri": "https://localhost:8080/",
          "height": 349
        },
        "id": "DxW1WCqo6HId",
        "outputId": "f56c43f0-2711-45f2-d673-de081e043fc2"
      },
      "source": [
        "from scipy import stats\r\n",
        "\r\n",
        "#\r\n",
        "df_regression = df_sample[['Grade', 'StudyHours']].copy()\r\n",
        "\r\n",
        "# Get the regression slope and intercept\r\n",
        "m, b, r, p, se = stats.linregress(df_regression['StudyHours'], df_regression['Grade'])\r\n",
        "print('slope: {:.4f}\\ny-intercept: {:.4f}'.format(m,b))\r\n",
        "print('so...\\n f(x) = {:.4f}x + {:.4f}'.format(m,b))\r\n",
        "\r\n",
        "# Use the function (mx + b) to calculate f(x) for each x (StudyHours) value\r\n",
        "df_regression['fx'] = (m * df_regression['StudyHours']) + b\r\n",
        "\r\n",
        "# Calculate the error between f(x) and the actual y (Grade) value\r\n",
        "df_regression['error'] = df_regression['fx'] - df_regression['Grade']\r\n",
        "\r\n",
        "# Create a scatter plot of Grade vs Salary\r\n",
        "df_regression.plot.scatter(x='StudyHours', y='Grade')\r\n",
        "\r\n",
        "# Plot the regression line\r\n",
        "plt.plot(df_regression['StudyHours'],df_regression['fx'], color='cyan')\r\n",
        "\r\n",
        "# Display the plot\r\n",
        "plt.show()"
      ],
      "execution_count": null,
      "outputs": [
        {
          "output_type": "stream",
          "text": [
            "slope: 6.3134\n",
            "y-intercept: -17.9164\n",
            "so...\n",
            " f(x) = 6.3134x + -17.9164\n"
          ],
          "name": "stdout"
        },
        {
          "output_type": "display_data",
          "data": {
            "image/png": "[encoded data removed]",
            "text/plain": [
              "<Figure size 432x288 with 1 Axes>"
            ]
          },
          "metadata": {
            "tags": [],
            "needs_background": "light"
          }
        }
      ]
    },
    {
      "cell_type": "code",
      "metadata": {
        "colab": {
          "base_uri": "https://localhost:8080/",
          "height": 700
        },
        "id": "9DNegEaR6yTt",
        "outputId": "70d6b942-a6e9-4224-f9b4-a09836d5f057"
      },
      "source": [
        "\r\n",
        "# Show the original x,y values, the f(x) value, and the error\r\n",
        "df_regression[['StudyHours', 'Grade', 'fx', 'error']]"
      ],
      "execution_count": null,
      "outputs": [
        {
          "output_type": "execute_result",
          "data": {
            "text/html": [
              "<div>\n",
              "<style scoped>\n",
              "    .dataframe tbody tr th:only-of-type {\n",
              "        vertical-align: middle;\n",
              "    }\n",
              "\n",
              "    .dataframe tbody tr th {\n",
              "        vertical-align: top;\n",
              "    }\n",
              "\n",
              "    .dataframe thead th {\n",
              "        text-align: right;\n",
              "    }\n",
              "</style>\n",
              "<table border=\"1\" class=\"dataframe\">\n",
              "  <thead>\n",
              "    <tr style=\"text-align: right;\">\n",
              "      <th></th>\n",
              "      <th>StudyHours</th>\n",
              "      <th>Grade</th>\n",
              "      <th>fx</th>\n",
              "      <th>error</th>\n",
              "    </tr>\n",
              "  </thead>\n",
              "  <tbody>\n",
              "    <tr>\n",
              "      <th>3</th>\n",
              "      <td>16.00</td>\n",
              "      <td>97.0</td>\n",
              "      <td>83.098400</td>\n",
              "      <td>-13.901600</td>\n",
              "    </tr>\n",
              "    <tr>\n",
              "      <th>10</th>\n",
              "      <td>15.50</td>\n",
              "      <td>82.0</td>\n",
              "      <td>79.941687</td>\n",
              "      <td>-2.058313</td>\n",
              "    </tr>\n",
              "    <tr>\n",
              "      <th>9</th>\n",
              "      <td>14.50</td>\n",
              "      <td>74.0</td>\n",
              "      <td>73.628262</td>\n",
              "      <td>-0.371738</td>\n",
              "    </tr>\n",
              "    <tr>\n",
              "      <th>14</th>\n",
              "      <td>15.50</td>\n",
              "      <td>70.0</td>\n",
              "      <td>79.941687</td>\n",
              "      <td>9.941687</td>\n",
              "    </tr>\n",
              "    <tr>\n",
              "      <th>21</th>\n",
              "      <td>12.00</td>\n",
              "      <td>64.0</td>\n",
              "      <td>57.844698</td>\n",
              "      <td>-6.155302</td>\n",
              "    </tr>\n",
              "    <tr>\n",
              "      <th>20</th>\n",
              "      <td>12.50</td>\n",
              "      <td>63.0</td>\n",
              "      <td>61.001410</td>\n",
              "      <td>-1.998590</td>\n",
              "    </tr>\n",
              "    <tr>\n",
              "      <th>11</th>\n",
              "      <td>13.75</td>\n",
              "      <td>62.0</td>\n",
              "      <td>68.893193</td>\n",
              "      <td>6.893193</td>\n",
              "    </tr>\n",
              "    <tr>\n",
              "      <th>6</th>\n",
              "      <td>11.50</td>\n",
              "      <td>53.0</td>\n",
              "      <td>54.687985</td>\n",
              "      <td>1.687985</td>\n",
              "    </tr>\n",
              "    <tr>\n",
              "      <th>19</th>\n",
              "      <td>12.00</td>\n",
              "      <td>52.0</td>\n",
              "      <td>57.844698</td>\n",
              "      <td>5.844698</td>\n",
              "    </tr>\n",
              "    <tr>\n",
              "      <th>1</th>\n",
              "      <td>11.50</td>\n",
              "      <td>50.0</td>\n",
              "      <td>54.687985</td>\n",
              "      <td>4.687985</td>\n",
              "    </tr>\n",
              "    <tr>\n",
              "      <th>0</th>\n",
              "      <td>10.00</td>\n",
              "      <td>50.0</td>\n",
              "      <td>45.217846</td>\n",
              "      <td>-4.782154</td>\n",
              "    </tr>\n",
              "    <tr>\n",
              "      <th>4</th>\n",
              "      <td>9.25</td>\n",
              "      <td>49.0</td>\n",
              "      <td>40.482777</td>\n",
              "      <td>-8.517223</td>\n",
              "    </tr>\n",
              "    <tr>\n",
              "      <th>18</th>\n",
              "      <td>10.00</td>\n",
              "      <td>48.0</td>\n",
              "      <td>45.217846</td>\n",
              "      <td>-2.782154</td>\n",
              "    </tr>\n",
              "    <tr>\n",
              "      <th>2</th>\n",
              "      <td>9.00</td>\n",
              "      <td>47.0</td>\n",
              "      <td>38.904421</td>\n",
              "      <td>-8.095579</td>\n",
              "    </tr>\n",
              "    <tr>\n",
              "      <th>7</th>\n",
              "      <td>9.00</td>\n",
              "      <td>42.0</td>\n",
              "      <td>38.904421</td>\n",
              "      <td>-3.095579</td>\n",
              "    </tr>\n",
              "    <tr>\n",
              "      <th>12</th>\n",
              "      <td>9.00</td>\n",
              "      <td>37.0</td>\n",
              "      <td>38.904421</td>\n",
              "      <td>1.904421</td>\n",
              "    </tr>\n",
              "    <tr>\n",
              "      <th>16</th>\n",
              "      <td>9.00</td>\n",
              "      <td>36.0</td>\n",
              "      <td>38.904421</td>\n",
              "      <td>2.904421</td>\n",
              "    </tr>\n",
              "    <tr>\n",
              "      <th>17</th>\n",
              "      <td>6.00</td>\n",
              "      <td>35.0</td>\n",
              "      <td>19.964144</td>\n",
              "      <td>-15.035856</td>\n",
              "    </tr>\n",
              "    <tr>\n",
              "      <th>15</th>\n",
              "      <td>8.00</td>\n",
              "      <td>27.0</td>\n",
              "      <td>32.590995</td>\n",
              "      <td>5.590995</td>\n",
              "    </tr>\n",
              "    <tr>\n",
              "      <th>8</th>\n",
              "      <td>8.50</td>\n",
              "      <td>26.0</td>\n",
              "      <td>35.747708</td>\n",
              "      <td>9.747708</td>\n",
              "    </tr>\n",
              "    <tr>\n",
              "      <th>13</th>\n",
              "      <td>8.00</td>\n",
              "      <td>15.0</td>\n",
              "      <td>32.590995</td>\n",
              "      <td>17.590995</td>\n",
              "    </tr>\n",
              "  </tbody>\n",
              "</table>\n",
              "</div>"
            ],
            "text/plain": [
              "    StudyHours  Grade         fx      error\n",
              "3        16.00   97.0  83.098400 -13.901600\n",
              "10       15.50   82.0  79.941687  -2.058313\n",
              "9        14.50   74.0  73.628262  -0.371738\n",
              "14       15.50   70.0  79.941687   9.941687\n",
              "21       12.00   64.0  57.844698  -6.155302\n",
              "20       12.50   63.0  61.001410  -1.998590\n",
              "11       13.75   62.0  68.893193   6.893193\n",
              "6        11.50   53.0  54.687985   1.687985\n",
              "19       12.00   52.0  57.844698   5.844698\n",
              "1        11.50   50.0  54.687985   4.687985\n",
              "0        10.00   50.0  45.217846  -4.782154\n",
              "4         9.25   49.0  40.482777  -8.517223\n",
              "18       10.00   48.0  45.217846  -2.782154\n",
              "2         9.00   47.0  38.904421  -8.095579\n",
              "7         9.00   42.0  38.904421  -3.095579\n",
              "12        9.00   37.0  38.904421   1.904421\n",
              "16        9.00   36.0  38.904421   2.904421\n",
              "17        6.00   35.0  19.964144 -15.035856\n",
              "15        8.00   27.0  32.590995   5.590995\n",
              "8         8.50   26.0  35.747708   9.747708\n",
              "13        8.00   15.0  32.590995  17.590995"
            ]
          },
          "metadata": {
            "tags": []
          },
          "execution_count": 157
        }
      ]
    },
    {
      "cell_type": "markdown",
      "metadata": {
        "id": "8NkQet9C7Vga"
      },
      "source": [
        "Using the regression coefficients for prediction Now that you have the regression coefficients for the study time and grade relationship, you can use them in a function to estimate the expected grade for a given amount of study.\r\n",
        "ARABIC\r\n",
        "استخدام معاملات الانحدار للتنبؤ الآن بعد أن أصبح لديك معاملات الانحدار لوقت الدراسة وعلاقة الدرجة ، يمكنك استخدامها في دالة لتقدير الدرجة المتوقعة لمقدار معين من الدراسة."
      ]
    },
    {
      "cell_type": "code",
      "metadata": {
        "colab": {
          "base_uri": "https://localhost:8080/"
        },
        "id": "uQYs_3GQ7Cr0",
        "outputId": "a3030ef5-f3bc-474b-8ad2-d808836e6524"
      },
      "source": [
        "# Define a function based on our regression coefficients\r\n",
        "def f(x):\r\n",
        "    m = 6.3134\r\n",
        "    b = -17.9164\r\n",
        "    return m*x + b\r\n",
        "\r\n",
        "study_time = 14\r\n",
        "\r\n",
        "# Get f(x) for study time\r\n",
        "prediction = f(study_time)\r\n",
        "\r\n",
        "# Grade can't be less than 0 or more than 100\r\n",
        "expected_grade = max(0,min(100,prediction))\r\n",
        "\r\n",
        "#Print the estimated grade\r\n",
        "print ('Studying for {} hours per week may result in a grade of {:.0f}'.format(study_time, expected_grade))\r\n"
      ],
      "execution_count": null,
      "outputs": [
        {
          "output_type": "stream",
          "text": [
            "Studying for 14 hours per week may result in a grade of 70\n"
          ],
          "name": "stdout"
        }
      ]
    },
    {
      "cell_type": "code",
      "metadata": {
        "id": "UlujJULt7cLK"
      },
      "source": [
        ""
      ],
      "execution_count": null,
      "outputs": []
    }
  ]
}
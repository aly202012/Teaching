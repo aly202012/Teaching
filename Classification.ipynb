{
  "nbformat": 4,
  "nbformat_minor": 0,
  "metadata": {
    "colab": {
      "name": "Classification.ipynb",
      "provenance": [],
      "authorship_tag": "ABX9TyPp9KZ5joB/6EbCH5nAyc71",
      "include_colab_link": true
    },
    "kernelspec": {
      "name": "python3",
      "display_name": "Python 3"
    }
  },
  "cells": [
    {
      "cell_type": "markdown",
      "metadata": {
        "id": "view-in-github",
        "colab_type": "text"
      },
      "source": [
        "<a href=\"https://colab.research.google.com/github/aly202012/Teaching/blob/master/Classification.ipynb\" target=\"_parent\"><img src=\"https://colab.research.google.com/assets/colab-badge.svg\" alt=\"Open In Colab\"/></a>"
      ]
    },
    {
      "cell_type": "markdown",
      "metadata": {
        "id": "7d0RBbCcjRMF"
      },
      "source": [
        "Binary Classification"
      ]
    },
    {
      "cell_type": "code",
      "metadata": {
        "colab": {
          "base_uri": "https://localhost:8080/",
          "height": 204
        },
        "id": "sGYsJB1ji0b4",
        "outputId": "6a79a527-a94b-4081-b692-80a5d0349fae"
      },
      "source": [
        "\r\n",
        "import pandas as pd\r\n",
        "\r\n",
        "# load the training dataset\r\n",
        "diabetes = pd.read_csv('diabetes.csv')\r\n",
        "diabetes.head()\r\n",
        "#diabetes.shape\r\n",
        "# (2000, 9)"
      ],
      "execution_count": 6,
      "outputs": [
        {
          "output_type": "execute_result",
          "data": {
            "text/html": [
              "<div>\n",
              "<style scoped>\n",
              "    .dataframe tbody tr th:only-of-type {\n",
              "        vertical-align: middle;\n",
              "    }\n",
              "\n",
              "    .dataframe tbody tr th {\n",
              "        vertical-align: top;\n",
              "    }\n",
              "\n",
              "    .dataframe thead th {\n",
              "        text-align: right;\n",
              "    }\n",
              "</style>\n",
              "<table border=\"1\" class=\"dataframe\">\n",
              "  <thead>\n",
              "    <tr style=\"text-align: right;\">\n",
              "      <th></th>\n",
              "      <th>Pregnancies</th>\n",
              "      <th>Glucose</th>\n",
              "      <th>BloodPressure</th>\n",
              "      <th>SkinThickness</th>\n",
              "      <th>Insulin</th>\n",
              "      <th>BMI</th>\n",
              "      <th>DiabetesPedigreeFunction</th>\n",
              "      <th>Age</th>\n",
              "      <th>Outcome</th>\n",
              "    </tr>\n",
              "  </thead>\n",
              "  <tbody>\n",
              "    <tr>\n",
              "      <th>0</th>\n",
              "      <td>2</td>\n",
              "      <td>138</td>\n",
              "      <td>62</td>\n",
              "      <td>35</td>\n",
              "      <td>0</td>\n",
              "      <td>33.6</td>\n",
              "      <td>0.127</td>\n",
              "      <td>47</td>\n",
              "      <td>1</td>\n",
              "    </tr>\n",
              "    <tr>\n",
              "      <th>1</th>\n",
              "      <td>0</td>\n",
              "      <td>84</td>\n",
              "      <td>82</td>\n",
              "      <td>31</td>\n",
              "      <td>125</td>\n",
              "      <td>38.2</td>\n",
              "      <td>0.233</td>\n",
              "      <td>23</td>\n",
              "      <td>0</td>\n",
              "    </tr>\n",
              "    <tr>\n",
              "      <th>2</th>\n",
              "      <td>0</td>\n",
              "      <td>145</td>\n",
              "      <td>0</td>\n",
              "      <td>0</td>\n",
              "      <td>0</td>\n",
              "      <td>44.2</td>\n",
              "      <td>0.630</td>\n",
              "      <td>31</td>\n",
              "      <td>1</td>\n",
              "    </tr>\n",
              "    <tr>\n",
              "      <th>3</th>\n",
              "      <td>0</td>\n",
              "      <td>135</td>\n",
              "      <td>68</td>\n",
              "      <td>42</td>\n",
              "      <td>250</td>\n",
              "      <td>42.3</td>\n",
              "      <td>0.365</td>\n",
              "      <td>24</td>\n",
              "      <td>1</td>\n",
              "    </tr>\n",
              "    <tr>\n",
              "      <th>4</th>\n",
              "      <td>1</td>\n",
              "      <td>139</td>\n",
              "      <td>62</td>\n",
              "      <td>41</td>\n",
              "      <td>480</td>\n",
              "      <td>40.7</td>\n",
              "      <td>0.536</td>\n",
              "      <td>21</td>\n",
              "      <td>0</td>\n",
              "    </tr>\n",
              "  </tbody>\n",
              "</table>\n",
              "</div>"
            ],
            "text/plain": [
              "   Pregnancies  Glucose  BloodPressure  ...  DiabetesPedigreeFunction  Age  Outcome\n",
              "0            2      138             62  ...                     0.127   47        1\n",
              "1            0       84             82  ...                     0.233   23        0\n",
              "2            0      145              0  ...                     0.630   31        1\n",
              "3            0      135             68  ...                     0.365   24        1\n",
              "4            1      139             62  ...                     0.536   21        0\n",
              "\n",
              "[5 rows x 9 columns]"
            ]
          },
          "metadata": {
            "tags": []
          },
          "execution_count": 6
        }
      ]
    },
    {
      "cell_type": "code",
      "metadata": {
        "colab": {
          "base_uri": "https://localhost:8080/",
          "height": 0
        },
        "id": "RGHAImOJQNiP",
        "outputId": "02c0dd7e-8b26-44e4-ba13-d2a29b6eaf37"
      },
      "source": [
        "# هنا يتم الفصل بين المتغيرات وبين الهدف \r\n",
        "# Separate features and labels\r\n",
        "features = ['Pregnancies','Glucose','BloodPressure','SkinThickness','Insulin','BMI','DiabetesPedigreeFunction','Age']\r\n",
        "label = 'Outcome'\r\n",
        "X, y = diabetes[features].values, diabetes[label].values\r\n",
        "# for n in range(0,10):\r\n",
        "# هنا تم التحويل او العرض علي شكل ليست \r\n",
        "for n in range(10):\r\n",
        "    print(\"Patient\", str(n+1), \"\\n  Features:\",list(X[n]), \"\\n  Label:\", y[n])"
      ],
      "execution_count": 10,
      "outputs": [
        {
          "output_type": "stream",
          "text": [
            "Patient 1 \n",
            "  Features: [2.0, 138.0, 62.0, 35.0, 0.0, 33.6, 0.127, 47.0] \n",
            "  Label: 1\n",
            "Patient 2 \n",
            "  Features: [0.0, 84.0, 82.0, 31.0, 125.0, 38.2, 0.233, 23.0] \n",
            "  Label: 0\n",
            "Patient 3 \n",
            "  Features: [0.0, 145.0, 0.0, 0.0, 0.0, 44.2, 0.63, 31.0] \n",
            "  Label: 1\n",
            "Patient 4 \n",
            "  Features: [0.0, 135.0, 68.0, 42.0, 250.0, 42.3, 0.365, 24.0] \n",
            "  Label: 1\n",
            "Patient 5 \n",
            "  Features: [1.0, 139.0, 62.0, 41.0, 480.0, 40.7, 0.536, 21.0] \n",
            "  Label: 0\n",
            "Patient 6 \n",
            "  Features: [0.0, 173.0, 78.0, 32.0, 265.0, 46.5, 1.159, 58.0] \n",
            "  Label: 0\n",
            "Patient 7 \n",
            "  Features: [4.0, 99.0, 72.0, 17.0, 0.0, 25.6, 0.294, 28.0] \n",
            "  Label: 0\n",
            "Patient 8 \n",
            "  Features: [8.0, 194.0, 80.0, 0.0, 0.0, 26.1, 0.551, 67.0] \n",
            "  Label: 0\n",
            "Patient 9 \n",
            "  Features: [2.0, 83.0, 65.0, 28.0, 66.0, 36.8, 0.629, 24.0] \n",
            "  Label: 0\n",
            "Patient 10 \n",
            "  Features: [2.0, 89.0, 90.0, 30.0, 0.0, 33.5, 0.292, 42.0] \n",
            "  Label: 0\n"
          ],
          "name": "stdout"
        }
      ]
    },
    {
      "cell_type": "code",
      "metadata": {
        "colab": {
          "base_uri": "https://localhost:8080/",
          "height": 3533
        },
        "id": "w20yU7MNRUDI",
        "outputId": "6760f4af-c14c-406a-b118-181f9b5ac7b8"
      },
      "source": [
        "from matplotlib import pyplot as plt\r\n",
        "#%matplotlib inline\r\n",
        "\r\n",
        "features = ['Pregnancies','Glucose','BloodPressure','SkinThickness','Insulin','BMI','DiabetesPedigreeFunction','Age']\r\n",
        "for col in features:\r\n",
        "    diabetes.boxplot(column=col, by='Outcome', figsize=(6,6))\r\n",
        "    plt.title(col)\r\n",
        "plt.show()"
      ],
      "execution_count": 13,
      "outputs": [
        {
          "output_type": "stream",
          "text": [
            "/usr/local/lib/python3.6/dist-packages/numpy/core/_asarray.py:83: VisibleDeprecationWarning: Creating an ndarray from ragged nested sequences (which is a list-or-tuple of lists-or-tuples-or ndarrays with different lengths or shapes) is deprecated. If you meant to do this, you must specify 'dtype=object' when creating the ndarray\n",
            "  return array(a, dtype, copy=False, order=order)\n",
            "/usr/local/lib/python3.6/dist-packages/numpy/core/_asarray.py:83: VisibleDeprecationWarning: Creating an ndarray from ragged nested sequences (which is a list-or-tuple of lists-or-tuples-or ndarrays with different lengths or shapes) is deprecated. If you meant to do this, you must specify 'dtype=object' when creating the ndarray\n",
            "  return array(a, dtype, copy=False, order=order)\n",
            "/usr/local/lib/python3.6/dist-packages/numpy/core/_asarray.py:83: VisibleDeprecationWarning: Creating an ndarray from ragged nested sequences (which is a list-or-tuple of lists-or-tuples-or ndarrays with different lengths or shapes) is deprecated. If you meant to do this, you must specify 'dtype=object' when creating the ndarray\n",
            "  return array(a, dtype, copy=False, order=order)\n",
            "/usr/local/lib/python3.6/dist-packages/numpy/core/_asarray.py:83: VisibleDeprecationWarning: Creating an ndarray from ragged nested sequences (which is a list-or-tuple of lists-or-tuples-or ndarrays with different lengths or shapes) is deprecated. If you meant to do this, you must specify 'dtype=object' when creating the ndarray\n",
            "  return array(a, dtype, copy=False, order=order)\n",
            "/usr/local/lib/python3.6/dist-packages/numpy/core/_asarray.py:83: VisibleDeprecationWarning: Creating an ndarray from ragged nested sequences (which is a list-or-tuple of lists-or-tuples-or ndarrays with different lengths or shapes) is deprecated. If you meant to do this, you must specify 'dtype=object' when creating the ndarray\n",
            "  return array(a, dtype, copy=False, order=order)\n",
            "/usr/local/lib/python3.6/dist-packages/numpy/core/_asarray.py:83: VisibleDeprecationWarning: Creating an ndarray from ragged nested sequences (which is a list-or-tuple of lists-or-tuples-or ndarrays with different lengths or shapes) is deprecated. If you meant to do this, you must specify 'dtype=object' when creating the ndarray\n",
            "  return array(a, dtype, copy=False, order=order)\n",
            "/usr/local/lib/python3.6/dist-packages/numpy/core/_asarray.py:83: VisibleDeprecationWarning: Creating an ndarray from ragged nested sequences (which is a list-or-tuple of lists-or-tuples-or ndarrays with different lengths or shapes) is deprecated. If you meant to do this, you must specify 'dtype=object' when creating the ndarray\n",
            "  return array(a, dtype, copy=False, order=order)\n",
            "/usr/local/lib/python3.6/dist-packages/numpy/core/_asarray.py:83: VisibleDeprecationWarning: Creating an ndarray from ragged nested sequences (which is a list-or-tuple of lists-or-tuples-or ndarrays with different lengths or shapes) is deprecated. If you meant to do this, you must specify 'dtype=object' when creating the ndarray\n",
            "  return array(a, dtype, copy=False, order=order)\n"
          ],
          "name": "stderr"
        },
        {
          "output_type": "display_data",
          "data": {
            "image/png": "[encoded data removed]",
            "text/plain": [
              "<Figure size 432x432 with 1 Axes>"
            ]
          },
          "metadata": {
            "tags": [],
            "needs_background": "light"
          }
        },
        {
          "output_type": "display_data",
          "data": {
            "image/png": "[encoded data removed]",
            "text/plain": [
              "<Figure size 432x432 with 1 Axes>"
            ]
          },
          "metadata": {
            "tags": [],
            "needs_background": "light"
          }
        },
        {
          "output_type": "display_data",
          "data": {
            "image/png": "[encoded data removed]",
            "text/plain": [
              "<Figure size 432x432 with 1 Axes>"
            ]
          },
          "metadata": {
            "tags": [],
            "needs_background": "light"
          }
        },
        {
          "output_type": "display_data",
          "data": {
            "image/png": "[encoded data removed]",
            "text/plain": [
              "<Figure size 432x432 with 1 Axes>"
            ]
          },
          "metadata": {
            "tags": [],
            "needs_background": "light"
          }
        },
        {
          "output_type": "display_data",
          "data": {
            "image/png": "[encoded data removed]",
            "text/plain": [
              "<Figure size 432x432 with 1 Axes>"
            ]
          },
          "metadata": {
            "tags": [],
            "needs_background": "light"
          }
        },
        {
          "output_type": "display_data",
          "data": {
            "image/png": "[encoded data removed]",
            "text/plain": [
              "<Figure size 432x432 with 1 Axes>"
            ]
          },
          "metadata": {
            "tags": [],
            "needs_background": "light"
          }
        },
        {
          "output_type": "display_data",
          "data": {
            "image/png": "[encoded data removed]",
            "text/plain": [
              "<Figure size 432x432 with 1 Axes>"
            ]
          },
          "metadata": {
            "tags": [],
            "needs_background": "light"
          }
        },
        {
          "output_type": "display_data",
          "data": {
            "image/png": "[encoded data removed]",
            "text/plain": [
              "<Figure size 432x432 with 1 Axes>"
            ]
          },
          "metadata": {
            "tags": [],
            "needs_background": "light"
          }
        }
      ]
    },
    {
      "cell_type": "code",
      "metadata": {
        "id": "s8zr6dW_SnAF"
      },
      "source": [
        "# بدايه تقسيم البيانات "
      ],
      "execution_count": 14,
      "outputs": []
    },
    {
      "cell_type": "code",
      "metadata": {
        "colab": {
          "base_uri": "https://localhost:8080/",
          "height": 0
        },
        "id": "6ptPuRTUTk0L",
        "outputId": "c01a9c53-823c-45f9-d61c-ff4891c9b228"
      },
      "source": [
        "from sklearn.model_selection import train_test_split\r\n",
        "\r\n",
        "# Split data 70%-30% into training set and test set\r\n",
        "X_train, X_test, y_train, y_test = train_test_split(X, y, test_size=0.30, random_state=0)\r\n",
        "\r\n",
        "print ('Training cases: %d\\nTest cases: %d' % (X_train.shape[0], X_test.shape[0]))\r\n",
        "# نلاحظ ان عدد الصفوف لدينا يساوي 2000"
      ],
      "execution_count": 15,
      "outputs": [
        {
          "output_type": "stream",
          "text": [
            "Training cases: 1400\n",
            "Test cases: 600\n"
          ],
          "name": "stdout"
        }
      ]
    },
    {
      "cell_type": "code",
      "metadata": {
        "id": "QDRkDOE4T6Zr"
      },
      "source": [
        "# بدايه تدريب النموذج "
      ],
      "execution_count": 16,
      "outputs": []
    },
    {
      "cell_type": "code",
      "metadata": {
        "colab": {
          "base_uri": "https://localhost:8080/",
          "height": 0
        },
        "id": "wBrIdEjqUeuT",
        "outputId": "065156ef-9a2e-474f-b451-bbefd2353131"
      },
      "source": [
        "\r\n",
        "# Train the model\r\n",
        "from sklearn.linear_model import LogisticRegression\r\n",
        "\r\n",
        "# Set regularization rate\r\n",
        "reg = 0.01\r\n",
        "\r\n",
        "# train a logistic regression model on the training set\r\n",
        "model = LogisticRegression(C=1/reg, solver=\"liblinear\").fit(X_train, y_train)\r\n",
        "print (model)"
      ],
      "execution_count": 17,
      "outputs": [
        {
          "output_type": "stream",
          "text": [
            "LogisticRegression(C=100.0, class_weight=None, dual=False, fit_intercept=True,\n",
            "                   intercept_scaling=1, l1_ratio=None, max_iter=100,\n",
            "                   multi_class='auto', n_jobs=None, penalty='l2',\n",
            "                   random_state=None, solver='liblinear', tol=0.0001, verbose=0,\n",
            "                   warm_start=False)\n"
          ],
          "name": "stdout"
        }
      ]
    },
    {
      "cell_type": "code",
      "metadata": {
        "colab": {
          "base_uri": "https://localhost:8080/",
          "height": 0
        },
        "id": "kB5_ebljUf5T",
        "outputId": "d4c004e9-20e8-432d-83b1-35480b5c036b"
      },
      "source": [
        "# بدايه الاختبار للموذج والتي تم الاحتفاظ بها في الاكس تست \r\n",
        "predictions = model.predict(X_test)\r\n",
        "print('Predicted labels: ', predictions)\r\n",
        "print('Actual labels:    ' ,y_test)"
      ],
      "execution_count": 18,
      "outputs": [
        {
          "output_type": "stream",
          "text": [
            "Predicted labels:  [0 0 1 0 1 0 0 0 1 0 0 1 0 0 0 0 0 0 0 1 1 0 0 0 0 0 0 1 0 1 0 1 0 1 0 1 1\n",
            " 0 0 0 0 0 0 1 0 0 1 0 1 0 0 0 0 1 0 0 0 0 0 0 0 0 0 0 0 0 0 0 1 0 0 0 0 0\n",
            " 0 1 0 0 1 0 0 0 0 1 0 0 0 1 1 0 1 1 1 0 1 0 0 0 0 0 0 1 0 1 0 0 0 0 0 1 0\n",
            " 1 0 0 0 1 0 0 1 0 1 0 0 0 0 0 0 1 0 0 0 0 0 1 0 0 0 0 0 0 0 0 0 0 0 0 1 0\n",
            " 1 0 0 0 1 0 0 0 0 0 0 1 0 0 0 0 0 1 0 0 0 0 0 0 0 0 1 0 0 0 1 0 1 0 0 0 0\n",
            " 1 0 1 0 1 0 0 1 0 0 0 0 0 0 0 1 0 1 0 0 1 1 0 0 0 0 1 0 0 1 0 0 1 0 1 0 0\n",
            " 0 0 0 0 0 0 1 1 0 0 0 0 0 0 0 1 0 0 0 0 0 0 0 0 1 0 0 1 0 0 0 1 0 1 0 0 0\n",
            " 1 0 0 0 1 0 1 1 0 0 0 0 1 0 0 1 1 0 1 1 1 0 0 0 1 1 0 0 0 1 0 0 1 0 0 0 0\n",
            " 0 0 0 0 0 0 0 0 1 0 0 0 0 0 1 0 0 0 0 0 1 1 1 0 0 0 1 1 0 1 0 0 0 0 0 0 0\n",
            " 0 1 0 1 0 1 0 0 1 0 1 0 0 0 0 0 0 1 0 0 1 0 1 0 0 0 0 0 0 0 0 0 0 0 0 0 0\n",
            " 0 0 0 1 0 0 0 1 0 0 0 0 0 1 0 0 0 0 0 0 1 0 0 1 1 0 1 0 0 0 1 1 0 0 1 0 0\n",
            " 0 0 0 0 1 0 1 0 0 1 0 0 0 1 0 1 0 1 1 1 0 0 0 1 0 0 0 0 0 0 1 0 0 0 0 0 0\n",
            " 0 0 0 1 0 0 0 0 0 1 1 0 1 0 0 1 0 0 0 0 1 0 0 0 0 0 1 0 0 1 0 0 0 0 0 1 0\n",
            " 0 0 0 1 0 0 0 0 0 1 0 0 0 0 0 0 0 0 1 1 0 0 0 1 0 0 0 0 0 1 1 0 1 1 0 0 1\n",
            " 0 0 1 1 0 1 1 1 1 0 0 0 1 0 0 1 1 1 0 0 0 0 0 1 0 0 0 1 0 0 1 0 0 0 0 0 1\n",
            " 0 0 0 0 0 0 0 0 0 0 0 1 1 0 1 0 0 0 0 0 0 0 1 0 0 0 1 0 0 0 1 0 1 0 0 0 0\n",
            " 0 1 0 0 0 0 0 1]\n",
            "Actual labels:     [0 0 1 1 1 0 0 0 0 0 0 1 0 0 0 0 0 0 1 1 1 1 0 0 0 1 0 1 0 1 1 1 0 1 0 1 0\n",
            " 0 0 0 0 0 1 0 1 0 0 0 1 1 0 0 0 1 0 0 0 0 0 0 0 0 0 0 0 0 1 0 1 0 1 0 0 0\n",
            " 0 1 0 0 0 0 0 0 0 1 0 0 0 0 0 1 1 0 0 1 1 0 0 0 1 1 0 1 0 0 1 0 0 0 0 1 1\n",
            " 1 0 0 0 1 0 0 1 0 1 0 0 0 0 0 0 1 0 0 0 0 0 1 0 0 0 0 0 0 0 0 1 0 0 0 1 0\n",
            " 1 0 1 0 1 0 0 0 1 0 0 1 1 0 1 0 0 0 0 1 1 1 0 0 1 1 0 1 0 0 0 0 0 0 0 0 0\n",
            " 1 0 1 0 1 0 0 1 0 1 0 0 0 1 0 1 1 0 1 0 1 1 0 0 0 0 0 0 1 1 0 0 1 0 0 1 1\n",
            " 0 0 0 0 0 0 0 1 0 0 0 1 0 0 1 1 0 1 0 0 1 1 0 0 1 0 0 1 1 0 0 1 0 1 0 0 0\n",
            " 1 0 0 0 1 0 1 1 0 0 0 0 1 1 0 1 0 0 0 1 0 0 1 1 1 1 0 1 0 1 0 0 1 0 0 0 0\n",
            " 0 0 0 0 0 0 0 0 1 0 0 0 0 0 1 0 1 1 0 0 1 1 0 0 0 0 0 0 0 0 0 0 0 0 0 0 0\n",
            " 0 0 0 1 0 1 0 0 0 0 0 0 0 0 0 1 0 0 0 0 1 0 1 0 0 0 0 0 0 0 0 0 1 0 0 1 0\n",
            " 1 0 1 1 1 0 0 1 0 0 0 0 1 1 0 1 0 0 0 1 1 0 1 1 0 1 1 1 1 0 0 1 1 0 1 0 1\n",
            " 0 0 0 0 1 0 1 0 0 1 1 0 0 1 0 1 0 1 0 1 0 0 0 0 0 1 1 0 0 1 1 1 0 0 1 0 0\n",
            " 0 0 0 1 0 0 1 0 0 1 1 0 0 0 0 1 0 1 0 0 1 0 0 0 0 0 1 1 1 1 1 0 1 0 1 1 1\n",
            " 0 0 0 0 0 0 0 1 1 1 0 0 0 0 0 0 0 1 0 1 0 0 0 1 0 0 0 0 0 1 1 1 0 1 0 1 1\n",
            " 0 0 1 0 1 1 1 1 0 0 0 1 1 0 0 1 1 0 0 0 0 0 1 1 0 0 0 1 0 1 0 1 0 0 0 0 1\n",
            " 1 0 0 0 0 0 0 1 0 0 1 1 1 0 1 0 0 0 0 0 0 0 1 0 0 0 1 0 1 0 1 1 1 0 0 0 0\n",
            " 0 0 0 0 0 0 1 1]\n"
          ],
          "name": "stdout"
        }
      ]
    },
    {
      "cell_type": "code",
      "metadata": {
        "colab": {
          "base_uri": "https://localhost:8080/",
          "height": 0
        },
        "id": "1lRDT__pUyHq",
        "outputId": "d7e9ce3a-f0e3-47c4-806a-18d672250bc1"
      },
      "source": [
        "# لمقارنه التنبؤات بشكل افضل \r\n",
        "from sklearn.metrics import accuracy_score\r\n",
        "\r\n",
        "print('Accuracy: ', accuracy_score(y_test, predictions))"
      ],
      "execution_count": 19,
      "outputs": [
        {
          "output_type": "stream",
          "text": [
            "Accuracy:  0.7783333333333333\n"
          ],
          "name": "stdout"
        }
      ]
    },
    {
      "cell_type": "code",
      "metadata": {
        "colab": {
          "base_uri": "https://localhost:8080/",
          "height": 0
        },
        "id": "Nxcy0-Y4VFFL",
        "outputId": "2afb11e6-87d5-4467-a24c-837af8ac123d"
      },
      "source": [
        "# لحسن الحظ ، هناك بعض المقاييس الأخرى التي تكشف المزيد عن كيفية أداء نموذجنا. يتضمن\r\n",
        "# Scikit-Learn القدرة على إنشاء تقرير تصنيف يوفر رؤية أكثر من الدقة الأولية وحدها. \r\n",
        "from sklearn. metrics import classification_report\r\n",
        "\r\n",
        "print(classification_report(y_test, predictions))\r\n",
        "\r\n",
        "#Precision: Of the predictions the model made for this class, what proportion were correct?\r\n",
        "#Recall: Out of all of the instances of this class in the test dataset, how many did the model identify?\r\n",
        "#F1-Score: An average metric that takes both precision and recall into account.\r\n",
        "#Support: How many instances of this class are there in the test dataset?\r\n",
        "#الدقة : ما هي النسبة الصحيحة من التنبؤات التي قدمها النموذج لهذه الفئة؟\r\n",
        "# أذكر : من بين جميع مثيلات هذه الفئة في مجموعة بيانات الاختبار ، كم عددًا حددها النموذج؟\r\n",
        "#F1- نقاط: مقياس متوسط يأخذ الدقة والاسترجاع في الاعتبار.\r\n",
        "# الدعم : كم عدد حالات هذه الفئة الموجودة في مجموعة بيانات الاختبار؟"
      ],
      "execution_count": 20,
      "outputs": [
        {
          "output_type": "stream",
          "text": [
            "              precision    recall  f1-score   support\n",
            "\n",
            "           0       0.80      0.89      0.84       397\n",
            "           1       0.73      0.55      0.63       203\n",
            "\n",
            "    accuracy                           0.78       600\n",
            "   macro avg       0.76      0.72      0.73       600\n",
            "weighted avg       0.77      0.78      0.77       600\n",
            "\n"
          ],
          "name": "stdout"
        }
      ]
    },
    {
      "cell_type": "code",
      "metadata": {
        "colab": {
          "base_uri": "https://localhost:8080/",
          "height": 0
        },
        "id": "XbSrxTr4VlfL",
        "outputId": "a4dee346-c1fe-40f2-bfcc-b1cdd481a574"
      },
      "source": [
        "from sklearn.metrics import precision_score, recall_score\r\n",
        "\r\n",
        "print(\"Overall Precision:\",precision_score(y_test, predictions))\r\n",
        "print(\"Overall Recall:\",recall_score(y_test, predictions))"
      ],
      "execution_count": 21,
      "outputs": [
        {
          "output_type": "stream",
          "text": [
            "Overall Precision: 0.7272727272727273\n",
            "Overall Recall: 0.5517241379310345\n"
          ],
          "name": "stdout"
        }
      ]
    },
    {
      "cell_type": "code",
      "metadata": {
        "colab": {
          "base_uri": "https://localhost:8080/",
          "height": 0
        },
        "id": "zwdRaxyiWxUj",
        "outputId": "7320efaa-bf96-482b-9720-faf26deede46"
      },
      "source": [
        "# مصفوفه التشتت\r\n",
        "\r\n",
        "from sklearn.metrics import confusion_matrix\r\n",
        "\r\n",
        "# Print the confusion matrix\r\n",
        "cm = confusion_matrix(y_test, predictions)\r\n",
        "print (cm)"
      ],
      "execution_count": 22,
      "outputs": [
        {
          "output_type": "stream",
          "text": [
            "[[355  42]\n",
            " [ 91 112]]\n"
          ],
          "name": "stdout"
        }
      ]
    },
    {
      "cell_type": "code",
      "metadata": {
        "colab": {
          "base_uri": "https://localhost:8080/",
          "height": 0
        },
        "id": "LPZsaQ-PW99j",
        "outputId": "f3ef2a1e-88be-4921-8c2e-144cd99fa4b8"
      },
      "source": [
        "# احتمال ان الاجابه صحيحه ما بين خانتين\r\n",
        "y_scores = model.predict_proba(X_test)\r\n",
        "print(y_scores)"
      ],
      "execution_count": 23,
      "outputs": [
        {
          "output_type": "stream",
          "text": [
            "[[0.56929266 0.43070734]\n",
            " [0.87587148 0.12412852]\n",
            " [0.19195568 0.80804432]\n",
            " ...\n",
            " [0.85500247 0.14499753]\n",
            " [0.68629617 0.31370383]\n",
            " [0.2741836  0.7258164 ]]\n"
          ],
          "name": "stdout"
        }
      ]
    },
    {
      "cell_type": "markdown",
      "metadata": {
        "id": "Q9SUNGfAXuDl"
      },
      "source": [
        "تتمثل إحدى الطرق الشائعة لتقييم المصنف في فحص المعدل الإيجابي الحقيقي (وهو اسم آخر للتذكر) والمعدل الإيجابي الخاطئ لمجموعة من العتبات المحتملة. ثم يتم رسم هذه الأسعار مقابل جميع العتبات الممكنة لتشكيل مخطط يُعرف باسم مخطط خصائص عامل التشغيل المستلم (ROC) ، مثل هذا:\r\n",
        "A common way to evaluate a classifier is to examine the true positive rate (which is another name for recall) and the false positive rate for a range of possible thresholds. These rates are then plotted against all possible thresholds to form a chart known as a received operator characteristic (ROC) chart, like this:"
      ]
    },
    {
      "cell_type": "code",
      "metadata": {
        "colab": {
          "base_uri": "https://localhost:8080/",
          "height": 404
        },
        "id": "j0iMZKWlXOSM",
        "outputId": "c3c43533-8b1d-486e-b4fd-6634cc2b9cad"
      },
      "source": [
        "from sklearn.metrics import roc_curve\r\n",
        "from sklearn.metrics import confusion_matrix\r\n",
        "import matplotlib\r\n",
        "import matplotlib.pyplot as plt\r\n",
        "%matplotlib inline\r\n",
        "\r\n",
        "# calculate ROC curve\r\n",
        "fpr, tpr, thresholds = roc_curve(y_test, y_scores[:,1])\r\n",
        "\r\n",
        "# plot ROC curve\r\n",
        "fig = plt.figure(figsize=(6, 6))\r\n",
        "# Plot the diagonal 50% line\r\n",
        "plt.plot([0, 1], [0, 1], 'k--')\r\n",
        "# Plot the FPR and TPR achieved by our model\r\n",
        "plt.plot(fpr, tpr)\r\n",
        "plt.xlabel('False Positive Rate')\r\n",
        "plt.ylabel('True Positive Rate')\r\n",
        "plt.title('ROC Curve')\r\n",
        "plt.show()"
      ],
      "execution_count": 24,
      "outputs": [
        {
          "output_type": "display_data",
          "data": {
            "image/png": "[encoded data removed]",
            "text/plain": [
              "<Figure size 432x432 with 1 Axes>"
            ]
          },
          "metadata": {
            "tags": [],
            "needs_background": "light"
          }
        }
      ]
    },
    {
      "cell_type": "markdown",
      "metadata": {
        "id": "yeJlGQKfYI4X"
      },
      "source": [
        "المنطقة الواقعة تحت المنحنى (AUC) هي قيمة بين 0 و 1 تحدد الأداء العام للنموذج. كلما كانت هذه القيمة أقرب إلى 1 ، كان النموذج أفضل. مرة أخرى ، يتضمن scikit-Learn وظيفة لحساب هذا المقياس. "
      ]
    },
    {
      "cell_type": "code",
      "metadata": {
        "colab": {
          "base_uri": "https://localhost:8080/",
          "height": 0
        },
        "id": "z_FwfXaHXdp0",
        "outputId": "00a96cf0-83e0-4b41-f0a3-e0a304a00bba"
      },
      "source": [
        "from sklearn.metrics import roc_auc_score\r\n",
        "\r\n",
        "auc = roc_auc_score(y_test,y_scores[:,1])\r\n",
        "print('AUC: ' + str(auc))"
      ],
      "execution_count": 25,
      "outputs": [
        {
          "output_type": "stream",
          "text": [
            "AUC: 0.8447593403729944\n"
          ],
          "name": "stdout"
        }
      ]
    },
    {
      "cell_type": "markdown",
      "metadata": {
        "id": "I-s7ZqinZJsi"
      },
      "source": [
        "In practice, it's common to perform some preprocessing of the data to make it easier for the algorithm to fit a model to it. There's a huge range of preprocessing transformations you can perform to get your data ready for modeling, but we'll limit ourselves to a few common techniques:\r\n",
        "\r\n",
        "Scaling numeric features so they're on the same scale. This prevents features with large values from producing coefficients that disproportionately affect the predictions.\r\n",
        "Encoding categorical variables. For example, by using a one hot encoding technique you can create individual binary (true/false) features for each possible category value."
      ]
    },
    {
      "cell_type": "code",
      "metadata": {
        "colab": {
          "base_uri": "https://localhost:8080/",
          "height": 0
        },
        "id": "-TOOKIt3YZj-",
        "outputId": "5ffa2425-46a8-4b3b-8912-c67ddf5bca8e"
      },
      "source": [
        "# لرفع الكفاءه للخوارزم يجب عمل معالجه للبيانات بشكل افضل واكثر \r\n",
        "\r\n",
        "# Train the model\r\n",
        "from sklearn.compose import ColumnTransformer\r\n",
        "from sklearn.pipeline import Pipeline\r\n",
        "from sklearn.preprocessing import StandardScaler, OneHotEncoder\r\n",
        "from sklearn.linear_model import LogisticRegression\r\n",
        "import numpy as np\r\n",
        "\r\n",
        "# Define preprocessing for numeric columns (normalize them so they're on the same scale)\r\n",
        "numeric_features = [0,1,2,3,4,5,6]\r\n",
        "numeric_transformer = Pipeline(steps=[\r\n",
        "    ('scaler', StandardScaler())])\r\n",
        "\r\n",
        "# Define preprocessing for categorical features (encode the Age column)\r\n",
        "categorical_features = [7]\r\n",
        "categorical_transformer = Pipeline(steps=[\r\n",
        "    ('onehot', OneHotEncoder(handle_unknown='ignore'))])\r\n",
        "\r\n",
        "# Combine preprocessing steps\r\n",
        "preprocessor = ColumnTransformer(\r\n",
        "    transformers=[\r\n",
        "        ('num', numeric_transformer, numeric_features),\r\n",
        "        ('cat', categorical_transformer, categorical_features)])\r\n",
        "\r\n",
        "# Create preprocessing and training pipeline\r\n",
        "pipeline = Pipeline(steps=[('preprocessor', preprocessor),\r\n",
        "                           ('logregressor', LogisticRegression(C=1/reg, solver=\"liblinear\"))])\r\n",
        "\r\n",
        "\r\n",
        "# fit the pipeline to train a logistic regression model on the training set\r\n",
        "model = pipeline.fit(X_train, (y_train))\r\n",
        "print (model)"
      ],
      "execution_count": 26,
      "outputs": [
        {
          "output_type": "stream",
          "text": [
            "Pipeline(memory=None,\n",
            "         steps=[('preprocessor',\n",
            "                 ColumnTransformer(n_jobs=None, remainder='drop',\n",
            "                                   sparse_threshold=0.3,\n",
            "                                   transformer_weights=None,\n",
            "                                   transformers=[('num',\n",
            "                                                  Pipeline(memory=None,\n",
            "                                                           steps=[('scaler',\n",
            "                                                                   StandardScaler(copy=True,\n",
            "                                                                                  with_mean=True,\n",
            "                                                                                  with_std=True))],\n",
            "                                                           verbose=False),\n",
            "                                                  [0, 1, 2, 3, 4, 5, 6]),\n",
            "                                                 ('cat',\n",
            "                                                  Pipeline(memory=None,\n",
            "                                                           steps=[('onehot',\n",
            "                                                                   OneHotEncoder(catego...\n",
            "                                                                                 handle_unknown='ignore',\n",
            "                                                                                 sparse=True))],\n",
            "                                                           verbose=False),\n",
            "                                                  [7])],\n",
            "                                   verbose=False)),\n",
            "                ('logregressor',\n",
            "                 LogisticRegression(C=100.0, class_weight=None, dual=False,\n",
            "                                    fit_intercept=True, intercept_scaling=1,\n",
            "                                    l1_ratio=None, max_iter=100,\n",
            "                                    multi_class='auto', n_jobs=None,\n",
            "                                    penalty='l2', random_state=None,\n",
            "                                    solver='liblinear', tol=0.0001, verbose=0,\n",
            "                                    warm_start=False))],\n",
            "         verbose=False)\n"
          ],
          "name": "stdout"
        }
      ]
    },
    {
      "cell_type": "markdown",
      "metadata": {
        "id": "Nh939Dn2aJIH"
      },
      "source": [
        "دعنا نستخدم النموذج الذي تم تدريبه بواسطة خط الأنابيب هذا للتنبؤ بتسميات مجموعة الاختبار الخاصة بنا ، ومقارنة مقاييس الأداء بالنموذج الأساسي الذي أنشأناه سابقًا.\r\n"
      ]
    },
    {
      "cell_type": "code",
      "metadata": {
        "colab": {
          "base_uri": "https://localhost:8080/",
          "height": 540
        },
        "id": "KBtSEyUHZ64G",
        "outputId": "4ff47862-b4b5-4246-8dfd-a9e097338bd4"
      },
      "source": [
        "# Get predictions from test data\r\n",
        "predictions = model.predict(X_test)\r\n",
        "y_scores = model.predict_proba(X_test)\r\n",
        "\r\n",
        "# Get evaluation metrics\r\n",
        "cm = confusion_matrix(y_test, predictions)\r\n",
        "print ('Confusion Matrix:\\n',cm, '\\n')\r\n",
        "print('Accuracy:', accuracy_score(y_test, predictions))\r\n",
        "print(\"Overall Precision:\",precision_score(y_test, predictions))\r\n",
        "print(\"Overall Recall:\",recall_score(y_test, predictions))\r\n",
        "auc = roc_auc_score(y_test,y_scores[:,1])\r\n",
        "print('AUC: ' + str(auc))\r\n",
        "\r\n",
        "# calculate ROC curve\r\n",
        "fpr, tpr, thresholds = roc_curve(y_test, y_scores[:,1])\r\n",
        "\r\n",
        "# plot ROC curve\r\n",
        "fig = plt.figure(figsize=(6, 6))\r\n",
        "# Plot the diagonal 50% line\r\n",
        "plt.plot([0, 1], [0, 1], 'k--')\r\n",
        "# Plot the FPR and TPR achieved by our model\r\n",
        "plt.plot(fpr, tpr)\r\n",
        "plt.xlabel('False Positive Rate')\r\n",
        "plt.ylabel('True Positive Rate')\r\n",
        "plt.title('ROC Curve')\r\n",
        "plt.show()"
      ],
      "execution_count": 27,
      "outputs": [
        {
          "output_type": "stream",
          "text": [
            "Confusion Matrix:\n",
            " [[357  40]\n",
            " [ 77 126]] \n",
            "\n",
            "Accuracy: 0.805\n",
            "Overall Precision: 0.7590361445783133\n",
            "Overall Recall: 0.6206896551724138\n",
            "AUC: 0.8652082738767355\n"
          ],
          "name": "stdout"
        },
        {
          "output_type": "display_data",
          "data": {
            "image/png": "[encoded data removed]",
            "text/plain": [
              "<Figure size 432x432 with 1 Axes>"
            ]
          },
          "metadata": {
            "tags": [],
            "needs_background": "light"
          }
        }
      ]
    },
    {
      "cell_type": "code",
      "metadata": {
        "id": "2fqVXwaqaOjk"
      },
      "source": [
        "# Try a different algorithm "
      ],
      "execution_count": 28,
      "outputs": []
    },
    {
      "cell_type": "markdown",
      "metadata": {
        "id": "1P_RpjgSapvf"
      },
      "source": [
        "Support Vector Machine algorithms: Algorithms that define a hyperplane that separates classes.\r\n",
        "Tree-based algorithms: Algorithms that build a decision tree to reach a prediction\r\n",
        "Ensemble algorithms: Algorithms that combine the outputs of multiple base algorithms to improve generalizability."
      ]
    },
    {
      "cell_type": "code",
      "metadata": {
        "colab": {
          "base_uri": "https://localhost:8080/",
          "height": 0
        },
        "id": "BI1yP05Pad6U",
        "outputId": "dbe847c9-e4c0-4fde-d0c7-29f583f434d1"
      },
      "source": [
        "\r\n",
        "from sklearn.ensemble import RandomForestClassifier\r\n",
        "\r\n",
        "# Create preprocessing and training pipeline\r\n",
        "pipeline = Pipeline(steps=[('preprocessor', preprocessor),\r\n",
        "                           ('logregressor', RandomForestClassifier(n_estimators=100))])\r\n",
        "\r\n",
        "# fit the pipeline to train a random forest model on the training set\r\n",
        "model = pipeline.fit(X_train, (y_train))\r\n",
        "print (model)"
      ],
      "execution_count": 29,
      "outputs": [
        {
          "output_type": "stream",
          "text": [
            "Pipeline(memory=None,\n",
            "         steps=[('preprocessor',\n",
            "                 ColumnTransformer(n_jobs=None, remainder='drop',\n",
            "                                   sparse_threshold=0.3,\n",
            "                                   transformer_weights=None,\n",
            "                                   transformers=[('num',\n",
            "                                                  Pipeline(memory=None,\n",
            "                                                           steps=[('scaler',\n",
            "                                                                   StandardScaler(copy=True,\n",
            "                                                                                  with_mean=True,\n",
            "                                                                                  with_std=True))],\n",
            "                                                           verbose=False),\n",
            "                                                  [0, 1, 2, 3, 4, 5, 6]),\n",
            "                                                 ('cat',\n",
            "                                                  Pipeline(memory=None,\n",
            "                                                           steps=[('onehot',\n",
            "                                                                   OneHotEncoder(catego...\n",
            "                 RandomForestClassifier(bootstrap=True, ccp_alpha=0.0,\n",
            "                                        class_weight=None, criterion='gini',\n",
            "                                        max_depth=None, max_features='auto',\n",
            "                                        max_leaf_nodes=None, max_samples=None,\n",
            "                                        min_impurity_decrease=0.0,\n",
            "                                        min_impurity_split=None,\n",
            "                                        min_samples_leaf=1, min_samples_split=2,\n",
            "                                        min_weight_fraction_leaf=0.0,\n",
            "                                        n_estimators=100, n_jobs=None,\n",
            "                                        oob_score=False, random_state=None,\n",
            "                                        verbose=0, warm_start=False))],\n",
            "         verbose=False)\n"
          ],
          "name": "stdout"
        }
      ]
    },
    {
      "cell_type": "code",
      "metadata": {
        "colab": {
          "base_uri": "https://localhost:8080/",
          "height": 557
        },
        "id": "b9OY6jnsbKUY",
        "outputId": "6922026e-4bbd-49e3-af03-82ce7109085a"
      },
      "source": [
        "# القاء نظره علي مقاييس الاداء \r\n",
        "predictions = model.predict(X_test)\r\n",
        "y_scores = model.predict_proba(X_test)\r\n",
        "cm = confusion_matrix(y_test, predictions)\r\n",
        "print ('Confusion Matrix:\\n',cm, '\\n')\r\n",
        "print('Accuracy:', accuracy_score(y_test, predictions))\r\n",
        "print(\"Overall Precision:\",precision_score(y_test, predictions))\r\n",
        "print(\"Overall Recall:\",recall_score(y_test, predictions))\r\n",
        "auc = roc_auc_score(y_test,y_scores[:,1])\r\n",
        "print('\\nAUC: ' + str(auc))\r\n",
        "\r\n",
        "# calculate ROC curve\r\n",
        "fpr, tpr, thresholds = roc_curve(y_test, y_scores[:,1])\r\n",
        "\r\n",
        "# plot ROC curve\r\n",
        "fig = plt.figure(figsize=(6, 6))\r\n",
        "# Plot the diagonal 50% line\r\n",
        "plt.plot([0, 1], [0, 1], 'k--')\r\n",
        "# Plot the FPR and TPR achieved by our model\r\n",
        "plt.plot(fpr, tpr)\r\n",
        "plt.xlabel('False Positive Rate')\r\n",
        "plt.ylabel('True Positive Rate')\r\n",
        "plt.title('ROC Curve')\r\n",
        "plt.show()"
      ],
      "execution_count": 30,
      "outputs": [
        {
          "output_type": "stream",
          "text": [
            "Confusion Matrix:\n",
            " [[395   2]\n",
            " [ 19 184]] \n",
            "\n",
            "Accuracy: 0.965\n",
            "Overall Precision: 0.989247311827957\n",
            "Overall Recall: 0.9064039408866995\n",
            "\n",
            "AUC: 0.9975369458128079\n"
          ],
          "name": "stdout"
        },
        {
          "output_type": "display_data",
          "data": {
            "image/png": "[encoded data removed]",
            "text/plain": [
              "<Figure size 432x432 with 1 Axes>"
            ]
          },
          "metadata": {
            "tags": [],
            "needs_background": "light"
          }
        }
      ]
    },
    {
      "cell_type": "markdown",
      "metadata": {
        "id": "l5E_RwGsbmm-"
      },
      "source": [
        "Use the Model for Inferencing\r\n",
        "استخدام النموذج للاستدلال\r\n",
        "الآن بعد أن أصبح لدينا نموذجًا مدربًا مفيدًا بشكل معقول ، يمكننا حفظه لاستخدامه لاحقًا للتنبؤ بتسميات البيانات الجديدة:\r\n"
      ]
    },
    {
      "cell_type": "code",
      "metadata": {
        "colab": {
          "base_uri": "https://localhost:8080/",
          "height": 0
        },
        "id": "KqQ3-y4LbVvs",
        "outputId": "bb0f7ffb-f850-4786-f8f4-49fde6380d2a"
      },
      "source": [
        "import joblib\r\n",
        "\r\n",
        "# Save the model as a pickle file\r\n",
        "filename = 'diabetes_model.pkl'\r\n",
        "joblib.dump(model, filename)\r\n",
        "\r\n",
        "# When we have some new observations for which the label is unknown,\r\n",
        "# we can load the model and use it to predict values for the unknown label:\r\n",
        "\r\n"
      ],
      "execution_count": 35,
      "outputs": [
        {
          "output_type": "execute_result",
          "data": {
            "text/plain": [
              "['diabetes_model.pkl']"
            ]
          },
          "metadata": {
            "tags": []
          },
          "execution_count": 35
        }
      ]
    },
    {
      "cell_type": "code",
      "metadata": {
        "colab": {
          "base_uri": "https://localhost:8080/",
          "height": 0
        },
        "id": "ut_AoF1Lb2Jz",
        "outputId": "5189b0b6-a2fc-418a-ab87-cd416296e520"
      },
      "source": [
        "# Load the model from the file\r\n",
        "model = joblib.load(filename)\r\n",
        "\r\n",
        "# predict on a new sample\r\n",
        "# The model accepts an array of feature arrays (so you can predict the classes of multiple patients in a single call)\r\n",
        "# We'll create an array with a single array of features, representing one patient\r\n",
        "X_new = np.array([[2,180,74,24,21,23.9091702,1.488172308,22]])\r\n",
        "print ('New sample: {}'.format(list(X_new[0])))\r\n",
        "\r\n",
        "# Get a prediction\r\n",
        "pred = model.predict(X_new)\r\n",
        "\r\n",
        "# The model returns an array of predictions - one for each set of features submitted\r\n",
        "# In our case, we only submitted one patient, so our prediction is the first one in the resulting array.\r\n",
        "print('Predicted class is {}'.format(pred[0]))"
      ],
      "execution_count": 36,
      "outputs": [
        {
          "output_type": "stream",
          "text": [
            "New sample: [2.0, 180.0, 74.0, 24.0, 21.0, 23.9091702, 1.488172308, 22.0]\n",
            "Predicted class is 0\n"
          ],
          "name": "stdout"
        }
      ]
    },
    {
      "cell_type": "code",
      "metadata": {
        "id": "28M7savgkjEv"
      },
      "source": [
        "# Multiclass Classification"
      ],
      "execution_count": 37,
      "outputs": []
    },
    {
      "cell_type": "code",
      "metadata": {
        "colab": {
          "base_uri": "https://localhost:8080/",
          "height": 396
        },
        "id": "566U17RAlSSI",
        "outputId": "19b04952-4844-4796-fd18-f8c4a7633ca3"
      },
      "source": [
        "import pandas as pd\r\n",
        "\r\n",
        "# load the training dataset\r\n",
        "penguins = pd.read_csv('penguins.csv')\r\n",
        "\r\n",
        "# Display a random sample of 10 observations\r\n",
        "sample = penguins.sample(10)\r\n",
        "sample\r\n",
        "# (10, 9)"
      ],
      "execution_count": 40,
      "outputs": [
        {
          "output_type": "execute_result",
          "data": {
            "text/html": [
              "<div>\n",
              "<style scoped>\n",
              "    .dataframe tbody tr th:only-of-type {\n",
              "        vertical-align: middle;\n",
              "    }\n",
              "\n",
              "    .dataframe tbody tr th {\n",
              "        vertical-align: top;\n",
              "    }\n",
              "\n",
              "    .dataframe thead th {\n",
              "        text-align: right;\n",
              "    }\n",
              "</style>\n",
              "<table border=\"1\" class=\"dataframe\">\n",
              "  <thead>\n",
              "    <tr style=\"text-align: right;\">\n",
              "      <th></th>\n",
              "      <th>Unnamed: 0</th>\n",
              "      <th>species</th>\n",
              "      <th>island</th>\n",
              "      <th>bill_length_mm</th>\n",
              "      <th>bill_depth_mm</th>\n",
              "      <th>flipper_length_mm</th>\n",
              "      <th>body_mass_g</th>\n",
              "      <th>sex</th>\n",
              "      <th>year</th>\n",
              "    </tr>\n",
              "  </thead>\n",
              "  <tbody>\n",
              "    <tr>\n",
              "      <th>105</th>\n",
              "      <td>106</td>\n",
              "      <td>Adelie</td>\n",
              "      <td>Biscoe</td>\n",
              "      <td>39.7</td>\n",
              "      <td>18.9</td>\n",
              "      <td>184.0</td>\n",
              "      <td>3550.0</td>\n",
              "      <td>male</td>\n",
              "      <td>2009</td>\n",
              "    </tr>\n",
              "    <tr>\n",
              "      <th>287</th>\n",
              "      <td>288</td>\n",
              "      <td>Chinstrap</td>\n",
              "      <td>Dream</td>\n",
              "      <td>51.7</td>\n",
              "      <td>20.3</td>\n",
              "      <td>194.0</td>\n",
              "      <td>3775.0</td>\n",
              "      <td>male</td>\n",
              "      <td>2007</td>\n",
              "    </tr>\n",
              "    <tr>\n",
              "      <th>51</th>\n",
              "      <td>52</td>\n",
              "      <td>Adelie</td>\n",
              "      <td>Biscoe</td>\n",
              "      <td>40.1</td>\n",
              "      <td>18.9</td>\n",
              "      <td>188.0</td>\n",
              "      <td>4300.0</td>\n",
              "      <td>male</td>\n",
              "      <td>2008</td>\n",
              "    </tr>\n",
              "    <tr>\n",
              "      <th>217</th>\n",
              "      <td>218</td>\n",
              "      <td>Gentoo</td>\n",
              "      <td>Biscoe</td>\n",
              "      <td>49.8</td>\n",
              "      <td>16.8</td>\n",
              "      <td>230.0</td>\n",
              "      <td>5700.0</td>\n",
              "      <td>male</td>\n",
              "      <td>2008</td>\n",
              "    </tr>\n",
              "    <tr>\n",
              "      <th>249</th>\n",
              "      <td>250</td>\n",
              "      <td>Gentoo</td>\n",
              "      <td>Biscoe</td>\n",
              "      <td>46.9</td>\n",
              "      <td>14.6</td>\n",
              "      <td>222.0</td>\n",
              "      <td>4875.0</td>\n",
              "      <td>female</td>\n",
              "      <td>2009</td>\n",
              "    </tr>\n",
              "    <tr>\n",
              "      <th>10</th>\n",
              "      <td>11</td>\n",
              "      <td>Adelie</td>\n",
              "      <td>Torgersen</td>\n",
              "      <td>37.8</td>\n",
              "      <td>17.1</td>\n",
              "      <td>186.0</td>\n",
              "      <td>3300.0</td>\n",
              "      <td>NaN</td>\n",
              "      <td>2007</td>\n",
              "    </tr>\n",
              "    <tr>\n",
              "      <th>100</th>\n",
              "      <td>101</td>\n",
              "      <td>Adelie</td>\n",
              "      <td>Biscoe</td>\n",
              "      <td>35.0</td>\n",
              "      <td>17.9</td>\n",
              "      <td>192.0</td>\n",
              "      <td>3725.0</td>\n",
              "      <td>female</td>\n",
              "      <td>2009</td>\n",
              "    </tr>\n",
              "    <tr>\n",
              "      <th>237</th>\n",
              "      <td>238</td>\n",
              "      <td>Gentoo</td>\n",
              "      <td>Biscoe</td>\n",
              "      <td>50.8</td>\n",
              "      <td>17.3</td>\n",
              "      <td>228.0</td>\n",
              "      <td>5600.0</td>\n",
              "      <td>male</td>\n",
              "      <td>2009</td>\n",
              "    </tr>\n",
              "    <tr>\n",
              "      <th>151</th>\n",
              "      <td>152</td>\n",
              "      <td>Adelie</td>\n",
              "      <td>Dream</td>\n",
              "      <td>41.5</td>\n",
              "      <td>18.5</td>\n",
              "      <td>201.0</td>\n",
              "      <td>4000.0</td>\n",
              "      <td>male</td>\n",
              "      <td>2009</td>\n",
              "    </tr>\n",
              "    <tr>\n",
              "      <th>97</th>\n",
              "      <td>98</td>\n",
              "      <td>Adelie</td>\n",
              "      <td>Dream</td>\n",
              "      <td>40.3</td>\n",
              "      <td>18.5</td>\n",
              "      <td>196.0</td>\n",
              "      <td>4350.0</td>\n",
              "      <td>male</td>\n",
              "      <td>2008</td>\n",
              "    </tr>\n",
              "  </tbody>\n",
              "</table>\n",
              "</div>"
            ],
            "text/plain": [
              "     Unnamed: 0    species     island  ...  body_mass_g     sex  year\n",
              "105         106     Adelie     Biscoe  ...       3550.0    male  2009\n",
              "287         288  Chinstrap      Dream  ...       3775.0    male  2007\n",
              "51           52     Adelie     Biscoe  ...       4300.0    male  2008\n",
              "217         218     Gentoo     Biscoe  ...       5700.0    male  2008\n",
              "249         250     Gentoo     Biscoe  ...       4875.0  female  2009\n",
              "10           11     Adelie  Torgersen  ...       3300.0     NaN  2007\n",
              "100         101     Adelie     Biscoe  ...       3725.0  female  2009\n",
              "237         238     Gentoo     Biscoe  ...       5600.0    male  2009\n",
              "151         152     Adelie      Dream  ...       4000.0    male  2009\n",
              "97           98     Adelie      Dream  ...       4350.0    male  2008\n",
              "\n",
              "[10 rows x 9 columns]"
            ]
          },
          "metadata": {
            "tags": []
          },
          "execution_count": 40
        }
      ]
    },
    {
      "cell_type": "code",
      "metadata": {
        "id": "kvwxvDuUq8t7"
      },
      "source": [
        "# ما تبقي من الكود هو لمجموعه من البيانات متعدده التصنيف \r\n",
        "# سبق وتدربنا علي هذا النوع كثيرا \r\n",
        "# لذا لن نكمل \r\n"
      ],
      "execution_count": 43,
      "outputs": []
    },
    {
      "cell_type": "code",
      "metadata": {
        "id": "BzR7USEGryHL"
      },
      "source": [
        ""
      ],
      "execution_count": null,
      "outputs": []
    }
  ]
}